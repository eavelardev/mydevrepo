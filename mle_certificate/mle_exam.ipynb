{
 "cells": [
  {
   "cell_type": "code",
   "execution_count": 1,
   "metadata": {},
   "outputs": [],
   "source": [
    "import random\n",
    "from questions import questions"
   ]
  },
  {
   "cell_type": "code",
   "execution_count": 2,
   "metadata": {},
   "outputs": [
    {
     "name": "stdout",
     "output_type": "stream",
     "text": [
      "Number of question: 76\n"
     ]
    }
   ],
   "source": [
    "print(f'Number of question: {len(questions)}')\n",
    "random_questions = random.sample(questions, len(questions))\n",
    "i = -1\n",
    "c = False "
   ]
  },
  {
   "cell_type": "code",
   "execution_count": 3,
   "metadata": {},
   "outputs": [],
   "source": [
    "def get_question(i):\n",
    "    i += 1\n",
    "    i %= len(questions)\n",
    "    question = random_questions[i]\n",
    "    print(question['question'])\n",
    "\n",
    "    options = random.sample(list(question['options'].values()), len(question['options']))\n",
    "    for option in options:\n",
    "        print(f'* {option}\\n')\n",
    "\n",
    "    return i, False"
   ]
  },
  {
   "cell_type": "code",
   "execution_count": 4,
   "metadata": {},
   "outputs": [],
   "source": [
    "def get_answers(i, c):\n",
    "    if c is False:\n",
    "        question = random_questions[i]\n",
    "        if(len(question['answers']) > 0):\n",
    "            answers = random.sample(question['answers'], len(question['answers']))\n",
    "\n",
    "            for letter in answers:\n",
    "                answer = question['options'][letter]\n",
    "                print(f'* {answer}\\n')   \n",
    "\n",
    "            print(question['explanation']) \n",
    "\n",
    "            for reference in question['references']:\n",
    "                print(f'* {reference}')\n",
    "        else:\n",
    "            print('No answer')\n",
    "    else:\n",
    "        print('')\n",
    "    c = not c\n",
    "    \n",
    "    return c"
   ]
  },
  {
   "cell_type": "code",
   "execution_count": 20,
   "metadata": {},
   "outputs": [
    {
     "name": "stdout",
     "output_type": "stream",
     "text": [
      "The data science team has built a DNN model to monitor and detect defective products using the images from the assembly line of an automobile manufacturing company. As a Google ML Engineer, you need to measure the performance of the ML model for the test dataset/images. Which of the following would you choose?\n",
      "\n",
      "* The TP value\n",
      "\n",
      "* The AUC value\n",
      "\n",
      "* The precision value\n",
      "\n",
      "* The recall value\n",
      "\n"
     ]
    }
   ],
   "source": [
    "i, c = get_question(i)"
   ]
  },
  {
   "cell_type": "code",
   "execution_count": 22,
   "metadata": {},
   "outputs": [
    {
     "name": "stdout",
     "output_type": "stream",
     "text": [
      "\n"
     ]
    }
   ],
   "source": [
    "c = get_answers(i, c)"
   ]
  }
 ],
 "metadata": {
  "kernelspec": {
   "display_name": "Python 3.10.6 ('ml_dev')",
   "language": "python",
   "name": "python3"
  },
  "language_info": {
   "codemirror_mode": {
    "name": "ipython",
    "version": 3
   },
   "file_extension": ".py",
   "mimetype": "text/x-python",
   "name": "python",
   "nbconvert_exporter": "python",
   "pygments_lexer": "ipython3",
   "version": "3.10.6"
  },
  "orig_nbformat": 4,
  "vscode": {
   "interpreter": {
    "hash": "3dbb6e28f32ca2376e4f57c81cef85cf88ffd88cbd1c487658c99f00bdea0c93"
   }
  }
 },
 "nbformat": 4,
 "nbformat_minor": 2
}
