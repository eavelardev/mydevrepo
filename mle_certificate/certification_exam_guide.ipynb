{
 "cells": [
  {
   "cell_type": "markdown",
   "metadata": {},
   "source": [
    "# Professional Machine Learning Engineer\n",
    "https://cloud.google.com/certification/machine-learning-engineer"
   ]
  },
  {
   "cell_type": "markdown",
   "metadata": {},
   "source": [
    "Certification exam guide\n",
    "\n",
    "https://cloud.google.com/certification/guides/machine-learning-engineer"
   ]
  },
  {
   "cell_type": "markdown",
   "metadata": {},
   "source": [
    "A Professional Machine Learning Engineer designs, builds, and `productionizes ML models` to solve business challenges using Google Cloud technologies and knowledge of proven ML models and techniques. The ML Engineer considers `responsible AI` throughout the ML development process, and `collaborates closely with other job roles` to `ensure long-term success of models`. The ML Engineer should be proficient in all aspects of `model architecture`, `data pipeline` interaction, and `metrics` interpretation. The ML Engineer needs familiarity with foundational concepts of application development, infrastructure management, `data engineering`, and data governance. Through an understanding of training, retraining, deploying, scheduling, monitoring, and improving models, the ML Engineer designs and creates `scalable solutions` for optimal performance."
   ]
  },
  {
   "cell_type": "markdown",
   "metadata": {},
   "source": [
    "#### Resources"
   ]
  },
  {
   "cell_type": "markdown",
   "metadata": {},
   "source": [
    "* Youtube - [Cloud OnAir: Machine Learning Certification](https://www.youtube.com/watch?v=Dd-RZICTWho) (Nov 19, 2020)\n",
    "\n",
    "* Google Developers - [Google Machine Learning Education](https://developers.google.com/machine-learning)\n",
    "\n",
    "Couses:\n",
    "\n",
    "* Google Cloud Skills Boost - [Machine Learning Engineer Learning Path](https://www.cloudskillsboost.google/paths/17)\n",
    "\n",
    "* Coursera - [Preparing for Google Cloud Certification: Machine Learning Engineer Professional Certificate](https://www.coursera.org/professional-certificates/preparing-for-google-cloud-machine-learning-engineer-professional-certificate)\n",
    "\n",
    "* Udemy - [Google Cloud Machine Learning Engineer Certification Prep](https://www.udemy.com/course/google-cloud-machine-learning-engineer-certification-prep/) (Last updated 9/2022)\n",
    "\n",
    "* Whizlabs - [Google Cloud Certified Professional Machine Learning Engineer](https://www.whizlabs.com/professional-machine-learning-engineer/)\n",
    "\n",
    "Books:\n",
    "* Packt - [Journey to Become a Google Cloud Machine Learning Engineer](https://www.packtpub.com/product/journey-to-become-a-google-cloud-machine-learning-engineer/9781803233727): Build the mind and hand of a Google Certified ML professional - Dr. Logan Song\n",
    "\n",
    "* O'Reilly - [Data Science on the Google Cloud Platform](https://www.oreilly.com/library/view/data-science-on/9781098118945/), 2nd Edition - Valliappa Lakshmanan"
   ]
  },
  {
   "cell_type": "markdown",
   "metadata": {},
   "source": [
    "* Google Cloud Skills Boost - [Machine Learning Engineer Learning Path](https://www.cloudskillsboost.google/paths/17)\n",
    "    * [Lab](https://www.cloudskillsboost.google/focuses/2794) - A Tour of Google Cloud Hands-on Labs\n",
    "    * [Course](https://www.cloudskillsboost.google/course_templates/3) - Google Cloud Big Data and Machine Learning Fundamentals\n",
    "    * [Course](https://www.cloudskillsboost.google/course_templates/10) - How Google Does Machine Learning\n",
    "    * [Course](https://www.cloudskillsboost.google/course_templates/8) - Launching into Machine Learning\n",
    "    * [Course](https://www.cloudskillsboost.google/course_templates/12) - TensorFlow on Google Cloud\n",
    "    * [Course](https://www.cloudskillsboost.google/course_templates/11) - Feature Engineering\n",
    "    * [Course](https://www.cloudskillsboost.google/course_templates/9) - Machine Learning in the Enterprise\n",
    "    * [Course](https://www.cloudskillsboost.google/course_templates/17) - Production Machine Learning Systems (`AI Platform`, `Vertex AI`)\n",
    "    * [Course](https://www.cloudskillsboost.google/course_templates/18) - Computer Vision Fundamentals with Google Cloud\n",
    "    * [Course](https://www.cloudskillsboost.google/course_templates/40) - Natural Language Processing on Google Cloud\n",
    "    * [Course](https://www.cloudskillsboost.google/course_templates/39) - Recommendation Systems on Google Cloud\n",
    "    * [Course](https://www.cloudskillsboost.google/course_templates/158) - MLOps (Machine Learning Operations) Fundamentals (outdated - `AI Platform`)\n",
    "    * [Course](https://www.cloudskillsboost.google/course_templates/191) - ML Pipelines on Google Cloud (outdated - `AI Platform`)\n",
    "    * [Quest](https://www.cloudskillsboost.google/quests/117) - **Perform Foundational Data, ML, and AI Tasks in Google Cloud** (Introductory)\n",
    "        * [Lab](https://www.cloudskillsboost.google/focuses/18940?parent=catalog) (Intermediate) - Vertex AI: Qwik Start\n",
    "        * [Lab](https://www.cloudskillsboost.google/focuses/584?parent=catalog) - Dataprep: Qwik Start\n",
    "        * [Lab](https://www.cloudskillsboost.google/focuses/1101?parent=catalog) - Dataflow: Qwik Start - Templates\n",
    "        * [Lab](https://www.cloudskillsboost.google/focuses/1100?parent=catalog) - Dataflow: Qwik Start - Python\n",
    "        * [Lab](https://www.cloudskillsboost.google/focuses/586?parent=catalog) - Dataproc: Qwik Start - Console\n",
    "        * [Lab](https://www.cloudskillsboost.google/focuses/585?parent=catalog) - Dataproc: Qwik Start - Command Line\n",
    "        * [Lab](https://www.cloudskillsboost.google/focuses/582?parent=catalog) - Cloud Natural Language API: Qwik Start\n",
    "        * [Lab](https://www.cloudskillsboost.google/focuses/588?parent=catalog) - Google Cloud Speech API: Qwik Start\n",
    "        * [Lab](https://www.cloudskillsboost.google/focuses/603?parent=catalog) - Video Intelligence: Qwik Start\n",
    "        * [Lab](https://www.cloudskillsboost.google/focuses/11044?parent=catalog) - Perform Foundational Data, ML, and AI Tasks in Google Cloud: Challenge Lab\n",
    "    * [Quest](https://www.cloudskillsboost.google/quests/183) - **Build and Deploy Machine Learning Solutions on Vertex AI** (Advanced) \n",
    "        * [Lab](https://www.cloudskillsboost.google/focuses/18940?parent=catalog) (Intermediate) - Vertex AI: Qwik Start\n",
    "        * [Lab](https://www.cloudskillsboost.google/focuses/22020?parent=catalog) (Intermediate) - Identify Damaged Car Parts with Vertex AutoML Vision\n",
    "        * [Lab](https://www.cloudskillsboost.google/focuses/20069?parent=catalog) (Intermediate) - Deploy a BigQuery ML Customer Churn Classifier to Vertex AI for Online Predictions\n",
    "        * [Lab](https://www.cloudskillsboost.google/focuses/21234?parent=catalog) (Intermediate) - Vertex Pipelines: Qwik Start\n",
    "        * [Lab](https://www.cloudskillsboost.google/focuses/22019?parent=catalog) (Intermediate) - Building and Deploying Machine Learning Solutions with Vertex AI: Challenge Lab"
   ]
  },
  {
   "cell_type": "markdown",
   "metadata": {},
   "source": [
    "* Google Cloud Skills Boost - Machine Learning, Data Science\n",
    "    * [Quest](https://www.cloudskillsboost.google/quests/146) (Fundamental) - **Create ML Models with BigQuery ML**\n",
    "        * [Lab](https://www.cloudskillsboost.google/focuses/2157?parent=catalog) - Getting Started with BigQuery Machine Learning\n",
    "        * [Lab](https://www.cloudskillsboost.google/focuses/1794?parent=catalog) - Predict Visitor Purchases with a Classification Model in BQML\n",
    "        * [Lab](https://www.cloudskillsboost.google/focuses/1797?parent=catalog) - Predict Taxi Fare with a BigQuery ML Forecasting Model\n",
    "        * [Lab](https://www.cloudskillsboost.google/focuses/4337?parent=catalog) - Bracketology with Google Machine Learning\n",
    "        * [Lab](https://www.cloudskillsboost.google/focuses/4414?parent=catalog) - Integrating BigQuery ML with Dialogflow ES Chatbot\n",
    "        * [Lab](https://www.cloudskillsboost.google/focuses/14294?parent=catalog) - Create ML Models with BigQuery ML: Challenge Lab\n",
    "    * [Quest](https://www.cloudskillsboost.google/quests/204) (Introductory) - **Predict Soccer Match Outcomes with BigQuery ML**\n",
    "        * [Lab](https://www.cloudskillsboost.google/focuses/23114?parent=catalog) - BigQuery Soccer Data Ingestion\n",
    "        * [Lab](https://www.cloudskillsboost.google/focuses/23118?parent=catalog) - BigQuery Soccer Data Analysis\n",
    "        * [Lab](https://www.cloudskillsboost.google/focuses/23131?parent=catalog) - BigQuery Soccer Data Analytical Insight\n",
    "        * [Lab](https://www.cloudskillsboost.google/focuses/23293?parent=catalog) - BigQuery Machine Learning using Soccer Data\n",
    "        * [Lab](https://www.cloudskillsboost.google/focuses/37320?parent=catalog) - Predict Soccer Match Outcomes with BigQuery ML: Challenge Lab"
   ]
  },
  {
   "cell_type": "markdown",
   "metadata": {},
   "source": [
    "* Google Cloud Skills Boost - [Vertex AI](https://www.cloudskillsboost.google/catalog?keywords=vertex) (31 results)\n",
    "    * [Course](https://www.cloudskillsboost.google/course_templates/55) (Fundamental) - Smart Analytics, Machine Learning, and AI on Google Cloud\n",
    "    * [Quest](https://www.cloudskillsboost.google/quests/83) (Fundamental) - **Intermediate ML: TensorFlow on Google Cloud**\n",
    "        * [Lab](https://www.cloudskillsboost.google/focuses/18940?parent=catalog) (Intermediate) - Vertex AI: Qwik Start\n",
    "        * [Lab](https://www.cloudskillsboost.google/focuses/581?parent=catalog) (Introductory) - Vertex AI Workbench Notebook: Qwik Start\n",
    "        * [Lab](https://www.cloudskillsboost.google/focuses/21228?parent=catalog) (Introductory) - Classify Images of Cats and Dogs using Transfer Learning\n",
    "        * [Lab](https://www.cloudskillsboost.google/focuses/21599?parent=catalog) (Intermediate) - Running Distributed TensorFlow using Vertex AI\n",
    "        * [Lab](https://www.cloudskillsboost.google/focuses/1823?parent=catalog) (Introductory) - Creating an Object Detection Application Using TensorFlow\n",
    "    * [Quest](https://www.cloudskillsboost.google/quests/43) (Advanced) - **Data Science on Google Cloud**\n",
    "        * [Lab](https://www.cloudskillsboost.google/focuses/2802?parent=catalog) - Introduction to SQL for BigQuery and Cloud SQL\n",
    "        * [Lab](https://www.cloudskillsboost.google/focuses/1155?parent=catalog) - Ingesting Data Into The Cloud\n",
    "        * [Lab](https://www.cloudskillsboost.google/focuses/1157?parent=catalog) - Loading Data into Google Cloud SQL\n",
    "        * [Lab](https://www.cloudskillsboost.google/focuses/1158?parent=catalog) - Visualizing Data with Google Data Studio\n",
    "        * [Lab](https://www.cloudskillsboost.google/focuses/1159?parent=catalog) - Processing Data with Google Cloud Dataflow\n",
    "        * [Lab](https://www.cloudskillsboost.google/focuses/1160?parent=catalog) - Visualize Real Time Geospatial Data with Google Data Studio\n",
    "        * [Lab](https://www.cloudskillsboost.google/focuses/1162?parent=catalog) (Intermediate) - Interactive Data Exploration with Vertex AI Workbench\n",
    "        * [Lab](https://www.cloudskillsboost.google/focuses/1163?parent=catalog) - Evaluating a Data Model\n",
    "    * [Quest](https://www.cloudskillsboost.google/quests/50) (Advanced) - **Data Science on Google Cloud: Machine Learning**\n",
    "        * [Lab](https://www.cloudskillsboost.google/focuses/3392?parent=catalog) - Bayes Classifier on Dataproc\n",
    "        * [Lab](https://www.cloudskillsboost.google/focuses/3390?parent=catalog) - Machine Learning with Spark on Google Cloud Dataproc\n",
    "        * [Lab](https://www.cloudskillsboost.google/focuses/1161?parent=catalog) - Machine Learning with BigQuery ML\n",
    "        * [Lab](https://www.cloudskillsboost.google/focuses/3391?parent=catalog) (Advanced) - Machine Learning with TensorFlow in Vertex AI\n",
    "        * [Lab](https://www.cloudskillsboost.google/focuses/3389?parent=catalog) (Advanced) - MLOps with Vertex AI\n",
    "        * [Lab](https://www.cloudskillsboost.google/focuses/3393?parent=catalog) (Intermediate) - Real Time Machine Learning with Cloud Dataflow and Vertex AI\n",
    "    * [Quest](https://www.cloudskillsboost.google/quests/136) (Advanced) - **Integrate with Machine Learning APIs**\n",
    "        * [Lab](https://www.cloudskillsboost.google/focuses/3473?parent=catalog) - Introduction to APIs in Google\n",
    "        * [Lab](https://www.cloudskillsboost.google/focuses/1836?parent=catalog) - Extract, Analyze, and Translate Text from Images with the Cloud ML APIs\n",
    "        * [Lab](https://www.cloudskillsboost.google/focuses/1749?parent=catalog) - Classify Text into Categories with the Natural Language API\n",
    "        * [Lab](https://www.cloudskillsboost.google/focuses/1841?parent=catalog) - Detect Labels, Faces, and Landmarks in Images with the Cloud Vision API\n",
    "        * [Lab](https://www.cloudskillsboost.google/focuses/1843?parent=catalog) - Entity and Sentiment Analysis with the Natural Language API\n",
    "        * [Lab](https://www.cloudskillsboost.google/focuses/1241?parent=catalog) - Awwvision: Cloud Vision API from a Kubernetes Cluster\n",
    "        * [Lab](https://www.cloudskillsboost.google/focuses/12704?parent=catalog) - Integrate with Machine Learning APIs: Challenge Lab\n",
    "    * [Lab](https://www.cloudskillsboost.google/focuses/46225?parent=catalog) (Introductory) - Vertex AI: Predicting Loan Risk with AutoML\n",
    "    * [Lab](https://www.cloudskillsboost.google/focuses/14080?parent=catalog) (Introductory) - Analyzing a Tennis Serve with the Video Intelligence API\n",
    "    * [Lab](https://www.cloudskillsboost.google/focuses/49150?parent=catalog) (Introductory) - Text Classification using AutoML\n",
    "    * [Lab](https://www.cloudskillsboost.google/focuses/5568?parent=catalog) (Introductory) - Visualize the 10,000 Bitcoin Pizza Transaction Using BigQuery and Vertex AI \n",
    "    * [Lab](https://www.cloudskillsboost.google/focuses/43565?parent=catalog) (Intermediate) - Vertex AI Tabular Data: Qwik Start\n",
    "    * [Lab](https://www.cloudskillsboost.google/focuses/604?parent=catalog) (Intermediate) - Analyzing Natality Data Using Vertex AI and BigQuery\n",
    "    * [Lab](https://www.cloudskillsboost.google/focuses/25097?parent=catalog) (Intermediate) - Building a Fraud Detection Model with Vertex AI AutoML\n",
    "    * [Lab](https://www.cloudskillsboost.google/focuses/8406?parent=catalog) (Intermediate) - Classify Images of Clouds in the Cloud with AutoML Images\n",
    "    * [Lab](https://www.cloudskillsboost.google/focuses/13597?parent=catalog) (Intermediate) - Measuring and Improving Speech Accuracy\n",
    "    * [Lab](https://www.cloudskillsboost.google/focuses/29775?parent=catalog) (Intermediate) - TFX on Google Cloud Vertex Pipelines\n",
    "    * [Lab](https://www.cloudskillsboost.google/focuses/49152?parent=catalog) (Advanced) - Keras for Text Classification using Vertex AI"
   ]
  },
  {
   "cell_type": "markdown",
   "metadata": {},
   "source": [
    "## Section 1: Framing ML problems"
   ]
  },
  {
   "cell_type": "markdown",
   "metadata": {},
   "source": [
    "### 1.1 Translating business challenges into ML use cases"
   ]
  },
  {
   "cell_type": "markdown",
   "metadata": {},
   "source": [
    "* Choosing the best solution (ML vs. non-ML, custom vs. pre-packaged [e.g., AutoML, Vision API]) based on the business requirements\n",
    "\n",
    "* Defining how the model output should be used to solve the business problem\n",
    "\n",
    "* Deciding how incorrect results should be handled\n",
    "\n",
    "* Identifying data sources (available vs. ideal)"
   ]
  },
  {
   "cell_type": "markdown",
   "metadata": {},
   "source": [
    "### 1.2 Defining ML problems"
   ]
  },
  {
   "cell_type": "markdown",
   "metadata": {},
   "source": [
    "* Problem type (e.g., classification, regression, clustering)\n",
    "\n",
    "* Outcome of model predictions\n",
    "\n",
    "* Input (features) and predicted output format"
   ]
  },
  {
   "cell_type": "markdown",
   "metadata": {},
   "source": [
    "### 1.3 Defining business success criteria"
   ]
  },
  {
   "cell_type": "markdown",
   "metadata": {},
   "source": [
    "* Alignment of ML success metrics to the business problem\n",
    "\n",
    "* Key results\n",
    "\n",
    "* Determining when a model is deemed unsuccessful"
   ]
  },
  {
   "cell_type": "markdown",
   "metadata": {},
   "source": [
    "### 1.4 Identifying risks to feasibility of ML solutions"
   ]
  },
  {
   "cell_type": "markdown",
   "metadata": {},
   "source": [
    "* Assessing and communicating business impact\n",
    "\n",
    "* Assessing ML solution readiness\n",
    "\n",
    "* Assessing data readiness and potential limitations\n",
    "\n",
    "* Aligning with Google’s Responsible AI practices (e.g., different biases)"
   ]
  },
  {
   "cell_type": "markdown",
   "metadata": {},
   "source": [
    "## Section 2: Architecting ML solutions"
   ]
  },
  {
   "cell_type": "markdown",
   "metadata": {},
   "source": [
    "### 2.1 Designing reliable, scalable, and highly available ML solutions"
   ]
  },
  {
   "cell_type": "markdown",
   "metadata": {},
   "source": [
    "* Choosing appropriate ML services for the use case (e.g., Cloud Build, Kubeflow)\n",
    "\n",
    "* Component types (e.g., data collection, data management)\n",
    "\n",
    "* Exploration/analysis\n",
    "\n",
    "* Feature engineering\n",
    "\n",
    "* Logging/management\n",
    "\n",
    "* Automation\n",
    "\n",
    "* Orchestration\n",
    "\n",
    "* Monitoring\n",
    "\n",
    "* Serving"
   ]
  },
  {
   "cell_type": "markdown",
   "metadata": {},
   "source": [
    "### 2.2 Choosing appropriate Google Cloud hardware components"
   ]
  },
  {
   "cell_type": "markdown",
   "metadata": {},
   "source": [
    "* Evaluation of compute and accelerator options (e.g., CPU, GPU, TPU, edge devices)"
   ]
  },
  {
   "cell_type": "markdown",
   "metadata": {},
   "source": [
    "### 2.3 Designing architecture that complies with security concerns across sectors/industries. "
   ]
  },
  {
   "cell_type": "markdown",
   "metadata": {},
   "source": [
    "* Building secure ML systems (e.g., protecting against unintentional exploitation of data/model, hacking)\n",
    "\n",
    "* Privacy implications of data usage and/or collection (e.g., handling sensitive data such as Personally Identifiable Information [PII] and Protected Health Information [PHI])"
   ]
  },
  {
   "cell_type": "markdown",
   "metadata": {},
   "source": [
    "## Section 3: Designing data preparation and processing systems"
   ]
  },
  {
   "cell_type": "markdown",
   "metadata": {},
   "source": [
    "### 3.1 Exploring data (EDA)"
   ]
  },
  {
   "cell_type": "markdown",
   "metadata": {},
   "source": [
    "* Visualization\n",
    "\n",
    "* Statistical fundamentals at scale\n",
    "\n",
    "* Evaluation of data quality and feasibility\n",
    "\n",
    "* Establishing data constraints (e.g., TFDV)"
   ]
  },
  {
   "cell_type": "markdown",
   "metadata": {},
   "source": [
    "### 3.2 Building data pipelines"
   ]
  },
  {
   "cell_type": "markdown",
   "metadata": {},
   "source": [
    "* Organizing and optimizing training datasets\n",
    "\n",
    "* Data validation\n",
    "\n",
    "* Handling missing data\n",
    "\n",
    "* Handling outliers\n",
    "\n",
    "* Data leakage"
   ]
  },
  {
   "cell_type": "markdown",
   "metadata": {},
   "source": [
    "### 3.3 Creating input features (feature engineering)"
   ]
  },
  {
   "cell_type": "markdown",
   "metadata": {},
   "source": [
    "* Ensuring consistent data pre-processing between training and serving\n",
    "\n",
    "* Encoding structured data types\n",
    "\n",
    "* Feature selection\n",
    "\n",
    "* Class imbalance\n",
    "\n",
    "* Feature crosses\n",
    "\n",
    "* Transformations (TensorFlow Transform)"
   ]
  },
  {
   "cell_type": "markdown",
   "metadata": {},
   "source": [
    "## Section 4: Developing ML models"
   ]
  },
  {
   "cell_type": "markdown",
   "metadata": {},
   "source": [
    "### 4.1 Building models"
   ]
  },
  {
   "cell_type": "markdown",
   "metadata": {},
   "source": [
    "* Choice of framework and model\n",
    "\n",
    "* Modeling techniques given interpretability requirements\n",
    "\n",
    "* Transfer learning\n",
    "\n",
    "* Data augmentation\n",
    "\n",
    "* Semi-supervised learning\n",
    "\n",
    "* Model generalization and strategies to handle overfitting and underfitting"
   ]
  },
  {
   "cell_type": "markdown",
   "metadata": {},
   "source": [
    "### 4.2 Training models"
   ]
  },
  {
   "cell_type": "markdown",
   "metadata": {},
   "source": [
    "* Ingestion of various file types into training (e.g., CSV, JSON, IMG, parquet or databases, Hadoop/Spark)\n",
    "\n",
    "* Training a model as a job in different environments\n",
    "\n",
    "* Hyperparameter tuning\n",
    "\n",
    "* Tracking metrics during training\n",
    "\n",
    "* Retraining/redeployment evaluation"
   ]
  },
  {
   "cell_type": "markdown",
   "metadata": {},
   "source": [
    "### 4.3 Testing models"
   ]
  },
  {
   "cell_type": "markdown",
   "metadata": {},
   "source": [
    "* Unit tests for model training and serving\n",
    "\n",
    "* Model performance against baselines, simpler models, and across the time dimension\n",
    "\n",
    "* Model explainability on Vertex AI"
   ]
  },
  {
   "cell_type": "markdown",
   "metadata": {},
   "source": [
    "### 4.4 Scaling model training and serving"
   ]
  },
  {
   "cell_type": "markdown",
   "metadata": {},
   "source": [
    "* Distributed training\n",
    "\n",
    "* Scaling prediction service (e.g., Vertex AI Prediction, containerized serving)"
   ]
  },
  {
   "cell_type": "markdown",
   "metadata": {},
   "source": [
    "## Section 5: Automating and orchestrating ML pipelines"
   ]
  },
  {
   "cell_type": "markdown",
   "metadata": {},
   "source": [
    "### 5.1 Designing and implementing training pipelines"
   ]
  },
  {
   "cell_type": "markdown",
   "metadata": {},
   "source": [
    "* Identification of components, parameters, triggers, and compute needs (e.g., Cloud Build, Cloud Run)\n",
    "\n",
    "* Orchestration framework (e.g., Kubeflow Pipelines/Vertex AI Pipelines, Cloud Composer/Apache Airflow)\n",
    "\n",
    "* Hybrid or multicloud strategies\n",
    "\n",
    "* System design with TFX components/Kubeflow DSL "
   ]
  },
  {
   "cell_type": "markdown",
   "metadata": {},
   "source": [
    "### 5.2 Implementing serving pipelines"
   ]
  },
  {
   "cell_type": "markdown",
   "metadata": {},
   "source": [
    "* Serving (online, batch, caching)\n",
    "\n",
    "* Google Cloud serving options\n",
    "\n",
    "* Testing for target performance\n",
    "\n",
    "* Configuring trigger and pipeline schedules"
   ]
  },
  {
   "cell_type": "markdown",
   "metadata": {},
   "source": [
    "### 5.3 Tracking and auditing metadata"
   ]
  },
  {
   "cell_type": "markdown",
   "metadata": {},
   "source": [
    "* Organizing and tracking experiments and pipeline runs\n",
    "\n",
    "* Hooking into model and dataset versioning\n",
    "\n",
    "* Model/dataset lineage"
   ]
  },
  {
   "cell_type": "markdown",
   "metadata": {},
   "source": [
    "## Section 6: Monitoring, optimizing, and maintaining ML solutions"
   ]
  },
  {
   "cell_type": "markdown",
   "metadata": {},
   "source": [
    "### 6.1 Monitoring and troubleshooting ML solutions"
   ]
  },
  {
   "cell_type": "markdown",
   "metadata": {},
   "source": [
    "* Performance and business quality of ML model predictions\n",
    "\n",
    "* Logging strategies\n",
    "\n",
    "* Establishing continuous evaluation metrics (e.g., evaluation of drift or bias)\n",
    "\n",
    "* Understanding Google Cloud permissions model\n",
    "\n",
    "* Identification of appropriate retraining policy\n",
    "\n",
    "* Common training and serving errors (TensorFlow)\n",
    "\n",
    "* ML model failure and resulting biases"
   ]
  },
  {
   "cell_type": "markdown",
   "metadata": {},
   "source": [
    "### 6.2 Tuning performance of ML solutions for training and serving in production"
   ]
  },
  {
   "cell_type": "markdown",
   "metadata": {},
   "source": [
    "* Optimization and simplification of input pipeline for training\n",
    "\n",
    "* Simplification techniques"
   ]
  }
 ],
 "metadata": {
  "kernelspec": {
   "display_name": "Python 3.10.6 ('ml_dev')",
   "language": "python",
   "name": "python3"
  },
  "language_info": {
   "name": "python",
   "version": "3.10.6"
  },
  "orig_nbformat": 4,
  "vscode": {
   "interpreter": {
    "hash": "3dbb6e28f32ca2376e4f57c81cef85cf88ffd88cbd1c487658c99f00bdea0c93"
   }
  }
 },
 "nbformat": 4,
 "nbformat_minor": 2
}
