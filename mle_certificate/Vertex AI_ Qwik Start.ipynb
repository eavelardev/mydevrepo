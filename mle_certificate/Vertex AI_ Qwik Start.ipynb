{
 "cells": [
  {
   "cell_type": "markdown",
   "metadata": {},
   "source": [
    "## Vertex AI: Qwik Start"
   ]
  },
  {
   "cell_type": "markdown",
   "metadata": {},
   "source": [
    "Lab\n",
    "* https://www.cloudskillsboost.google/focuses/18940?parent=catalog\n",
    "* https://github.com/GoogleCloudPlatform/training-data-analyst/tree/master/self-paced-labs/vertex-ai/vertex-ai-qwikstart\n",
    "* https://github.com/GoogleCloudPlatform/training-data-analyst/blob/master/self-paced-labs/vertex-ai/vertex-ai-qwikstart/lab_exercise.ipynb"
   ]
  },
  {
   "cell_type": "markdown",
   "metadata": {},
   "source": [
    "* [BigQuery](https://cloud.google.com/bigquery) for `data processing` and `exploratory data analysis`\n",
    "* [Vertex AI](https://cloud.google.com/vertex-ai) platform to `train` and `deploy` a custom `TensorFlow Regressor` model\n",
    "* CLV - Customer lifetime value"
   ]
  },
  {
   "cell_type": "markdown",
   "metadata": {},
   "source": [
    "### Objectives\n",
    "\n",
    "* Train a TensorFlow model locally in a hosted [Vertex Notebook](https://cloud.google.com/vertex-ai/docs/general/notebooks?hl=sv).\n",
    "\n",
    "* Create a [managed Tabular dataset](https://cloud.google.com/vertex-ai/docs/training/using-managed-datasets?hl=sv) artifact for experiment tracking.\n",
    "\n",
    "* Containerize your training code with [Cloud Build](https://cloud.google.com/build) and push it to [Google Cloud Artifact Registry](https://cloud.google.com/artifact-registry).\n",
    "\n",
    "* Run a [Vertex AI custom training job](https://cloud.google.com/vertex-ai/docs/training/custom-training) with your custom model container.\n",
    "\n",
    "* Use [Vertex TensorBoard](https://cloud.google.com/vertex-ai/docs/experiments/tensorboard-overview) to visualize model performance.\n",
    "\n",
    "* `Deploy` your trained model to a [Vertex Online Prediction Endpoint](https://cloud.google.com/vertex-ai/docs/predictions/getting-predictions) for serving predictions.\n",
    "\n",
    "* Request an online prediction and explanation and see the response."
   ]
  },
  {
   "cell_type": "markdown",
   "metadata": {},
   "source": [
    "Roles\n",
    "* `storage.admin` - Access to GCS for writing and retrieving Tensorboard logs\n",
    "* `bigquery.admin` - Access to your BigQuery data source to read data into your TensorFlow model\n",
    "* `aiplatform.user` - Access to Vertex AI for running model `training`, `deployment`, and `explanation` jobs."
   ]
  },
  {
   "cell_type": "markdown",
   "metadata": {},
   "source": [
    "CLI\n",
    "```bash\n",
    "# Create a globally unique Google Cloud Storage bucket for artifact storage.\n",
    "!gsutil mb -l $REGION gs://$GCS_BUCKET\n",
    "```\n",
    "\n",
    "```bash\n",
    "# Create an Artifact Repository using the gcloud CLI.\n",
    "!gcloud artifacts repositories create $ARTIFACT_REPOSITORY \\\n",
    "--repository-format=docker \\\n",
    "--location=$REGION \\\n",
    "--description=\"Artifact registry for ML custom training images for predictive CLV\"\n",
    "```\n",
    "\n",
    "```bash\n",
    "# Build and submit your container image to your Artifact Repository\n",
    "!gcloud builds submit --timeout=20m --config {MODEL_NAME}/cloudbuild.yaml {MODEL_NAME}\n",
    "```\n",
    "\n",
    "```bash\n",
    "#Create a Vertex Tensorboard instance for tracking your model experiments\n",
    "!gcloud beta ai tensorboards create \\\n",
    "--display-name=$MODEL_NAME --region=$REGION\n",
    "```"
   ]
  }
 ],
 "metadata": {
  "kernelspec": {
   "display_name": "Python 3.10.6 ('ml_dev')",
   "language": "python",
   "name": "python3"
  },
  "language_info": {
   "name": "python",
   "version": "3.10.6"
  },
  "orig_nbformat": 4,
  "vscode": {
   "interpreter": {
    "hash": "3dbb6e28f32ca2376e4f57c81cef85cf88ffd88cbd1c487658c99f00bdea0c93"
   }
  }
 },
 "nbformat": 4,
 "nbformat_minor": 2
}
