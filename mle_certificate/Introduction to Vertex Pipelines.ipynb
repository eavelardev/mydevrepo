{
 "cells": [
  {
   "cell_type": "markdown",
   "metadata": {},
   "source": [
    "Task 2. Create a Cloud Storage bucket"
   ]
  },
  {
   "cell_type": "raw",
   "metadata": {},
   "source": [
    "BUCKET_NAME=gs://$GOOGLE_CLOUD_PROJECT-bucket\n",
    "gsutil mb -l us-central1 $BUCKET_NAME"
   ]
  },
  {
   "cell_type": "raw",
   "metadata": {},
   "source": [
    "gcloud projects describe $GOOGLE_CLOUD_PROJECT > project-info.txt\n",
    "PROJECT_NUM=$(cat project-info.txt | sed -nre 's:.*projectNumber\\: (.*):\\1:p')\n",
    "SVC_ACCOUNT=\"${PROJECT_NUM//\\'/}-compute@developer.gserviceaccount.com\"\n",
    "gcloud projects add-iam-policy-binding $GOOGLE_CLOUD_PROJECT --member serviceAccount:$SVC_ACCOUNT --role roles/storage.objectAdmin"
   ]
  }
 ],
 "metadata": {
  "kernelspec": {
   "display_name": "Python 3.9.12 ('ml_dev')",
   "language": "python",
   "name": "python3"
  },
  "language_info": {
   "name": "python",
   "version": "3.9.12"
  },
  "orig_nbformat": 4,
  "vscode": {
   "interpreter": {
    "hash": "3dbb6e28f32ca2376e4f57c81cef85cf88ffd88cbd1c487658c99f00bdea0c93"
   }
  }
 },
 "nbformat": 4,
 "nbformat_minor": 2
}
