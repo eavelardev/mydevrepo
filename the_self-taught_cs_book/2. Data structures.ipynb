{
 "cells": [
  {
   "cell_type": "markdown",
   "metadata": {},
   "source": [
    "## Data Structures"
   ]
  },
  {
   "cell_type": "markdown",
   "metadata": {},
   "source": [
    "### Ch9 - Arrays"
   ]
  },
  {
   "cell_type": "markdown",
   "metadata": {},
   "source": [
    "#### Moving Zeros\n",
    "Locate all the zeros in a list and push them to the end."
   ]
  },
  {
   "cell_type": "code",
   "execution_count": 1,
   "metadata": {},
   "outputs": [],
   "source": [
    "# Ch9 - Arrays_ Moving Zeros, pag. 92\n",
    "\n",
    "def move_zeros(a_list):\n",
    "    zero_index = 0\n",
    "    for i in range(len(a_list)):\n",
    "        if a_list[i] != 0:\n",
    "            if zero_index != i:\n",
    "                a_list[zero_index] = a_list[i]\n",
    "                a_list[i] = 0\n",
    "            zero_index += 1"
   ]
  },
  {
   "cell_type": "code",
   "execution_count": 2,
   "metadata": {},
   "outputs": [
    {
     "data": {
      "text/plain": [
       "[8, 3, 12, 0, 0]"
      ]
     },
     "execution_count": 2,
     "metadata": {},
     "output_type": "execute_result"
    }
   ],
   "source": [
    "a_list = [8, 0, 3, 0, 12]\n",
    "move_zeros(a_list)\n",
    "a_list"
   ]
  },
  {
   "cell_type": "markdown",
   "metadata": {},
   "source": [
    "#### Combining Two Lists"
   ]
  },
  {
   "cell_type": "code",
   "execution_count": 53,
   "metadata": {},
   "outputs": [
    {
     "data": {
      "text/plain": [
       "[('Interstellar', 1),\n",
       " ('Inception', 10),\n",
       " ('The Prestige', 10),\n",
       " ('Insomnia', 8),\n",
       " ('Batman Begins', 6)]"
      ]
     },
     "execution_count": 53,
     "metadata": {},
     "output_type": "execute_result"
    }
   ],
   "source": [
    "# Ch9 - Arrays_ Combining Two Lists, pag. 95\n",
    "\n",
    "movie_list = [\"Interstellar\", \"Inception\", \"The Prestige\", \"Insomnia\", \"Batman Begins\"]\n",
    "ratings_list = [1, 10, 10, 8, 6]\n",
    "list(zip(movie_list, ratings_list))"
   ]
  },
  {
   "cell_type": "markdown",
   "metadata": {},
   "source": [
    "#### Finding the Duplicates in a List"
   ]
  },
  {
   "cell_type": "code",
   "execution_count": 3,
   "metadata": {},
   "outputs": [],
   "source": [
    "# Ch9 - Arrays_ Finding the Duplicates in a List, pag. 96\n",
    "\n",
    "def duplicates(an_iterable):\n",
    "    dups = []\n",
    "    a_set = set()\n",
    "    for item in an_iterable:\n",
    "        l1 = len(a_set)\n",
    "        a_set.add(item)\n",
    "        l2 = len(a_set)\n",
    "        if l1 == l2:\n",
    "            dups.append(item)\n",
    "    return dups"
   ]
  },
  {
   "cell_type": "code",
   "execution_count": 4,
   "metadata": {},
   "outputs": [
    {
     "data": {
      "text/plain": [
       "['Susan Adams']"
      ]
     },
     "execution_count": 4,
     "metadata": {},
     "output_type": "execute_result"
    }
   ],
   "source": [
    "a_list = [\n",
    "    \"Susan Adams\",\n",
    "    \"Kwame Goodall\",\n",
    "    \"Jill Hampton\",\n",
    "    \"Susan Adams\"\n",
    "]\n",
    "\n",
    "duplicates(a_list)"
   ]
  },
  {
   "cell_type": "markdown",
   "metadata": {},
   "source": [
    "#### Finding the Intersection of Two Lists"
   ]
  },
  {
   "cell_type": "code",
   "execution_count": 5,
   "metadata": {},
   "outputs": [],
   "source": [
    "# Ch9 - Arrays_ Finding the Intersection of Two Lists, pag. 98\n",
    "\n",
    "def return_inter(list1, list2):\n",
    "    return [v for v in list1 if v in list2]"
   ]
  },
  {
   "cell_type": "code",
   "execution_count": 54,
   "metadata": {},
   "outputs": [],
   "source": [
    "def return_inter(list1, list2):\n",
    "    return list(set(list1) & set(list2))"
   ]
  },
  {
   "cell_type": "code",
   "execution_count": 55,
   "metadata": {},
   "outputs": [
    {
     "data": {
      "text/plain": [
       "[2, 28, 62]"
      ]
     },
     "execution_count": 55,
     "metadata": {},
     "output_type": "execute_result"
    }
   ],
   "source": [
    "list1 = [2, 43, 48, 62, 64, 28, 3]\n",
    "list2 = [1, 28, 42, 70, 2, 10, 62, 31, 4, 14]\n",
    "return_inter(list1, list2)"
   ]
  },
  {
   "cell_type": "markdown",
   "metadata": {},
   "source": [
    "### Ch8 - What Is a Data Structure?"
   ]
  },
  {
   "cell_type": "markdown",
   "metadata": {},
   "source": [
    "#### Challenge\n",
    "1. Write a list of all the data structures you’ve used in Python."
   ]
  },
  {
   "cell_type": "markdown",
   "metadata": {},
   "source": [
    "Python Data Sructures\n",
    "\n",
    "- List\n",
    "    - Stack\n",
    "- Queue `collections.deque`\n",
    "- Tuple\n",
    "- Set\n",
    "- Dictionary"
   ]
  },
  {
   "cell_type": "markdown",
   "metadata": {},
   "source": [
    "### Ch10 - Linked Lists "
   ]
  },
  {
   "cell_type": "markdown",
   "metadata": {},
   "source": [
    "#### Create a Linked List"
   ]
  },
  {
   "cell_type": "code",
   "execution_count": 8,
   "metadata": {},
   "outputs": [],
   "source": [
    "# Ch10 -Linked Lists_ Create a Linked List, pag. 104\n",
    "\n",
    "class Node:\n",
    "    def __init__(self, data, next=None):\n",
    "        self.data = data\n",
    "        self.next = next\n",
    "\n",
    "class LinkedList:\n",
    "    def __init__(self):\n",
    "        self.head = None\n",
    "\n",
    "    def append(self, data):\n",
    "        if self.head is None:\n",
    "            self.head = Node(data)\n",
    "            return\n",
    "\n",
    "        current = self.head\n",
    "        \n",
    "        while current.next:\n",
    "            current = current.next\n",
    "        \n",
    "        current.next = Node(data)\n",
    "\n",
    "    def __str__(self):\n",
    "        txt = ''\n",
    "        node = self.head\n",
    "        while node is not None:\n",
    "            txt += str(node.data) + '\\n'\n",
    "            node = node.next\n",
    "        return txt\n",
    "\n",
    "    def search(self, target):\n",
    "        current = self.head\n",
    "        while current:\n",
    "            if current.data == target:\n",
    "                return True\n",
    "            current = current.next\n",
    "        return False\n",
    "\n",
    "    def remove(self, target):\n",
    "        if self.head.data == target:\n",
    "            self.head = self.head.next\n",
    "            return\n",
    "\n",
    "        previous = self.head\n",
    "        current = self.head.next\n",
    "\n",
    "        while current:\n",
    "            if current.data == target:\n",
    "                previous.next = current.next\n",
    "                break\n",
    "            previous = current\n",
    "            current = current.next\n",
    "\n",
    "    def reverse_list(self):\n",
    "        current = self.head\n",
    "        previous = None\n",
    "\n",
    "        while current:\n",
    "            next = current.next\n",
    "            current.next = previous\n",
    "            previous = current\n",
    "            current = next\n",
    "\n",
    "        self.head = previous\n",
    "\n",
    "    def detect_cycle(self):\n",
    "        slow = self.head\n",
    "        fast = self.head\n",
    "\n",
    "        while True:\n",
    "            try:\n",
    "                slow = slow.next\n",
    "                fast = fast.next.next\n",
    "                if slow is fast:\n",
    "                    return True\n",
    "            except:\n",
    "                return False\n"
   ]
  },
  {
   "cell_type": "code",
   "execution_count": 9,
   "metadata": {},
   "outputs": [
    {
     "name": "stdout",
     "output_type": "stream",
     "text": [
      "Monday\n",
      "Tuesday\n",
      "Wednesday\n",
      "\n"
     ]
    }
   ],
   "source": [
    "a_list = LinkedList()\n",
    "a_list.append(\"Monday\")\n",
    "a_list.append(\"Tuesday\")\n",
    "a_list.append(\"Wednesday\")\n",
    "print(a_list)"
   ]
  },
  {
   "cell_type": "code",
   "execution_count": 10,
   "metadata": {},
   "outputs": [
    {
     "data": {
      "text/plain": [
       "True"
      ]
     },
     "execution_count": 10,
     "metadata": {},
     "output_type": "execute_result"
    }
   ],
   "source": [
    "a_list.search(\"Wednesday\")"
   ]
  },
  {
   "cell_type": "code",
   "execution_count": 11,
   "metadata": {},
   "outputs": [
    {
     "name": "stdout",
     "output_type": "stream",
     "text": [
      "Tuesday\n",
      "Wednesday\n",
      "\n"
     ]
    }
   ],
   "source": [
    "a_list.remove(\"Monday\")\n",
    "print(a_list)"
   ]
  },
  {
   "cell_type": "code",
   "execution_count": 12,
   "metadata": {},
   "outputs": [
    {
     "name": "stdout",
     "output_type": "stream",
     "text": [
      "Wednesday\n",
      "Tuesday\n",
      "\n"
     ]
    }
   ],
   "source": [
    "a_list.reverse_list()\n",
    "print(a_list)"
   ]
  },
  {
   "cell_type": "code",
   "execution_count": 13,
   "metadata": {},
   "outputs": [
    {
     "data": {
      "text/plain": [
       "False"
      ]
     },
     "execution_count": 13,
     "metadata": {},
     "output_type": "execute_result"
    }
   ],
   "source": [
    "a_list.detect_cycle()"
   ]
  },
  {
   "cell_type": "markdown",
   "metadata": {},
   "source": [
    "### Ch11 - Stacks"
   ]
  },
  {
   "cell_type": "markdown",
   "metadata": {},
   "source": [
    "#### Creating a Stack"
   ]
  },
  {
   "cell_type": "code",
   "execution_count": 14,
   "metadata": {},
   "outputs": [],
   "source": [
    "# Ch11 - Stacks_ Creating a Stack, pag. 115\n",
    "\n",
    "class Stack:\n",
    "    def __init__(self):\n",
    "        self.items = []\n",
    "\n",
    "    def push(self, data):\n",
    "        self.items.append(data)\n",
    "\n",
    "    def pop(self):\n",
    "        return self.items.pop()\n",
    "\n",
    "    def size(self):\n",
    "        return len(self.items)\n",
    "\n",
    "    def is_empy(self):\n",
    "        return len(self.items) == 0\n",
    "\n",
    "    def peek(self):\n",
    "        return self.items[-1]\n"
   ]
  },
  {
   "cell_type": "markdown",
   "metadata": {},
   "source": [
    "Stack class by using a linked list internally"
   ]
  },
  {
   "cell_type": "code",
   "execution_count": 15,
   "metadata": {},
   "outputs": [],
   "source": [
    "class Node:\n",
    "    def __init__(self, data):\n",
    "        self.data = data\n",
    "        self.next = None\n",
    "\n",
    "class Stack:\n",
    "    def __init__(self):\n",
    "        self.head = None\n",
    "\n",
    "    def push(self, data):\n",
    "        node = Node(data)\n",
    "        if self.head is None:\n",
    "            self.head = node\n",
    "        else:\n",
    "            node.next = self.head\n",
    "            self.head = node\n",
    "\n",
    "    def pop(self):\n",
    "        if self.head is None:\n",
    "            raise IndexError('pop from empty stach')\n",
    "        poppendone = self.head\n",
    "        self.head = self.head.next\n",
    "        return poppendone.data"
   ]
  },
  {
   "cell_type": "code",
   "execution_count": 16,
   "metadata": {},
   "outputs": [
    {
     "name": "stdout",
     "output_type": "stream",
     "text": [
      "3 2 1 "
     ]
    }
   ],
   "source": [
    "stack = Stack()\n",
    "stack.push(1)\n",
    "stack.push(2)\n",
    "stack.push(3)\n",
    "for i in range(3):\n",
    "    print(stack.pop(), end=' ')"
   ]
  },
  {
   "cell_type": "markdown",
   "metadata": {},
   "source": [
    "#### Using Stacks to Reverse Strings"
   ]
  },
  {
   "cell_type": "code",
   "execution_count": 17,
   "metadata": {},
   "outputs": [],
   "source": [
    "# Ch11 - Stacks_ Using Stacks to Reverse Strings, pag. 119\n",
    "\n",
    "def reverse_string(a_string):\n",
    "    stack = [c for c in a_string]\n",
    "    string = \"\"\n",
    "    while stack:\n",
    "        string += stack.pop()\n",
    "    return string"
   ]
  },
  {
   "cell_type": "code",
   "execution_count": 18,
   "metadata": {},
   "outputs": [
    {
     "data": {
      "text/plain": [
       "'rebeiB'"
      ]
     },
     "execution_count": 18,
     "metadata": {},
     "output_type": "execute_result"
    }
   ],
   "source": [
    "reverse_string(\"Bieber\")"
   ]
  },
  {
   "cell_type": "markdown",
   "metadata": {},
   "source": [
    "#### Min Stack\n",
    "Design a data structure that supports stack operations such as push and pop and includes a method to return the smallest element"
   ]
  },
  {
   "cell_type": "code",
   "execution_count": 19,
   "metadata": {},
   "outputs": [],
   "source": [
    "class MinStack:\n",
    "    def __init__(self):\n",
    "        self.main = []\n",
    "        self.min = []\n",
    "\n",
    "    def push(self, n):\n",
    "        if len(self.main) == 0 or n <= self.min[-1]:\n",
    "            self.min.append(n)\n",
    "        else:\n",
    "            self.min.append(self.min[-1])\n",
    "        self.main.append(n)\n",
    "\n",
    "    def pop(self):\n",
    "        self.min.pop()\n",
    "        return self.main.pop()\n",
    "\n",
    "    def get_min(self):\n",
    "        return self.min[-1]"
   ]
  },
  {
   "cell_type": "code",
   "execution_count": 20,
   "metadata": {},
   "outputs": [
    {
     "name": "stdout",
     "output_type": "stream",
     "text": [
      "[10]\n",
      "[10]\n",
      "[10, 15]\n",
      "[10, 10]\n"
     ]
    }
   ],
   "source": [
    "min_stack = MinStack()\n",
    "min_stack.push(10)\n",
    "print(min_stack.main)\n",
    "print(min_stack.min)\n",
    "min_stack.push(15)\n",
    "print(min_stack.main)\n",
    "print(min_stack.min)"
   ]
  },
  {
   "cell_type": "markdown",
   "metadata": {},
   "source": [
    "#### Stacked Parentheses"
   ]
  },
  {
   "cell_type": "code",
   "execution_count": 21,
   "metadata": {},
   "outputs": [],
   "source": [
    "def check_parentheses(a_string):\n",
    "    stack = []\n",
    "    for c in a_string:\n",
    "        if c == \"(\":\n",
    "            stack.append(c)\n",
    "        if c == \")\":\n",
    "            if len(stack) == 0:\n",
    "                return False\n",
    "            else:\n",
    "                stack.pop()\n",
    "    return len(stack) == 0"
   ]
  },
  {
   "cell_type": "code",
   "execution_count": 22,
   "metadata": {},
   "outputs": [
    {
     "data": {
      "text/plain": [
       "True"
      ]
     },
     "execution_count": 22,
     "metadata": {},
     "output_type": "execute_result"
    }
   ],
   "source": [
    "# string = \")( )(\"\n",
    "string = \"(( )()())\"\n",
    "check_parentheses(string)"
   ]
  },
  {
   "cell_type": "markdown",
   "metadata": {},
   "source": [
    "### Ch12 Queues"
   ]
  },
  {
   "cell_type": "markdown",
   "metadata": {},
   "source": [
    "#### Creting a Queue"
   ]
  },
  {
   "cell_type": "code",
   "execution_count": 23,
   "metadata": {},
   "outputs": [],
   "source": [
    "class Node:\n",
    "    def __init__(self, data):\n",
    "        self.data = data\n",
    "        self.next = None\n",
    "\n",
    "class Queue:\n",
    "    def __init__(self):\n",
    "        self.front = None\n",
    "        self.rear = None\n",
    "        self._size = 0\n",
    "\n",
    "    def enqueue(self, item):\n",
    "        self._size += 1\n",
    "        node = Node(item)\n",
    "        if self.rear is None:\n",
    "            self.rear = node\n",
    "            self.front = node\n",
    "        else:\n",
    "            self.rear.next = node\n",
    "            self.rear = node\n",
    "\n",
    "    def dequeue(self):\n",
    "        if self.front is None:\n",
    "            raise IndexError('pop from empty queue')\n",
    "        self._size -= 1\n",
    "        temp = self.front\n",
    "        self.front = self.front.next\n",
    "        if self.front is None:\n",
    "            self.rear = None\n",
    "        return temp.data\n",
    "\n",
    "    def size(self):\n",
    "        return self._size"
   ]
  },
  {
   "cell_type": "markdown",
   "metadata": {},
   "source": [
    "#### Create a Queue Using Two Stacks"
   ]
  },
  {
   "cell_type": "code",
   "execution_count": 24,
   "metadata": {},
   "outputs": [],
   "source": [
    "# Ch12 - Queues_ Create a Queue Using Two Stacks, pag. 135\n",
    "\n",
    "class Queue:\n",
    "    def __init__(self):\n",
    "        self.s1 = []\n",
    "        self.s2 = []\n",
    "\n",
    "    def enqueue(self, item):\n",
    "        while len(self.s1) != 0:\n",
    "            self.s2.append(self.s1.pop())\n",
    "        self.s1.append(item)\n",
    "        while len(self.s2) != 0:\n",
    "            self.s1.append(self.s2.pop())\n",
    "\n",
    "    def dequeue(self):\n",
    "        if len(self.s1) == 0:\n",
    "            raise Exception(\"Cannot pop from empty queue\")\n",
    "        return self.s1.pop()\n",
    "\n",
    "    def size(self):\n",
    "        return len(self.s1)"
   ]
  },
  {
   "cell_type": "markdown",
   "metadata": {},
   "source": [
    "In this implementation of a queue, enqueueing is O(n) because you have to iterate through every item in your stack. Dequeueing, on the other hand, is O(1) because you have to remove only the last item from your internal stack."
   ]
  },
  {
   "cell_type": "code",
   "execution_count": 25,
   "metadata": {},
   "outputs": [
    {
     "name": "stdout",
     "output_type": "stream",
     "text": [
      "3\n",
      "1 2 3 "
     ]
    }
   ],
   "source": [
    "queue = Queue()\n",
    "queue.enqueue(1)\n",
    "queue.enqueue(2)\n",
    "queue.enqueue(3)\n",
    "print(queue.size())\n",
    "for i in range(3):\n",
    "    print(queue.dequeue(), end=' ')"
   ]
  },
  {
   "cell_type": "markdown",
   "metadata": {},
   "source": [
    "#### Python’s Built-In Queue Class"
   ]
  },
  {
   "cell_type": "code",
   "execution_count": 26,
   "metadata": {},
   "outputs": [],
   "source": [
    "from queue import Queue"
   ]
  },
  {
   "cell_type": "code",
   "execution_count": 27,
   "metadata": {},
   "outputs": [
    {
     "name": "stdout",
     "output_type": "stream",
     "text": [
      "3\n",
      "a b c "
     ]
    }
   ],
   "source": [
    "q = Queue()\n",
    "q.put('a')\n",
    "q.put('b')\n",
    "q.put('c')\n",
    "print(q.qsize())\n",
    "for i in range(3):\n",
    "    print(q.get(), end=' ')"
   ]
  },
  {
   "cell_type": "markdown",
   "metadata": {},
   "source": [
    "### Ch13 Hast Tables"
   ]
  },
  {
   "cell_type": "markdown",
   "metadata": {},
   "source": [
    "#### Characters in a String"
   ]
  },
  {
   "cell_type": "code",
   "execution_count": 28,
   "metadata": {},
   "outputs": [],
   "source": [
    "def count(a_string):\n",
    "    a_dict = {}\n",
    "    for char in a_string:\n",
    "        a_dict[char] = a_dict.get(char, 0) + 1\n",
    "    print(a_dict)"
   ]
  },
  {
   "cell_type": "code",
   "execution_count": 29,
   "metadata": {},
   "outputs": [
    {
     "name": "stdout",
     "output_type": "stream",
     "text": [
      "{'H': 1, 'e': 1, 'l': 2, 'o': 1}\n"
     ]
    }
   ],
   "source": [
    "count('Hello')"
   ]
  },
  {
   "cell_type": "markdown",
   "metadata": {},
   "source": [
    "#### Two Sum"
   ]
  },
  {
   "cell_type": "code",
   "execution_count": 30,
   "metadata": {},
   "outputs": [],
   "source": [
    "def two_sum(a_list, target):\n",
    "    a_dict = {}\n",
    "    for index, n in enumerate(a_list):\n",
    "        rem = target - n\n",
    "        if rem in a_dict:\n",
    "            return index, a_dict[rem]\n",
    "        else:\n",
    "            a_dict[n] = index"
   ]
  },
  {
   "cell_type": "code",
   "execution_count": 31,
   "metadata": {},
   "outputs": [
    {
     "data": {
      "text/plain": [
       "(2, 1)"
      ]
     },
     "execution_count": 31,
     "metadata": {},
     "output_type": "execute_result"
    }
   ],
   "source": [
    "numbers = [-1, 2, 3, 4, 7]\n",
    "two_sum(numbers, 5)"
   ]
  },
  {
   "cell_type": "markdown",
   "metadata": {},
   "source": [
    "#### Challenge\n",
    "1. Given a string, remove all duplicates words. For example, given the string\n",
    "\"`I am a self-taught programmer looking for a job as a programmer.`\", your function\n",
    "should return\n",
    "\"`I am a self-taught programmer looking for job as.`\"."
   ]
  },
  {
   "cell_type": "code",
   "execution_count": 32,
   "metadata": {},
   "outputs": [],
   "source": [
    "import re\n",
    "\n",
    "def remove_dups(text):\n",
    "    count = {}\n",
    "    words = re.compile('\\w+').findall(text)\n",
    "    new_string = ''\n",
    "    for word in words:\n",
    "        if word not in count:\n",
    "            new_string += word + ' '\n",
    "            count[word] = 1\n",
    "    return new_string"
   ]
  },
  {
   "cell_type": "code",
   "execution_count": 33,
   "metadata": {},
   "outputs": [
    {
     "data": {
      "text/plain": [
       "'I am a self taught programmer looking for job as '"
      ]
     },
     "execution_count": 33,
     "metadata": {},
     "output_type": "execute_result"
    }
   ],
   "source": [
    "remove_dups(\"I am a self-taught programmer looking for a job as a programmer.\")"
   ]
  },
  {
   "cell_type": "code",
   "execution_count": 34,
   "metadata": {},
   "outputs": [],
   "source": [
    "import re\n",
    "\n",
    "def remove_dups(text):\n",
    "    count = set()\n",
    "    words = re.compile('\\w+').findall(text)\n",
    "    new_string = ''\n",
    "    len_words = 0\n",
    "    for word in words:\n",
    "        count.add(word)\n",
    "        if len(count) > len_words:\n",
    "            new_string += word + ' '\n",
    "            len_words = len(count)\n",
    "    return new_string"
   ]
  },
  {
   "cell_type": "code",
   "execution_count": 35,
   "metadata": {},
   "outputs": [
    {
     "data": {
      "text/plain": [
       "'I am a self taught programmer looking for job as '"
      ]
     },
     "execution_count": 35,
     "metadata": {},
     "output_type": "execute_result"
    }
   ],
   "source": [
    "remove_dups(\"I am a self-taught programmer looking for a job as a programmer.\")"
   ]
  },
  {
   "cell_type": "markdown",
   "metadata": {},
   "source": [
    "### Ch14 Binary Trees"
   ]
  },
  {
   "cell_type": "markdown",
   "metadata": {},
   "source": [
    "#### Creating a Binary Tree"
   ]
  },
  {
   "cell_type": "code",
   "execution_count": 36,
   "metadata": {},
   "outputs": [],
   "source": [
    "# Binary Tree\n",
    "class BinaryTree:\n",
    "    def __init__(self, value):\n",
    "        self.key = value\n",
    "        self.left_child = None\n",
    "        self.right_child = None\n",
    "\n",
    "    def insert_left(self, value):\n",
    "        if self.left_child is None:\n",
    "            self.left_child = BinaryTree(value)\n",
    "        else:\n",
    "            bin_tree = BinaryTree(value)\n",
    "            bin_tree.left_child = self.left_child\n",
    "            self.left_child = bin_tree\n",
    "\n",
    "    def insert_right(self, value):\n",
    "        if self.right_child is None:\n",
    "            self.right_child = BinaryTree(value)\n",
    "        else:\n",
    "            bin_tree = BinaryTree(value)\n",
    "            bin_tree.right_child = self.right_child\n",
    "            self.right_child = bin_tree\n",
    "\n",
    "    def breadth_first_search(self, n):\n",
    "        current = [self]\n",
    "        next = []\n",
    "        while current:\n",
    "            for node in current:\n",
    "                if node.key == n:\n",
    "                    return True\n",
    "                if node.left_child:\n",
    "                    next.append(node.left_child)\n",
    "                if node.right_child:\n",
    "                    next.append(node.right_child)\n",
    "            current = next\n",
    "            next = []\n",
    "        return False\n",
    "\n",
    "    def invert(self):\n",
    "        current = [self]\n",
    "        next = []\n",
    "\n",
    "        while current:\n",
    "            for node in current:\n",
    "                if node.left_child:\n",
    "                    next.append(node.left_child)\n",
    "                if node.right_child:\n",
    "                    next.append(node.right_child)\n",
    "                node.left_child, node.right_child = node.right_child, node.left_child\n",
    "            current = next\n",
    "            next = []\n",
    "\n",
    "    def invert_dfs_alg(self, tree):\n",
    "        if tree:\n",
    "            self.invert_dfs_alg(tree.left_child)\n",
    "            self.invert_dfs_alg(tree.right_child)\n",
    "            tree.left_child, tree.right_child = tree.right_child, tree.left_child\n",
    "\n",
    "    def invert_dfs(self):\n",
    "        self.invert_dfs_alg(self)\n",
    "\n",
    "\n",
    "    def stop_node_dfs(self, tree):\n",
    "        if tree:\n",
    "            result = self.stop_node_dfs(tree.right_child)\n",
    "            if result:\n",
    "                return result\n",
    "            return tree.key\n",
    "\n",
    "    def stop_node(self):\n",
    "        return self.stop_node_dfs(self)\n",
    "        \n",
    "\n",
    "    def has_leaf_nodes_dfs(self, tree, key, stop):\n",
    "        if tree:\n",
    "            result = self.has_leaf_nodes_dfs(tree.left_child, key, stop)\n",
    "            if result != None:\n",
    "                return result\n",
    "            result = self.has_leaf_nodes_dfs(tree.right_child, key, stop)\n",
    "            if result != None:\n",
    "                return result\n",
    "            if tree.key == key:\n",
    "                return 'has leaf' if tree.left_child or tree.right_child else \"hasn't leaf\"\n",
    "            if tree.key == stop:\n",
    "                return 'key not found in tree leaves'\n",
    "\n",
    "\n",
    "    def has_leaf_nodes(self, key):\n",
    "        stop = self.stop_node()\n",
    "        return self.has_leaf_nodes_dfs(self, key, stop)\n"
   ]
  },
  {
   "cell_type": "code",
   "execution_count": 37,
   "metadata": {},
   "outputs": [],
   "source": [
    "tree = BinaryTree(1)\n",
    "tree.insert_left(2)\n",
    "tree.insert_right(3)\n",
    "\n",
    "tree.left_child.insert_left(4)\n",
    "tree.right_child.insert_left(5)\n",
    "tree.right_child.insert_right(6)\n",
    "\n",
    "tree.right_child.left_child.insert_left(7)\n",
    "tree.right_child.left_child.insert_left(8)"
   ]
  },
  {
   "cell_type": "code",
   "execution_count": 38,
   "metadata": {},
   "outputs": [
    {
     "name": "stdout",
     "output_type": "stream",
     "text": [
      "1 2 4 3 5 8 7 6 "
     ]
    }
   ],
   "source": [
    "def preorder(tree):\n",
    "    if tree:\n",
    "        print(tree.key, end=' ')\n",
    "        preorder(tree.left_child)\n",
    "        preorder(tree.right_child)\n",
    "\n",
    "preorder(tree)\n",
    "# 1 2 4 3 5 8 7 6 "
   ]
  },
  {
   "cell_type": "code",
   "execution_count": 39,
   "metadata": {},
   "outputs": [
    {
     "name": "stdout",
     "output_type": "stream",
     "text": [
      "4 2 7 8 5 6 3 1 "
     ]
    }
   ],
   "source": [
    "def postorder(tree):\n",
    "    if tree:\n",
    "        postorder(tree.left_child)\n",
    "        postorder(tree.right_child)\n",
    "        print(tree.key, end=' ')\n",
    "\n",
    "postorder(tree)\n",
    "# 4 2 7 8 5 6 3 1 "
   ]
  },
  {
   "cell_type": "code",
   "execution_count": 40,
   "metadata": {},
   "outputs": [
    {
     "name": "stdout",
     "output_type": "stream",
     "text": [
      "4 2 1 7 8 5 3 6 "
     ]
    }
   ],
   "source": [
    "def inorder(tree):\n",
    "    if tree:\n",
    "        inorder (tree.left_child)\n",
    "        print(tree.key, end=' ')\n",
    "        inorder (tree.right_child)\n",
    "\n",
    "inorder(tree)\n",
    "# 4 2 1 7 8 5 3 6 "
   ]
  },
  {
   "cell_type": "code",
   "execution_count": 41,
   "metadata": {},
   "outputs": [],
   "source": [
    "tree.invert()"
   ]
  },
  {
   "cell_type": "markdown",
   "metadata": {},
   "source": [
    "#### Challenges\n",
    "1. Add a method called `has_leaf_nodes` to your binary tree code. The method should return `True` if the tree has no leaf nodes and `False` if it does not.\n",
    "2. Invert a binary tree using a depth-first traversal."
   ]
  },
  {
   "cell_type": "code",
   "execution_count": 42,
   "metadata": {},
   "outputs": [
    {
     "name": "stdout",
     "output_type": "stream",
     "text": [
      "hasn't leaf\n"
     ]
    }
   ],
   "source": [
    "key = 4\n",
    "result = tree.has_leaf_nodes(key)\n",
    "print(result)"
   ]
  },
  {
   "cell_type": "code",
   "execution_count": 43,
   "metadata": {},
   "outputs": [],
   "source": [
    "tree.invert_dfs()"
   ]
  },
  {
   "cell_type": "markdown",
   "metadata": {},
   "source": [
    "### Ch15 - Binary Heaps"
   ]
  },
  {
   "cell_type": "markdown",
   "metadata": {},
   "source": [
    "#### Connecting Ropes with Minimal Cost"
   ]
  },
  {
   "cell_type": "code",
   "execution_count": 44,
   "metadata": {},
   "outputs": [],
   "source": [
    "from heapq import heappush, heappop, heapify"
   ]
  },
  {
   "cell_type": "code",
   "execution_count": 45,
   "metadata": {},
   "outputs": [],
   "source": [
    "def find_min_cost(ropes):\n",
    "    print(ropes)\n",
    "    heapify(ropes)\n",
    "    print(ropes)\n",
    "    cost = 0\n",
    "    while len(ropes) > 1:\n",
    "        sum = heappop(ropes) + heappop(ropes)\n",
    "        print(ropes)\n",
    "        heappush(ropes, sum)\n",
    "        print(ropes)\n",
    "        cost += sum\n",
    "    return cost"
   ]
  },
  {
   "cell_type": "code",
   "execution_count": 46,
   "metadata": {},
   "outputs": [
    {
     "name": "stdout",
     "output_type": "stream",
     "text": [
      "[5, 4, 2, 8]\n",
      "[2, 4, 5, 8]\n",
      "[5, 8]\n",
      "[5, 8, 6]\n",
      "[8]\n",
      "[8, 11]\n",
      "[]\n",
      "[19]\n"
     ]
    },
    {
     "data": {
      "text/plain": [
       "36"
      ]
     },
     "execution_count": 46,
     "metadata": {},
     "output_type": "execute_result"
    }
   ],
   "source": [
    "ropes = [5, 4, 2, 8]\n",
    "find_min_cost(ropes)"
   ]
  },
  {
   "cell_type": "markdown",
   "metadata": {},
   "source": [
    "### Ch16 - Graphs"
   ]
  },
  {
   "cell_type": "code",
   "execution_count": 47,
   "metadata": {},
   "outputs": [],
   "source": [
    "class Vertex:\n",
    "    def __init__(self, key):\n",
    "        self.key = key\n",
    "        self.connections = {}\n",
    "\n",
    "    def add_adj(self, vertex, weight=0):\n",
    "        self.connections[vertex] = weight\n",
    "\n",
    "    def get_connections(self):\n",
    "        return self.connections.keys()\n",
    "\n",
    "    def get_weight(self, vertex):\n",
    "        self.connections[vertex]\n",
    "\n",
    "class Graph:\n",
    "    def __init__(self):\n",
    "        self.vertex_dict = {}\n",
    "\n",
    "    def add_vertex(self, key):\n",
    "        new_vertex = Vertex(key)\n",
    "        self.vertex_dict[key] = new_vertex\n",
    "\n",
    "    def get_vertex(self, key):\n",
    "        return self.vertex_dict.get(key)\n",
    "\n",
    "    def add_edge(self, f, t, weight=0):\n",
    "        if f not in self.vertex_dict:\n",
    "            self.add_vertex(f)\n",
    "        if t not in self.vertex_dict:\n",
    "            self.add_vertex(t)\n",
    "        self.vertex_dict[f].add_adj(self.vertex_dict[t], weight)\n"
   ]
  },
  {
   "cell_type": "code",
   "execution_count": 48,
   "metadata": {},
   "outputs": [
    {
     "name": "stdout",
     "output_type": "stream",
     "text": [
      "['C']\n"
     ]
    }
   ],
   "source": [
    "graph = Graph()\n",
    "# graph.add_vertex(\"A\")\n",
    "# graph.add_vertex(\"B\")\n",
    "# graph.add_vertex(\"C\")\n",
    "graph.add_edge(\"A\", \"B\", 1)\n",
    "graph.add_edge(\"B\", \"C\", 10)\n",
    "vertex_a = graph.get_vertex(\"A\")\n",
    "vertex_b = graph.get_vertex(\"B\")\n",
    "print([v.key for v in vertex_b.get_connections()])"
   ]
  },
  {
   "cell_type": "markdown",
   "metadata": {},
   "source": [
    "#### Dijkstra’s Algorithm"
   ]
  },
  {
   "cell_type": "code",
   "execution_count": 49,
   "metadata": {},
   "outputs": [],
   "source": [
    "import heapq\n",
    "\n",
    "def dijkstra(graph, starting_vertex):\n",
    "    distances = {vertex: float('infinity') for vertex in graph}\n",
    "    distances[starting_vertex] = 0\n",
    "    pq = [(0, starting_vertex)]\n",
    "\n",
    "    while len(pq) > 0:\n",
    "        current_distance, current_vertex = heapq.heappop(pq)\n",
    "        if current_distance > distances[current_vertex]:\n",
    "            continue\n",
    "\n",
    "        for neighbor, weight in graph[current_vertex].items():\n",
    "            distance = current_distance + weight\n",
    "            if distance < distances[neighbor]:\n",
    "                distances[neighbor] = distance\n",
    "                heapq.heappush(pq, (distance, neighbor))\n",
    "                print((distance, neighbor))\n",
    "    return distances\n"
   ]
  },
  {
   "cell_type": "code",
   "execution_count": 50,
   "metadata": {},
   "outputs": [
    {
     "name": "stdout",
     "output_type": "stream",
     "text": [
      "(2, 'B')\n",
      "(6, 'C')\n",
      "(7, 'D')\n"
     ]
    },
    {
     "data": {
      "text/plain": [
       "{'A': 0, 'B': 2, 'C': 6, 'D': 7}"
      ]
     },
     "execution_count": 50,
     "metadata": {},
     "output_type": "execute_result"
    }
   ],
   "source": [
    "graph = {\n",
    "    'A': {'B': 2, 'C': 6},\n",
    "    'B': {'D': 5},\n",
    "    'C': {'D': 8},\n",
    "    'D': {},\n",
    "}\n",
    "\n",
    "dijkstra(graph, 'A')"
   ]
  }
 ],
 "metadata": {
  "interpreter": {
   "hash": "aec1ca308a3699baa834a521d9b359a8ada8dfd79852e26ac83c6796c2aea499"
  },
  "kernelspec": {
   "display_name": "Python 3.9.10 ('win39': venv)",
   "language": "python",
   "name": "python3"
  },
  "language_info": {
   "codemirror_mode": {
    "name": "ipython",
    "version": 3
   },
   "file_extension": ".py",
   "mimetype": "text/x-python",
   "name": "python",
   "nbconvert_exporter": "python",
   "pygments_lexer": "ipython3",
   "version": "3.9.10"
  },
  "orig_nbformat": 4
 },
 "nbformat": 4,
 "nbformat_minor": 2
}
