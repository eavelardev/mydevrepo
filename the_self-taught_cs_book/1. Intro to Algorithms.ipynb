{
 "cells": [
  {
   "cell_type": "markdown",
   "metadata": {},
   "source": [
    "## Intro to Algorithms"
   ]
  },
  {
   "cell_type": "markdown",
   "metadata": {},
   "source": [
    "### Ch2 - Recursion"
   ]
  },
  {
   "cell_type": "code",
   "execution_count": 1,
   "metadata": {},
   "outputs": [],
   "source": [
    "# Ch2 - Recursion, pag. 20\n",
    "\n",
    "def factorial(n):\n",
    "    result = 1\n",
    "    while n > 1:\n",
    "        result *= n\n",
    "        n -=1\n",
    "    return result"
   ]
  },
  {
   "cell_type": "code",
   "execution_count": 2,
   "metadata": {},
   "outputs": [],
   "source": [
    "def factorial(n):\n",
    "    if n > 1: # continuation condition\n",
    "        return n * factorial(n - 1)\n",
    "    return 1"
   ]
  },
  {
   "cell_type": "code",
   "execution_count": 3,
   "metadata": {},
   "outputs": [],
   "source": [
    "def factorial(n):\n",
    "    if n == 1: # ending condition\n",
    "        return 1\n",
    "    return n * factorial(n - 1)"
   ]
  },
  {
   "cell_type": "markdown",
   "metadata": {},
   "source": [
    "#### Challenge\n",
    "1. Print the numbers from 1 to 10 recursively."
   ]
  },
  {
   "cell_type": "code",
   "execution_count": 4,
   "metadata": {},
   "outputs": [],
   "source": [
    "# Ch2 - Recursion_ Challenge, pag. 23\n",
    "\n",
    "def print_r(n):\n",
    "    if n > 0: # continuation condition\n",
    "        print_r(n-1)\n",
    "        print(n, end=' ')\n",
    "    return"
   ]
  },
  {
   "cell_type": "code",
   "execution_count": 5,
   "metadata": {},
   "outputs": [],
   "source": [
    "def print_r(n):\n",
    "    if n == 0: # ending condition\n",
    "        return\n",
    "    print_r(n-1)\n",
    "    print(n, end=' ')"
   ]
  },
  {
   "cell_type": "code",
   "execution_count": 6,
   "metadata": {},
   "outputs": [
    {
     "name": "stdout",
     "output_type": "stream",
     "text": [
      "1 2 3 4 5 6 7 8 9 10 "
     ]
    }
   ],
   "source": [
    "print_r(10)"
   ]
  },
  {
   "cell_type": "markdown",
   "metadata": {},
   "source": [
    "### Ch3 - Search Algorithms"
   ]
  },
  {
   "cell_type": "markdown",
   "metadata": {},
   "source": [
    "#### Linear Search"
   ]
  },
  {
   "cell_type": "code",
   "execution_count": 7,
   "metadata": {},
   "outputs": [],
   "source": [
    "# Ch2 - Search Algorithms_ Linear Search, pag. 26\n",
    "\n",
    "def linear_search(a_list, n):\n",
    "    for i in a_list:\n",
    "        if i == n:\n",
    "            return True\n",
    "    return False"
   ]
  },
  {
   "cell_type": "code",
   "execution_count": 8,
   "metadata": {},
   "outputs": [
    {
     "data": {
      "text/plain": [
       "True"
      ]
     },
     "execution_count": 8,
     "metadata": {},
     "output_type": "execute_result"
    }
   ],
   "source": [
    "a_list = [1, 8, 32, 91, 5, 15, 9, 100, 3]\n",
    "linear_search(a_list, 91)"
   ]
  },
  {
   "cell_type": "markdown",
   "metadata": {},
   "source": [
    "#### Binary Search"
   ]
  },
  {
   "cell_type": "code",
   "execution_count": 9,
   "metadata": {},
   "outputs": [],
   "source": [
    "# Ch3 - Search Algorithms_ Binary Search, pag. 29\n",
    "\n",
    "def binary_search(a_list, n):\n",
    "    first = 0\n",
    "    last = len(a_list) - 1\n",
    "    while last >= first:\n",
    "        mid = (first + last) // 2\n",
    "        if a_list[mid] == n:\n",
    "            return True\n",
    "        else:\n",
    "            if n > a_list[mid]:\n",
    "                first = mid + 1\n",
    "            else:\n",
    "                last = mid - 1\n",
    "    return False"
   ]
  },
  {
   "cell_type": "code",
   "execution_count": 10,
   "metadata": {},
   "outputs": [],
   "source": [
    "def binary_search(a_list, n):\n",
    "    if len(a_list) == 0:\n",
    "        return False\n",
    "    \n",
    "    mid = len(a_list) // 2\n",
    "\n",
    "    if a_list[mid] == n:\n",
    "        return True\n",
    "    elif mid != 0:\n",
    "        if n > a_list[mid]:\n",
    "            return binary_search(a_list[mid + 1:], n)\n",
    "        else:\n",
    "            return binary_search(a_list[:mid], n)\n",
    "    else:\n",
    "        return False"
   ]
  },
  {
   "cell_type": "code",
   "execution_count": 11,
   "metadata": {},
   "outputs": [],
   "source": [
    "from bisect import bisect_left\n",
    "\n",
    "def binary_search(an_iterable, target):\n",
    "    index = bisect_left(an_iterable, target)\n",
    "    if index < len(an_iterable) and an_iterable[index] == target:\n",
    "        return True\n",
    "    return False"
   ]
  },
  {
   "cell_type": "code",
   "execution_count": 12,
   "metadata": {},
   "outputs": [
    {
     "data": {
      "text/plain": [
       "True"
      ]
     },
     "execution_count": 12,
     "metadata": {},
     "output_type": "execute_result"
    }
   ],
   "source": [
    "an_iterable = [5]\n",
    "target = 5\n",
    "\n",
    "binary_search(an_iterable, target)"
   ]
  },
  {
   "cell_type": "markdown",
   "metadata": {},
   "source": [
    "#### Challenge\n",
    "1. Given a list of characters in alphabetical order, write a function that performs a binary search for a character and returns whether it is in the list"
   ]
  },
  {
   "cell_type": "code",
   "execution_count": 13,
   "metadata": {},
   "outputs": [],
   "source": [
    "def binary_search(a_list, c):\n",
    "    first = 0\n",
    "    last = len(a_list) - 1\n",
    "    while last >= first:\n",
    "        mid = (first + last) // 2\n",
    "        if a_list[mid] == c:\n",
    "            return True\n",
    "        else:\n",
    "            if ord(c) > ord(a_list[mid]):\n",
    "                first = mid + 1\n",
    "            else:\n",
    "                last = mid - 1\n",
    "    return False"
   ]
  },
  {
   "cell_type": "code",
   "execution_count": 14,
   "metadata": {},
   "outputs": [
    {
     "data": {
      "text/plain": [
       "True"
      ]
     },
     "execution_count": 14,
     "metadata": {},
     "output_type": "execute_result"
    }
   ],
   "source": [
    "binary_search(['a', 'b', 'c', 'd'], 'b')"
   ]
  },
  {
   "cell_type": "markdown",
   "metadata": {},
   "source": [
    "#### Ch4 - Sorting Algorithms"
   ]
  },
  {
   "cell_type": "markdown",
   "metadata": {},
   "source": [
    "### Bubble Sort"
   ]
  },
  {
   "cell_type": "code",
   "execution_count": 15,
   "metadata": {},
   "outputs": [],
   "source": [
    "# Ch4 - Sorting Algorithms_ Bubble Sort, pag. 39\n",
    "\n",
    "def bubble_sort(a_list):\n",
    "    list_length = len(a_list) - 1\n",
    "    print(a_list)\n",
    "    for _ in range(list_length):\n",
    "        for j in range(list_length):\n",
    "            if a_list[j] > a_list[j + 1]:\n",
    "                a_list[j], a_list[j + 1] = a_list[j + 1], a_list[j]\n",
    "                print(a_list)\n",
    "    return a_list"
   ]
  },
  {
   "cell_type": "markdown",
   "metadata": {},
   "source": [
    "You can improve the efficiency of your bubble sort by including `− i` in your second `for` loop"
   ]
  },
  {
   "cell_type": "code",
   "execution_count": 16,
   "metadata": {},
   "outputs": [],
   "source": [
    "def bubble_sort(a_list):\n",
    "    list_length = len(a_list) - 1\n",
    "    print(a_list)\n",
    "    for i in range(list_length):\n",
    "        for j in range(list_length - i):\n",
    "            if a_list[j] > a_list[j + 1]:\n",
    "                a_list[j], a_list[j + 1] = a_list[j + 1], a_list[j]\n",
    "                print(a_list)\n",
    "    return a_list"
   ]
  },
  {
   "cell_type": "markdown",
   "metadata": {},
   "source": [
    "You can also make your bubble sort more efficient by adding a variable that keeps track of whether\n",
    "your algorithm made any swaps in your inner loop"
   ]
  },
  {
   "cell_type": "code",
   "execution_count": 17,
   "metadata": {},
   "outputs": [],
   "source": [
    "def bubble_sort(a_list):\n",
    "    list_length = len(a_list) - 1\n",
    "    print(a_list)\n",
    "    for i in range(list_length):\n",
    "        no_swaps = True\n",
    "        for j in range(list_length - i):\n",
    "            if a_list[j] > a_list[j + 1]:\n",
    "                a_list[j], a_list[j + 1] = a_list[j + 1], a_list[j]\n",
    "                no_swaps = False\n",
    "                print(a_list)\n",
    "        if no_swaps:\n",
    "            return a_list\n",
    "    return a_list"
   ]
  },
  {
   "cell_type": "code",
   "execution_count": 18,
   "metadata": {},
   "outputs": [
    {
     "name": "stdout",
     "output_type": "stream",
     "text": [
      "[32, 1, 9, 6]\n",
      "[1, 32, 9, 6]\n",
      "[1, 9, 32, 6]\n",
      "[1, 9, 6, 32]\n",
      "[1, 6, 9, 32]\n"
     ]
    }
   ],
   "source": [
    "a_list = [32, 1, 9, 6] \n",
    "_ = bubble_sort(a_list)"
   ]
  },
  {
   "cell_type": "markdown",
   "metadata": {},
   "source": [
    "#### Insertion Sort"
   ]
  },
  {
   "cell_type": "code",
   "execution_count": 19,
   "metadata": {},
   "outputs": [],
   "source": [
    "#Ch4 - Sorting Algorithms_ Insertion Sort, pag. 43\n",
    "\n",
    "def insertion_sort(a_list):\n",
    "    print(a_list)\n",
    "    for i in range(1, len(a_list)):\n",
    "        value = a_list[i]\n",
    "        while i > 0 and a_list[i - 1] > value:\n",
    "            a_list[i] = a_list[i - 1]\n",
    "            i -= 1\n",
    "        a_list[i] = value\n",
    "        print(a_list)\n",
    "    return a_list"
   ]
  },
  {
   "cell_type": "code",
   "execution_count": 20,
   "metadata": {},
   "outputs": [
    {
     "name": "stdout",
     "output_type": "stream",
     "text": [
      "[6, 5, 8, 2]\n",
      "[5, 6, 8, 2]\n",
      "[5, 6, 8, 2]\n",
      "[2, 5, 6, 8]\n"
     ]
    }
   ],
   "source": [
    "a_list = [6, 5, 8, 2]\n",
    "_ = insertion_sort(a_list)"
   ]
  },
  {
   "cell_type": "markdown",
   "metadata": {},
   "source": [
    "#### Merge Sort\n",
    "A merge sort is a recursive sorting algorithm that continually splits a list in half until there are one or more lists containing one item and then puts them back together in the correct order."
   ]
  },
  {
   "cell_type": "code",
   "execution_count": 21,
   "metadata": {},
   "outputs": [],
   "source": [
    "#Ch4 - Sorting Algorithms_ Merge Sort, pag. 46\n",
    "\n",
    "def merge_sort(a_list):\n",
    "    if len(a_list) > 1:\n",
    "        mid = len(a_list) // 2\n",
    "        left_half = a_list[:mid]\n",
    "        right_half = a_list[mid:]\n",
    "        merge_sort(left_half)\n",
    "        merge_sort(right_half)\n",
    "\n",
    "        left_ind = 0\n",
    "        right_ind = 0\n",
    "        alist_ind = 0\n",
    "        while left_ind < len(left_half) and right_ind < len(right_half):\n",
    "            if left_half[left_ind] <= right_half[right_ind]:\n",
    "                a_list[alist_ind] = left_half[left_ind]\n",
    "                left_ind += 1\n",
    "            else:\n",
    "                a_list[alist_ind] = right_half[right_ind]\n",
    "                right_ind += 1\n",
    "            alist_ind += 1\n",
    "\n",
    "        if left_ind < len(left_half):\n",
    "            a_list[alist_ind:] = left_half[left_ind:]\n",
    "        if right_ind < len(right_half):\n",
    "            a_list[alist_ind:] = right_half[right_ind:]\n"
   ]
  },
  {
   "cell_type": "code",
   "execution_count": 22,
   "metadata": {},
   "outputs": [
    {
     "data": {
      "text/plain": [
       "[2, 3, 6, 9]"
      ]
     },
     "execution_count": 22,
     "metadata": {},
     "output_type": "execute_result"
    }
   ],
   "source": [
    "a_list = [6, 3, 9, 2]\n",
    "merge_sort(a_list)\n",
    "a_list"
   ]
  },
  {
   "cell_type": "markdown",
   "metadata": {},
   "source": [
    "### Ch5 - String Algorithms"
   ]
  },
  {
   "cell_type": "markdown",
   "metadata": {},
   "source": [
    "#### Anagram Detection\n",
    "Two strings are `anagrams` if they contain the same letters, but not necessarily in the same order (case\n",
    "does not matter)"
   ]
  },
  {
   "cell_type": "code",
   "execution_count": 23,
   "metadata": {},
   "outputs": [],
   "source": [
    "#Ch5 - String Algorithms_ Anagram Detection, pag. 55\n",
    "\n",
    "def is_anagram(s1, s2):\n",
    "    s1 = s1.replace(' ', '').lower()\n",
    "    s2 = s2.replace(' ', '').lower()\n",
    "    if sorted(s1) == sorted(s2):\n",
    "        return True\n",
    "    else:\n",
    "        return False"
   ]
  },
  {
   "cell_type": "code",
   "execution_count": 24,
   "metadata": {},
   "outputs": [
    {
     "data": {
      "text/plain": [
       "True"
      ]
     },
     "execution_count": 24,
     "metadata": {},
     "output_type": "execute_result"
    }
   ],
   "source": [
    "s1 = 'Emperor Octavian'\n",
    "s2 = 'Captain over Rome'\n",
    "is_anagram(s1,s2)"
   ]
  },
  {
   "cell_type": "markdown",
   "metadata": {},
   "source": [
    "#### Palindrome Detection\n",
    "A palindrome is a word that reads the same backward as forward"
   ]
  },
  {
   "cell_type": "code",
   "execution_count": 25,
   "metadata": {},
   "outputs": [],
   "source": [
    "#Ch5 - String Algorithms_ Palindrome Detection, pag. 56\n",
    "\n",
    "def is_palindrome(s1):\n",
    "    if s1.slower() == s1[::-1].lower():\n",
    "        return True\n",
    "    return False"
   ]
  },
  {
   "cell_type": "markdown",
   "metadata": {},
   "source": [
    "#### Last Digit"
   ]
  },
  {
   "cell_type": "code",
   "execution_count": 26,
   "metadata": {},
   "outputs": [
    {
     "data": {
      "text/plain": [
       "'2'"
      ]
     },
     "execution_count": 26,
     "metadata": {},
     "output_type": "execute_result"
    }
   ],
   "source": [
    "#Ch5 - String Algorithms_ Last Digit, pag. 57\n",
    "\n",
    "s = \"Buy 1 get 2 free\"\n",
    "last_digit = [c for c in s if c.isdigit()][-1]\n",
    "last_digit"
   ]
  },
  {
   "cell_type": "markdown",
   "metadata": {},
   "source": [
    "#### Caesar Cipher\n",
    "\n",
    "A cipher is an algorithm for encryption or decryption. Modulo arithmetic is the key to coding a Caesar cipher."
   ]
  },
  {
   "cell_type": "code",
   "execution_count": 27,
   "metadata": {},
   "outputs": [],
   "source": [
    "#Ch5 - String Algorithms_ Caesar Cipher, pag. 59\n",
    "import string\n",
    "\n",
    "def cipher(a_string, key):\n",
    "    uppercase = string.ascii_uppercase\n",
    "    lowercase = string.ascii_lowercase\n",
    "    encrypt = ''\n",
    "    for c in a_string:\n",
    "        if c in uppercase:\n",
    "            new = uppercase.index(c) % 26\n",
    "            encrypt += uppercase[new]\n",
    "        elif c in lowercase:\n",
    "            new = lowercase.index(c) % 26\n",
    "            encrypt += lowercase[new]\n",
    "        else:\n",
    "            encrypt += new\n",
    "    return encrypt"
   ]
  },
  {
   "cell_type": "markdown",
   "metadata": {},
   "source": [
    "#### Challenge\n",
    "1. Use a list comprehension to return a list of all the words in the following list that have more than four characters: [\"selftaught\", \"code\", \"sit\", \"eat\", \"programming\", \"dinner\", \"one\", \"two\", \"coding\", \"a\", \"tech\"]."
   ]
  },
  {
   "cell_type": "code",
   "execution_count": 28,
   "metadata": {},
   "outputs": [
    {
     "data": {
      "text/plain": [
       "['selftaught', 'programming', 'dinner', 'coding']"
      ]
     },
     "execution_count": 28,
     "metadata": {},
     "output_type": "execute_result"
    }
   ],
   "source": [
    "words = [\"selftaught\", \"code\", \"sit\", \"eat\", \"programming\", \"dinner\", \"one\", \"two\", \"coding\", \"a\", \"tech\"]\n",
    "[word for word in words if len(word) > 4]\n"
   ]
  },
  {
   "cell_type": "markdown",
   "metadata": {},
   "source": [
    "### Ch6 - Math"
   ]
  },
  {
   "cell_type": "markdown",
   "metadata": {},
   "source": [
    "#### Bitwise Operators"
   ]
  },
  {
   "cell_type": "code",
   "execution_count": 29,
   "metadata": {},
   "outputs": [],
   "source": [
    "#Ch6 - Math_ Bitwise Operators, pag. 69\n",
    "def is_even(n):\n",
    "    return not n & 1"
   ]
  },
  {
   "cell_type": "code",
   "execution_count": 30,
   "metadata": {},
   "outputs": [],
   "source": [
    "#Ch6 - Math_ Bitwise Operators, pag. 69\n",
    "def is_power2(n):\n",
    "    if n & (n - 1) == 0:\n",
    "        return True\n",
    "    return False"
   ]
  },
  {
   "cell_type": "markdown",
   "metadata": {},
   "source": [
    "#### FizzBuzz\n",
    "If the number is a multiple of 3, print “Fizz.” If the number is a multiple of 5, print “Buzz.” If the number is a multiple of 3 and 5, print “FizzBuzz.”"
   ]
  },
  {
   "cell_type": "code",
   "execution_count": 31,
   "metadata": {},
   "outputs": [],
   "source": [
    "#Ch6 - Math_ FizzBuzz, pag. 70\n",
    "\n",
    "def fizzbuzz(n):\n",
    "    for num in range(1, n+1):\n",
    "        fizz = 'Fizz' if num % 3 == 0 else '' \n",
    "        buzz = 'Buzz' if num % 5 == 0 else ''\n",
    "        fizzbuzz = fizz + buzz\n",
    "        message = fizzbuzz if fizzbuzz else str(num)\n",
    "        print(message, end=' ')"
   ]
  },
  {
   "cell_type": "code",
   "execution_count": 32,
   "metadata": {},
   "outputs": [
    {
     "name": "stdout",
     "output_type": "stream",
     "text": [
      "1 2 Fizz 4 Buzz Fizz 7 8 "
     ]
    }
   ],
   "source": [
    "fizzbuzz(8)"
   ]
  },
  {
   "cell_type": "markdown",
   "metadata": {},
   "source": [
    "#### Greatest Common Factor"
   ]
  },
  {
   "cell_type": "code",
   "execution_count": 33,
   "metadata": {},
   "outputs": [],
   "source": [
    "#Ch6 - Math_ Greatest Common Factor, pag. 74\n",
    "\n",
    "def gcf(i1, i2):\n",
    "    if i1 < 0 or i2 < 0:\n",
    "        raise ValueError(\"Numbers must be positive.\")\n",
    "    if i1 == 0:\n",
    "        return i2\n",
    "    if i2 == 0:\n",
    "        return i1\n",
    "\n",
    "    smaller = i1 if i2 > i1 else i2\n",
    "\n",
    "    for divisor in reversed(range(1, smaller + 1)):\n",
    "        if(i1 % divisor == 0) and (i2 % divisor == 0):\n",
    "            gcf = divisor\n",
    "            break\n",
    "\n",
    "    return gcf\n"
   ]
  },
  {
   "cell_type": "markdown",
   "metadata": {},
   "source": [
    "#### Euclid's Algorithm"
   ]
  },
  {
   "cell_type": "code",
   "execution_count": 34,
   "metadata": {},
   "outputs": [],
   "source": [
    "#Ch6 - Math_ Euclid's Algorithm, pag. 75\n",
    "\n",
    "def gcf(x, y):\n",
    "    if y == 0:\n",
    "        x, y = y, x\n",
    "    while y != 0:\n",
    "        x, y = y, x % y\n",
    "    return x"
   ]
  },
  {
   "cell_type": "code",
   "execution_count": 35,
   "metadata": {},
   "outputs": [
    {
     "data": {
      "text/plain": [
       "4"
      ]
     },
     "execution_count": 35,
     "metadata": {},
     "output_type": "execute_result"
    }
   ],
   "source": [
    "gcf(20, 12)"
   ]
  },
  {
   "cell_type": "markdown",
   "metadata": {},
   "source": [
    "#### Primes\n",
    "A prime number is a positive integer divisible only by itself and 1."
   ]
  },
  {
   "cell_type": "code",
   "execution_count": 36,
   "metadata": {},
   "outputs": [],
   "source": [
    "#Ch6 - Math_ Primes, pag. 77\n",
    "import math\n",
    "\n",
    "def is_prime(n):\n",
    "    if n < 2:\n",
    "        return False\n",
    "\n",
    "    for i in range(2, int(math.sqrt(n)) + 1):\n",
    "        if n % i == 0:\n",
    "            return False\n",
    "    return True\n",
    "\n",
    "def find_primes(n):\n",
    "    return [i for i in range(2, n + 1) if is_prime(i)]"
   ]
  },
  {
   "cell_type": "code",
   "execution_count": 37,
   "metadata": {},
   "outputs": [
    {
     "data": {
      "text/plain": [
       "[2, 3, 5, 7]"
      ]
     },
     "execution_count": 37,
     "metadata": {},
     "output_type": "execute_result"
    }
   ],
   "source": [
    "find_primes(10)"
   ]
  }
 ],
 "metadata": {
  "interpreter": {
   "hash": "aec1ca308a3699baa834a521d9b359a8ada8dfd79852e26ac83c6796c2aea499"
  },
  "kernelspec": {
   "display_name": "Python 3.9.10 ('win39': venv)",
   "language": "python",
   "name": "python3"
  },
  "language_info": {
   "codemirror_mode": {
    "name": "ipython",
    "version": 3
   },
   "file_extension": ".py",
   "mimetype": "text/x-python",
   "name": "python",
   "nbconvert_exporter": "python",
   "pygments_lexer": "ipython3",
   "version": "3.9.10"
  },
  "orig_nbformat": 4
 },
 "nbformat": 4,
 "nbformat_minor": 2
}
