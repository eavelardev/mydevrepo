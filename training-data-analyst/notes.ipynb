{
 "cells": [
  {
   "cell_type": "markdown",
   "metadata": {},
   "source": [
    "How Google does Machine Learning\n",
    "\n",
    "Labs:\n",
    "- [(Optional) Lab: Vertex AI Model Builder SDK: Training and Making Predictions on an AutoML Model (3 hours)](https://www.coursera.org/learn/google-machine-learning/ungradedLti/b0ew2/optional-lab-vertex-ai-model-builder-sdk-training-and-making-predictions-on-an)\n",
    "- [Vertex AI Model Builder SDK: AutoML Tabular Training and Prediction (Solution)](https://github.com/GoogleCloudPlatform/training-data-analyst/blob/master/courses/machine_learning/deepdive2/how_google_does_ml/solutions/automl-tabular-classification.ipynb)\n",
    "\n",
    "Launching into Machine Learning\n",
    "Labs:\n",
    "- [Lab: Improving data quality (45 minutes)](https://www.coursera.org/learn/launching-machine-learning/gradedLti/vEKNY/lab-improving-data-quality)\n",
    "    - [Improving Data Quality (Soultion)](https://github.com/GoogleCloudPlatform/training-data-analyst/blob/master/courses/machine_learning/deepdive2/launching_into_ml/solutions/improve_data_quality.ipynb)\n",
    "- [Lab: Exploratory Data Analysis using Python and BigQuery (2 hours)](https://www.coursera.org/learn/launching-machine-learning/gradedLti/20Kk0/lab-exploratory-data-analysis-using-python-and-bigquery)\n",
    "    - [Exploratory Data Analysis Using Python and BigQuery (Soultion)](https://github.com/GoogleCloudPlatform/training-data-analyst/blob/master/courses/machine_learning/deepdive2/launching_into_ml/solutions/python.BQ_explore_data.ipynb)"
   ]
  },
  {
   "cell_type": "markdown",
   "metadata": {},
   "source": []
  }
 ],
 "metadata": {
  "kernelspec": {
   "display_name": "Python 3.10.4 ('ml_dev')",
   "language": "python",
   "name": "python3"
  },
  "language_info": {
   "name": "python",
   "version": "3.10.4"
  },
  "orig_nbformat": 4,
  "vscode": {
   "interpreter": {
    "hash": "087908278022b2d85c45a245fe6e85c62ca2bfdf1920b8ef7f67b833538e2768"
   }
  }
 },
 "nbformat": 4,
 "nbformat_minor": 2
}
