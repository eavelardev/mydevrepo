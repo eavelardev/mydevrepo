{
 "cells": [
  {
   "cell_type": "code",
   "execution_count": 1,
   "metadata": {},
   "outputs": [
    {
     "data": {
      "text/plain": [
       "['tensorflow', 'seaborn']"
      ]
     },
     "execution_count": 1,
     "metadata": {},
     "output_type": "execute_result"
    }
   ],
   "source": [
    "packages = {\n",
    "    'tensorflow' : {\n",
    "        'requires' : ['absl-py', 'astunparse', 'flatbuffers', 'gast', 'google-pasta', 'grpcio', 'h5py', 'keras', 'keras-preprocessing', 'libclang', 'numpy', 'opt-einsum', 'packaging', 'protobuf', 'setuptools', 'six', 'tensorboard', 'tensorflow-estimator', 'tensorflow-io-gcs-filesystem', 'termcolor', 'typing-extensions', 'wrapt'],\n",
    "        'required' : []\n",
    "    },\n",
    "    'numpy' : {\n",
    "        'requires' : [],\n",
    "        'required' : ['h5py', 'Keras-Preprocessing', 'matplotlib', 'opt-einsum', 'pandas', 'scipy', 'seaborn', 'tensorboard', 'tensorflow']\n",
    "    },\n",
    "    'pandas' : {\n",
    "        'requires' : ['numpy', 'python-dateutil', 'pytz'],\n",
    "        'required' : ['seaborn']\n",
    "    },\n",
    "    'seaborn' : {\n",
    "        'requires' : ['matplotlib', 'numpy', 'pandas', 'scipy'],\n",
    "        'required' : []\n",
    "    },\n",
    "    'matplotlib' : {\n",
    "        'requires' : ['cycler', 'fonttools', 'kiwisolver', 'numpy', 'packaging', 'pillow', 'pyparsing', 'python-dateutil'],\n",
    "        'required' : ['seaborn']\n",
    "    }\n",
    "}\n",
    "\n",
    "[key for key in packages.keys() if packages[key]['required'] == []]"
   ]
  }
 ],
 "metadata": {
  "kernelspec": {
   "display_name": "Python 3.10.4 ('ml_dev')",
   "language": "python",
   "name": "python3"
  },
  "language_info": {
   "codemirror_mode": {
    "name": "ipython",
    "version": 3
   },
   "file_extension": ".py",
   "mimetype": "text/x-python",
   "name": "python",
   "nbconvert_exporter": "python",
   "pygments_lexer": "ipython3",
   "version": "3.10.4"
  },
  "orig_nbformat": 4,
  "vscode": {
   "interpreter": {
    "hash": "087908278022b2d85c45a245fe6e85c62ca2bfdf1920b8ef7f67b833538e2768"
   }
  }
 },
 "nbformat": 4,
 "nbformat_minor": 2
}
