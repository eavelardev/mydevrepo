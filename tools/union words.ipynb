{
 "cells": [
  {
   "cell_type": "code",
   "execution_count": 3,
   "metadata": {},
   "outputs": [],
   "source": [
    "def process(title):\n",
    "    return set(title.replace(',', '').replace(' - ', '').replace(' – ', ' ').split())"
   ]
  },
  {
   "cell_type": "code",
   "execution_count": 4,
   "metadata": {},
   "outputs": [
    {
     "name": "stdout",
     "output_type": "stream",
     "text": [
      "{'Video', 'Projectors', 'Android', 'Voice', 'UST', 'Projector', 'Ultra', 'Nova', 'WEMAX', 'HDR10', 'for', 'Command', 'Remote', 'Movies', '150\"', 'Projection', 'Laser', 'Bluetooth', '4K', 'Short', 'Gaming', 'WiFi', 'Throw', 'with', 'UHD', 'Smart', 'TV'}\n",
      "{'Image', '60W', 'Android', 'Aura', 'Projector', 'ANSI', 'Ultra', 'Speakers', 'HDR10', 'and', 'XGIMI', 'Lumens', 'Theater', 'Laser', 'Integrated', 'Kardon', '4K', 'Quality', 'Short', 'Throw', '2400', 'UHD', 'Home', 'Harman', 'TV'}\n"
     ]
    }
   ],
   "source": [
    "a = 'WEMAX Nova 4K UHD Ultra Short Throw Smart Laser Projector – Android TV – HDR10 150\" Projection – UST Laser TV for Movies, Video, Gaming – Voice Command Remote – Projectors with WiFi Bluetooth'\n",
    "b = 'XGIMI Aura 4K UHD Ultra Short Throw Laser Projector, Android TV, 2400 ANSI Lumens, Integrated 60W Harman Kardon Speakers, HDR10, and Home Theater Image Quality'\n",
    "\n",
    "a = process(a)\n",
    "b = process(b)\n",
    "\n",
    "print(a)\n",
    "print(b)"
   ]
  },
  {
   "cell_type": "code",
   "execution_count": 5,
   "metadata": {},
   "outputs": [
    {
     "data": {
      "text/plain": [
       "'Short Projector Throw Ultra UHD Android HDR10 Laser 4K TV'"
      ]
     },
     "execution_count": 5,
     "metadata": {},
     "output_type": "execute_result"
    }
   ],
   "source": [
    "' '.join(a & b)"
   ]
  }
 ],
 "metadata": {
  "kernelspec": {
   "display_name": "Python 3.10.4 ('ml_dev')",
   "language": "python",
   "name": "python3"
  },
  "language_info": {
   "codemirror_mode": {
    "name": "ipython",
    "version": 3
   },
   "file_extension": ".py",
   "mimetype": "text/x-python",
   "name": "python",
   "nbconvert_exporter": "python",
   "pygments_lexer": "ipython3",
   "version": "3.9.12"
  },
  "orig_nbformat": 4,
  "vscode": {
   "interpreter": {
    "hash": "087908278022b2d85c45a245fe6e85c62ca2bfdf1920b8ef7f67b833538e2768"
   }
  }
 },
 "nbformat": 4,
 "nbformat_minor": 2
}
