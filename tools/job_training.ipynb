{
 "cells": [
  {
   "cell_type": "markdown",
   "metadata": {},
   "source": [
    "### Resources\n",
    "\n",
    "#### Life at Google (Youtube Videos) - [link](https://www.youtube.com/c/LifeatGoogle)\n",
    "- Prepare for Your Google Interview: Coding (Jul 1, 2019) - [link](https://www.youtube.com/watch?v=6ZZX9iIgFoo)\n",
    "- Interview tips from Google Software Engineers (Jan 16, 2019) - [link](https://www.youtube.com/watch?v=XOtrOSatBoY)\n",
    "- How to: Work at Google — Example Coding/Engineering Interview (Nov 7, 2016) - [link](https://www.youtube.com/watch?v=XKu_SEDAykw)\n",
    "- How to: Prepare for a Google Engineering Interview (Oct 27, 2016) - [link](https://www.youtube.com/watch?v=ko-KkSmp-Lk)\n",
    "\n",
    "#### Google Students (Youtube Videos) - [link](https://www.youtube.com/c/GoogleStudents)\n",
    "- Prepare for your Google Interview: Tips and Example General Cognitive Ability Question (Jul 30, 2019) - [link](https://www.youtube.com/watch?v=eIMR82oO2Dc)"
   ]
  },
  {
   "cell_type": "markdown",
   "metadata": {},
   "source": [
    "#### Kick Start \n",
    "- Coding Practice with Kick Start 2022 [link](https://codingcompetitionsonair.withgoogle.com/events/cpwks-2022)\n",
    "- 2022 Schedule - [link](https://codingcompetitions.withgoogle.com/kickstart/schedule)\n",
    "- Youtube Playlist - [link](https://www.youtube.com/playlist?list=PLOU2XLYxmsIJziKF4hb1GDmQM5WzjKCQP)"
   ]
  },
  {
   "cell_type": "markdown",
   "metadata": {},
   "source": []
  }
 ],
 "metadata": {
  "language_info": {
   "name": "python"
  },
  "orig_nbformat": 4
 },
 "nbformat": 4,
 "nbformat_minor": 2
}
