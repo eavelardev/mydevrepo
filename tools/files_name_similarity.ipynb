{
 "cells": [
  {
   "cell_type": "code",
   "execution_count": 1,
   "metadata": {},
   "outputs": [],
   "source": [
    "import os\n",
    "import re\n",
    "import pandas as pd\n",
    "\n",
    "from nltk.tokenize import RegexpTokenizer"
   ]
  },
  {
   "cell_type": "code",
   "execution_count": 2,
   "metadata": {},
   "outputs": [],
   "source": [
    "tokenizer = RegexpTokenizer(r'\\w+')"
   ]
  },
  {
   "cell_type": "code",
   "execution_count": 3,
   "metadata": {},
   "outputs": [],
   "source": [
    "path = r'D:\\Google Drive_back\\read\\book repository'"
   ]
  },
  {
   "cell_type": "code",
   "execution_count": 4,
   "metadata": {},
   "outputs": [],
   "source": [
    "files = os.listdir(path)"
   ]
  },
  {
   "cell_type": "code",
   "execution_count": 5,
   "metadata": {},
   "outputs": [],
   "source": [
    "def get_tokens(file):\n",
    "    tokens = tokenizer.tokenize(file)\n",
    "    keep_tokens = []\n",
    "\n",
    "    for token in tokens:\n",
    "        if token in ['_', 'pdf']:\n",
    "            continue\n",
    "        elif token[0].isdigit():\n",
    "            continue\n",
    "\n",
    "        keep_tokens.append(token)\n",
    "\n",
    "    return set(keep_tokens)"
   ]
  },
  {
   "cell_type": "code",
   "execution_count": 6,
   "metadata": {},
   "outputs": [],
   "source": [
    "keywords = {file: get_tokens(file) for file in files}"
   ]
  },
  {
   "cell_type": "code",
   "execution_count": 7,
   "metadata": {},
   "outputs": [],
   "source": [
    "scores = []\n",
    "file1 = []\n",
    "file2 = []\n",
    "\n",
    "for i in range(len(keywords)-1):\n",
    "    for j in range(i+1, len(keywords)):\n",
    "        keyword1, keyword2 = keywords[files[i]], keywords[files[j]]\n",
    "        intersect = len(keyword1.intersection(keyword2))\n",
    "        # union = len(keyword1.union(keyword2))\n",
    "        min_set = min(len(keyword1), len(keyword2))\n",
    "        rate = round(intersect / min_set, 2)\n",
    "        \n",
    "        scores.append(rate)\n",
    "        file1.append(files[i])\n",
    "        file2.append(files[j])\n",
    "\n",
    "data = {'score': scores, 'file1': file1, 'file2': file2}\n",
    "df = pd.DataFrame(data).sort_values(by=['score', 'file1'], ascending=False)\n"
   ]
  },
  {
   "cell_type": "code",
   "execution_count": 8,
   "metadata": {},
   "outputs": [],
   "source": [
    "df[df['score'] > 0.7].to_csv('books_similarity.csv', index=False)"
   ]
  }
 ],
 "metadata": {
  "kernelspec": {
   "display_name": "Python 3.8.13 ('tf_cert')",
   "language": "python",
   "name": "python3"
  },
  "language_info": {
   "codemirror_mode": {
    "name": "ipython",
    "version": 3
   },
   "file_extension": ".py",
   "mimetype": "text/x-python",
   "name": "python",
   "nbconvert_exporter": "python",
   "pygments_lexer": "ipython3",
   "version": "3.8.13"
  },
  "orig_nbformat": 4,
  "vscode": {
   "interpreter": {
    "hash": "bdc61549ca29cf556f83ccb966c26ebc085b6ed141d6cc6c04c04aafef5b7244"
   }
  }
 },
 "nbformat": 4,
 "nbformat_minor": 2
}
