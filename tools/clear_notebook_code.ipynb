{
 "cells": [
  {
   "cell_type": "code",
   "execution_count": 1,
   "metadata": {},
   "outputs": [],
   "source": [
    "import nbformat as nbf\n",
    "import os"
   ]
  },
  {
   "cell_type": "code",
   "execution_count": 2,
   "metadata": {},
   "outputs": [],
   "source": [
    "file_path = r'C:\\Users\\Eduardo\\dev\\mydevrepo\\mle_certificate\\handson-ml3\\10_neural_nets_with_keras.ipynb'"
   ]
  },
  {
   "cell_type": "code",
   "execution_count": 3,
   "metadata": {},
   "outputs": [],
   "source": [
    "dirname, filename = os.path.split(file_path)\n",
    "name, ext = os.path.splitext(filename)\n",
    "new_file = os.path.join(dirname, name + '_dev' + ext)"
   ]
  },
  {
   "cell_type": "code",
   "execution_count": 4,
   "metadata": {},
   "outputs": [],
   "source": [
    "ntbk = nbf.read(file_path, nbf.NO_CONVERT)"
   ]
  },
  {
   "cell_type": "code",
   "execution_count": 5,
   "metadata": {},
   "outputs": [],
   "source": [
    "cells_to_keep = []\n",
    "for cell in ntbk.cells:\n",
    "    if cell.cell_type == \"code\":\n",
    "        # if not cell.source.startswith('#@title'):\n",
    "        cell.source = ''\n",
    "        cell.execution_count = None\n",
    "        cell.outputs = []\n",
    "\n",
    "    cells_to_keep.append(cell)\n",
    "\n",
    "new_ntbk = ntbk\n",
    "new_ntbk.cells = cells_to_keep\n",
    "nbf.write(new_ntbk, new_file)"
   ]
  }
 ],
 "metadata": {
  "kernelspec": {
   "display_name": "Python 3.10.8 ('ml_dev')",
   "language": "python",
   "name": "python3"
  },
  "language_info": {
   "codemirror_mode": {
    "name": "ipython",
    "version": 3
   },
   "file_extension": ".py",
   "mimetype": "text/x-python",
   "name": "python",
   "nbconvert_exporter": "python",
   "pygments_lexer": "ipython3",
   "version": "3.10.8"
  },
  "orig_nbformat": 4,
  "vscode": {
   "interpreter": {
    "hash": "3dbb6e28f32ca2376e4f57c81cef85cf88ffd88cbd1c487658c99f00bdea0c93"
   }
  }
 },
 "nbformat": 4,
 "nbformat_minor": 2
}
