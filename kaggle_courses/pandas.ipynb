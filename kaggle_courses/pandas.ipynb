{
 "cells": [
  {
   "cell_type": "code",
   "execution_count": null,
   "metadata": {},
   "outputs": [],
   "source": [
    "import pandas as pd"
   ]
  },
  {
   "cell_type": "code",
   "execution_count": null,
   "metadata": {},
   "outputs": [],
   "source": [
    "pd.set_option('max_rows', 5)"
   ]
  },
  {
   "cell_type": "code",
   "execution_count": null,
   "metadata": {},
   "outputs": [],
   "source": [
    "df = pd.read_csv('', index_col=0)"
   ]
  },
  {
   "cell_type": "code",
   "execution_count": null,
   "metadata": {},
   "outputs": [],
   "source": [
    "pd.colx.mean()\n",
    "pd.colx.median()\n",
    "pd.colx.unique()\n",
    "pd.value_counts()"
   ]
  },
  {
   "cell_type": "code",
   "execution_count": null,
   "metadata": {},
   "outputs": [],
   "source": [
    "colx_mean = pd.colx.mean()\n",
    "df.colx.map(lambda val: val - colx_mean)"
   ]
  },
  {
   "cell_type": "code",
   "execution_count": null,
   "metadata": {},
   "outputs": [],
   "source": [
    "def func(row):\n",
    "    row.colx = row.colx - colx_mean\n",
    "    return row\n",
    "\n",
    "def func(row):\n",
    "    return row.colx - colx_mean\n",
    "\n",
    "df.apply(func, axis='columns')"
   ]
  },
  {
   "cell_type": "markdown",
   "metadata": {},
   "source": [
    "### Grouping and Sorting"
   ]
  },
  {
   "cell_type": "code",
   "execution_count": null,
   "metadata": {},
   "outputs": [],
   "source": [
    "df.groupby('colx').colx.count() # value_counts()\n",
    "df.groupby('colx').size()\n",
    "df.groupby('col1').col2.min()\n",
    "df.groupby('col1').apply(lambda dfx: dfx.col2.iloc[0])\n",
    "df.groupby(['col1', 'col2']).apply(lambda dfx: dfx.loc[dfx.col3.idxmax()])\n",
    "df.groupby(['col1']).col2.agg([len, min, max])\n",
    "\n",
    "# Multi-indexes\n",
    "df = df.groupby(['col1', 'col2']).col3.agg([len])\n",
    "df.reset_index()\n",
    "\n",
    "df.sort_values(by='len')\n",
    "df.sort_values(by='len', ascending=False)\n",
    "df.sort_index()\n",
    "df.sort_values(by=['col1', 'col2'])\n",
    "df.groupby(['country', 'variety']).size().sort_values(ascending=False)"
   ]
  },
  {
   "cell_type": "markdown",
   "metadata": {},
   "source": [
    "### Data Types and Missing Values"
   ]
  },
  {
   "cell_type": "code",
   "execution_count": null,
   "metadata": {},
   "outputs": [],
   "source": [
    "string_feature = df.colx.astype('str') # 'float64'\n",
    "n_missing_values = df.colx.isnull().sum()\n",
    "count_colx_values = df.colx.fillna('Unknown').value_counts().sort_values(ascending=False)\n",
    "df = df[pd.isnull(df.colx)]"
   ]
  },
  {
   "cell_type": "code",
   "execution_count": null,
   "metadata": {},
   "outputs": [],
   "source": [
    "df = df.colx.replace('value', 'new_value')"
   ]
  },
  {
   "cell_type": "markdown",
   "metadata": {},
   "source": [
    "### Renaming and Combining"
   ]
  },
  {
   "cell_type": "code",
   "execution_count": null,
   "metadata": {},
   "outputs": [],
   "source": [
    "df = df.rename(columns={'col1': 'new_name', 'col2': 'new_name'})\n",
    "df = df.rename(index={0: 'new_name', 1: 'new_name'})\n",
    "df = df.rename_axis(\"new_name\", axis='rows').rename_axis(\"new_name\", axis='columns')"
   ]
  },
  {
   "cell_type": "code",
   "execution_count": null,
   "metadata": {},
   "outputs": [],
   "source": [
    "df1 = pd.read_csv('')\n",
    "df2 = pd.read_csv('')\n",
    "\n",
    "pd.concat([df1, df2])"
   ]
  },
  {
   "cell_type": "code",
   "execution_count": null,
   "metadata": {},
   "outputs": [],
   "source": [
    "left = df1.set_index(['index1', 'index2'])\n",
    "right = df2.set_index(['index1', 'index2'])\n",
    "\n",
    "left.join(right, lsuffix='_tag1', rsuffix='tag2')"
   ]
  },
  {
   "cell_type": "code",
   "execution_count": null,
   "metadata": {},
   "outputs": [],
   "source": [
    "# Both tables include references to a id, a unique key for each row. \n",
    "# Using this, generate a dataset combining the two tables into one.\n",
    "df1.set_index('id').join(df2.set_index('id'))"
   ]
  }
 ],
 "metadata": {
  "kernelspec": {
   "display_name": "Python 3.8.13 ('tf_cert')",
   "language": "python",
   "name": "python3"
  },
  "language_info": {
   "name": "python",
   "version": "3.8.13"
  },
  "orig_nbformat": 4,
  "vscode": {
   "interpreter": {
    "hash": "bdc61549ca29cf556f83ccb966c26ebc085b6ed141d6cc6c04c04aafef5b7244"
   }
  }
 },
 "nbformat": 4,
 "nbformat_minor": 2
}
