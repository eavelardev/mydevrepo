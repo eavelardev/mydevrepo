{
 "cells": [
  {
   "cell_type": "markdown",
   "metadata": {},
   "source": [
    "## Week 4: Predicting the next word"
   ]
  },
  {
   "cell_type": "markdown",
   "metadata": {},
   "source": [
    "Shakespeare's sonnets\n",
    "* 2000 lines of text extracted from Shakespeare's sonnets"
   ]
  },
  {
   "cell_type": "code",
   "execution_count": 1,
   "metadata": {},
   "outputs": [],
   "source": [
    "import tensorflow as tf\n",
    "import numpy as np\n",
    "import matplotlib.pyplot as plt\n",
    "\n",
    "from tensorflow.keras import layers, losses\n",
    "from tensorflow.keras.utils import to_categorical \n",
    "from tensorflow.keras.preprocessing.text import Tokenizer\n",
    "from tensorflow.keras.preprocessing.sequence import pad_sequences"
   ]
  },
  {
   "cell_type": "code",
   "execution_count": 2,
   "metadata": {},
   "outputs": [
    {
     "name": "stdout",
     "output_type": "stream",
     "text": [
      "2159 lines of sonnetts\n"
     ]
    }
   ],
   "source": [
    "dataset_path = '../../../data/sonnets.txt'\n",
    "\n",
    "with open(dataset_path) as f:\n",
    "    data = f.read()\n",
    "\n",
    "corpus = data.lower().split('\\n')\n",
    "\n",
    "print(f'{len(corpus)} lines of sonnetts')"
   ]
  },
  {
   "cell_type": "code",
   "execution_count": 3,
   "metadata": {},
   "outputs": [],
   "source": [
    "tokenizer = Tokenizer()\n",
    "tokenizer.fit_on_texts(corpus)\n",
    "total_words = len(tokenizer.word_index)"
   ]
  },
  {
   "cell_type": "code",
   "execution_count": 4,
   "metadata": {},
   "outputs": [],
   "source": [
    "def n_gram_seqs(corpus, tokenizer):\n",
    "\n",
    "    input_sequences = []\n",
    "\n",
    "    for line in corpus:\n",
    "        seq = tokenizer.texts_to_sequences([line])[0]\n",
    "\n",
    "        for i in range(1, len(seq)):\n",
    "            input_sequences.append(seq[:i+1])\n",
    "    \n",
    "    return input_sequences"
   ]
  },
  {
   "cell_type": "code",
   "execution_count": 5,
   "metadata": {},
   "outputs": [
    {
     "name": "stdout",
     "output_type": "stream",
     "text": [
      "n_gram sequences for first example look like this:\n"
     ]
    },
    {
     "data": {
      "text/plain": [
       "[[34, 417],\n",
       " [34, 417, 877],\n",
       " [34, 417, 877, 166],\n",
       " [34, 417, 877, 166, 213],\n",
       " [34, 417, 877, 166, 213, 517]]"
      ]
     },
     "execution_count": 5,
     "metadata": {},
     "output_type": "execute_result"
    }
   ],
   "source": [
    "first_example_sequence = n_gram_seqs([corpus[0]], tokenizer)\n",
    "\n",
    "print(\"n_gram sequences for first example look like this:\")\n",
    "first_example_sequence"
   ]
  },
  {
   "cell_type": "code",
   "execution_count": 6,
   "metadata": {},
   "outputs": [
    {
     "name": "stdout",
     "output_type": "stream",
     "text": [
      "n_gram sequences for next 3 examples look like this:\n"
     ]
    },
    {
     "data": {
      "text/plain": [
       "[[8, 878],\n",
       " [8, 878, 134],\n",
       " [8, 878, 134, 351],\n",
       " [8, 878, 134, 351, 102],\n",
       " [8, 878, 134, 351, 102, 156],\n",
       " [8, 878, 134, 351, 102, 156, 199],\n",
       " [16, 22],\n",
       " [16, 22, 2],\n",
       " [16, 22, 2, 879],\n",
       " [16, 22, 2, 879, 61],\n",
       " [16, 22, 2, 879, 61, 30],\n",
       " [16, 22, 2, 879, 61, 30, 48],\n",
       " [16, 22, 2, 879, 61, 30, 48, 634],\n",
       " [25, 311],\n",
       " [25, 311, 635],\n",
       " [25, 311, 635, 102],\n",
       " [25, 311, 635, 102, 200],\n",
       " [25, 311, 635, 102, 200, 25],\n",
       " [25, 311, 635, 102, 200, 25, 278]]"
      ]
     },
     "execution_count": 6,
     "metadata": {},
     "output_type": "execute_result"
    }
   ],
   "source": [
    "next_3_examples_sequence = n_gram_seqs(corpus[1:4], tokenizer)\n",
    "\n",
    "print(\"n_gram sequences for next 3 examples look like this:\")\n",
    "next_3_examples_sequence"
   ]
  },
  {
   "cell_type": "code",
   "execution_count": 7,
   "metadata": {},
   "outputs": [
    {
     "name": "stdout",
     "output_type": "stream",
     "text": [
      "len(input_sequences): 15462\n",
      "max_sequence_len: 11\n"
     ]
    }
   ],
   "source": [
    "input_sequences = n_gram_seqs(corpus, tokenizer)\n",
    "max_sequence_len = max([len(x) for x in input_sequences])\n",
    "\n",
    "print(f\"len(input_sequences): {len(input_sequences)}\")\n",
    "print(f\"max_sequence_len: {max_sequence_len}\")"
   ]
  },
  {
   "cell_type": "code",
   "execution_count": 8,
   "metadata": {},
   "outputs": [],
   "source": [
    "def pad_seqs(input_sequences, maxlen):\n",
    "    \n",
    "    padded_sequences = pad_sequences(input_sequences, maxlen=maxlen)\n",
    "    \n",
    "    return padded_sequences"
   ]
  },
  {
   "cell_type": "code",
   "execution_count": 9,
   "metadata": {},
   "outputs": [
    {
     "data": {
      "text/plain": [
       "array([[  0,   0,   0,  34, 417],\n",
       "       [  0,   0,  34, 417, 877],\n",
       "       [  0,  34, 417, 877, 166],\n",
       "       [ 34, 417, 877, 166, 213],\n",
       "       [417, 877, 166, 213, 517]])"
      ]
     },
     "execution_count": 9,
     "metadata": {},
     "output_type": "execute_result"
    }
   ],
   "source": [
    "first_padded_seq = pad_seqs(first_example_sequence, len(first_example_sequence))\n",
    "first_padded_seq"
   ]
  },
  {
   "cell_type": "code",
   "execution_count": 10,
   "metadata": {},
   "outputs": [
    {
     "data": {
      "text/plain": [
       "array([[  0,   0,   0,   0,   0,   0,   8, 878],\n",
       "       [  0,   0,   0,   0,   0,   8, 878, 134],\n",
       "       [  0,   0,   0,   0,   8, 878, 134, 351],\n",
       "       [  0,   0,   0,   8, 878, 134, 351, 102],\n",
       "       [  0,   0,   8, 878, 134, 351, 102, 156],\n",
       "       [  0,   8, 878, 134, 351, 102, 156, 199],\n",
       "       [  0,   0,   0,   0,   0,   0,  16,  22],\n",
       "       [  0,   0,   0,   0,   0,  16,  22,   2],\n",
       "       [  0,   0,   0,   0,  16,  22,   2, 879],\n",
       "       [  0,   0,   0,  16,  22,   2, 879,  61],\n",
       "       [  0,   0,  16,  22,   2, 879,  61,  30],\n",
       "       [  0,  16,  22,   2, 879,  61,  30,  48],\n",
       "       [ 16,  22,   2, 879,  61,  30,  48, 634],\n",
       "       [  0,   0,   0,   0,   0,   0,  25, 311],\n",
       "       [  0,   0,   0,   0,   0,  25, 311, 635],\n",
       "       [  0,   0,   0,   0,  25, 311, 635, 102],\n",
       "       [  0,   0,   0,  25, 311, 635, 102, 200],\n",
       "       [  0,   0,  25, 311, 635, 102, 200,  25],\n",
       "       [  0,  25, 311, 635, 102, 200,  25, 278]])"
      ]
     },
     "execution_count": 10,
     "metadata": {},
     "output_type": "execute_result"
    }
   ],
   "source": [
    "max_sequence_len_3 = max([len(s) for s in next_3_examples_sequence])\n",
    "next_3_padded_seq = pad_seqs(next_3_examples_sequence, max_sequence_len_3)\n",
    "next_3_padded_seq"
   ]
  },
  {
   "cell_type": "code",
   "execution_count": 11,
   "metadata": {},
   "outputs": [
    {
     "name": "stdout",
     "output_type": "stream",
     "text": [
      "padded corpus has shape: (15462, 11)\n"
     ]
    }
   ],
   "source": [
    "input_sequences = pad_seqs(input_sequences, max_sequence_len)\n",
    "\n",
    "print(f\"padded corpus has shape: {input_sequences.shape}\")"
   ]
  },
  {
   "cell_type": "code",
   "execution_count": 12,
   "metadata": {},
   "outputs": [],
   "source": [
    "def features_and_labels(input_sequences, total_words):\n",
    "    \n",
    "    list_features = []\n",
    "    labels = []\n",
    "\n",
    "    for seq in input_sequences:\n",
    "        list_features.append(seq[:-1])\n",
    "        labels.append(seq[-1] - 1)\n",
    "\n",
    "    features = np.array(list_features)\n",
    "    one_hot_labels = to_categorical(labels, num_classes=total_words)\n",
    "\n",
    "    return features, one_hot_labels"
   ]
  },
  {
   "cell_type": "code",
   "execution_count": 13,
   "metadata": {},
   "outputs": [
    {
     "name": "stdout",
     "output_type": "stream",
     "text": [
      "labels have shape: (5, 3210)\n",
      "\n",
      "features look like this:\n",
      "\n"
     ]
    },
    {
     "data": {
      "text/plain": [
       "array([[  0,   0,   0,  34],\n",
       "       [  0,   0,  34, 417],\n",
       "       [  0,  34, 417, 877],\n",
       "       [ 34, 417, 877, 166],\n",
       "       [417, 877, 166, 213]])"
      ]
     },
     "execution_count": 13,
     "metadata": {},
     "output_type": "execute_result"
    }
   ],
   "source": [
    "first_features, first_labels = features_and_labels(first_padded_seq, total_words)\n",
    "\n",
    "print(f\"labels have shape: {first_labels.shape}\")\n",
    "print(\"\\nfeatures look like this:\\n\")\n",
    "first_features"
   ]
  },
  {
   "cell_type": "code",
   "execution_count": 14,
   "metadata": {},
   "outputs": [
    {
     "name": "stdout",
     "output_type": "stream",
     "text": [
      "features have shape: (15462, 10)\n",
      "labels have shape: (15462, 3210)\n"
     ]
    }
   ],
   "source": [
    "features, labels = features_and_labels(input_sequences, total_words)\n",
    "\n",
    "print(f\"features have shape: {features.shape}\")\n",
    "print(f\"labels have shape: {labels.shape}\")"
   ]
  },
  {
   "cell_type": "code",
   "execution_count": 15,
   "metadata": {},
   "outputs": [],
   "source": [
    "def create_model(total_words, max_sequence_len):\n",
    "\n",
    "    embedding_dim = 100\n",
    "    lstm_dim = 128\n",
    "\n",
    "    model = tf.keras.Sequential([\n",
    "        layers.Embedding(total_words, embedding_dim, input_length=max_sequence_len),\n",
    "        layers.Bidirectional(layers.LSTM(lstm_dim)),\n",
    "        layers.Dense(total_words)\n",
    "    ])\n",
    "\n",
    "    model.compile(optimizer='adam',\n",
    "                  loss=losses.CategoricalCrossentropy(from_logits=True),\n",
    "                  metrics=['accuracy'])\n",
    "\n",
    "    return model"
   ]
  },
  {
   "cell_type": "code",
   "execution_count": 16,
   "metadata": {},
   "outputs": [
    {
     "name": "stdout",
     "output_type": "stream",
     "text": [
      "Epoch 1/50\n",
      "484/484 [==============================] - 11s 12ms/step - loss: 6.8855 - accuracy: 0.0238\n",
      "Epoch 2/50\n",
      "484/484 [==============================] - 5s 11ms/step - loss: 6.4448 - accuracy: 0.0325\n",
      "Epoch 3/50\n",
      "484/484 [==============================] - 6s 12ms/step - loss: 6.2318 - accuracy: 0.0400\n",
      "Epoch 4/50\n",
      "484/484 [==============================] - 5s 11ms/step - loss: 5.9839 - accuracy: 0.0455\n",
      "Epoch 5/50\n",
      "484/484 [==============================] - 5s 11ms/step - loss: 5.7049 - accuracy: 0.0604\n",
      "Epoch 6/50\n",
      "484/484 [==============================] - 5s 11ms/step - loss: 5.3748 - accuracy: 0.0739\n",
      "Epoch 7/50\n",
      "484/484 [==============================] - 5s 10ms/step - loss: 5.0123 - accuracy: 0.0924\n",
      "Epoch 8/50\n",
      "484/484 [==============================] - 5s 10ms/step - loss: 4.6417 - accuracy: 0.1150\n",
      "Epoch 9/50\n",
      "484/484 [==============================] - 5s 10ms/step - loss: 4.2685 - accuracy: 0.1535\n",
      "Epoch 10/50\n",
      "484/484 [==============================] - 5s 10ms/step - loss: 3.8965 - accuracy: 0.2056\n",
      "Epoch 11/50\n",
      "484/484 [==============================] - 6s 11ms/step - loss: 3.5550 - accuracy: 0.2654\n",
      "Epoch 12/50\n",
      "484/484 [==============================] - 5s 11ms/step - loss: 3.2320 - accuracy: 0.3252\n",
      "Epoch 13/50\n",
      "484/484 [==============================] - 6s 11ms/step - loss: 2.9419 - accuracy: 0.3773\n",
      "Epoch 14/50\n",
      "484/484 [==============================] - 5s 11ms/step - loss: 2.6818 - accuracy: 0.4324\n",
      "Epoch 15/50\n",
      "484/484 [==============================] - 5s 11ms/step - loss: 2.4436 - accuracy: 0.4783\n",
      "Epoch 16/50\n",
      "484/484 [==============================] - 6s 12ms/step - loss: 2.2404 - accuracy: 0.5184\n",
      "Epoch 17/50\n",
      "484/484 [==============================] - 6s 13ms/step - loss: 2.0522 - accuracy: 0.5605\n",
      "Epoch 18/50\n",
      "484/484 [==============================] - 6s 13ms/step - loss: 1.8852 - accuracy: 0.5995\n",
      "Epoch 19/50\n",
      "484/484 [==============================] - 7s 14ms/step - loss: 1.7328 - accuracy: 0.6348\n",
      "Epoch 20/50\n",
      "484/484 [==============================] - 7s 14ms/step - loss: 1.5934 - accuracy: 0.6641\n",
      "Epoch 21/50\n",
      "484/484 [==============================] - 7s 14ms/step - loss: 1.4765 - accuracy: 0.6908\n",
      "Epoch 22/50\n",
      "484/484 [==============================] - 7s 14ms/step - loss: 1.3572 - accuracy: 0.7182\n",
      "Epoch 23/50\n",
      "484/484 [==============================] - 7s 15ms/step - loss: 1.2559 - accuracy: 0.7386\n",
      "Epoch 24/50\n",
      "484/484 [==============================] - 7s 15ms/step - loss: 1.1739 - accuracy: 0.7542\n",
      "Epoch 25/50\n",
      "484/484 [==============================] - 7s 14ms/step - loss: 1.0938 - accuracy: 0.7704\n",
      "Epoch 26/50\n",
      "484/484 [==============================] - 7s 14ms/step - loss: 1.0224 - accuracy: 0.7861\n",
      "Epoch 27/50\n",
      "484/484 [==============================] - 7s 14ms/step - loss: 0.9632 - accuracy: 0.7994\n",
      "Epoch 28/50\n",
      "484/484 [==============================] - 7s 14ms/step - loss: 0.9088 - accuracy: 0.8072\n",
      "Epoch 29/50\n",
      "484/484 [==============================] - 6s 13ms/step - loss: 0.8611 - accuracy: 0.8152\n",
      "Epoch 30/50\n",
      "484/484 [==============================] - 7s 14ms/step - loss: 0.8203 - accuracy: 0.8221\n",
      "Epoch 31/50\n",
      "484/484 [==============================] - 7s 14ms/step - loss: 0.7882 - accuracy: 0.8272\n",
      "Epoch 32/50\n",
      "484/484 [==============================] - 7s 14ms/step - loss: 0.7572 - accuracy: 0.8291\n",
      "Epoch 33/50\n",
      "484/484 [==============================] - 6s 13ms/step - loss: 0.7308 - accuracy: 0.8359\n",
      "Epoch 34/50\n",
      "484/484 [==============================] - 6s 13ms/step - loss: 0.7040 - accuracy: 0.8366\n",
      "Epoch 35/50\n",
      "484/484 [==============================] - 7s 13ms/step - loss: 0.6881 - accuracy: 0.8403\n",
      "Epoch 36/50\n",
      "484/484 [==============================] - 6s 13ms/step - loss: 0.6729 - accuracy: 0.8407\n",
      "Epoch 37/50\n",
      "484/484 [==============================] - 7s 14ms/step - loss: 0.6577 - accuracy: 0.8430\n",
      "Epoch 38/50\n",
      "484/484 [==============================] - 7s 14ms/step - loss: 0.6424 - accuracy: 0.8444\n",
      "Epoch 39/50\n",
      "484/484 [==============================] - 7s 14ms/step - loss: 0.6399 - accuracy: 0.8443\n",
      "Epoch 40/50\n",
      "484/484 [==============================] - 7s 15ms/step - loss: 0.6332 - accuracy: 0.8445\n",
      "Epoch 41/50\n",
      "484/484 [==============================] - 7s 14ms/step - loss: 0.6161 - accuracy: 0.8465\n",
      "Epoch 42/50\n",
      "484/484 [==============================] - 8s 16ms/step - loss: 0.6089 - accuracy: 0.8470\n",
      "Epoch 43/50\n",
      "484/484 [==============================] - 6s 13ms/step - loss: 0.6022 - accuracy: 0.8453\n",
      "Epoch 44/50\n",
      "484/484 [==============================] - 7s 15ms/step - loss: 0.6002 - accuracy: 0.8468\n",
      "Epoch 45/50\n",
      "484/484 [==============================] - 6s 13ms/step - loss: 0.5906 - accuracy: 0.8479\n",
      "Epoch 46/50\n",
      "484/484 [==============================] - 6s 13ms/step - loss: 0.5897 - accuracy: 0.8479\n",
      "Epoch 47/50\n",
      "484/484 [==============================] - 7s 14ms/step - loss: 0.5813 - accuracy: 0.8491\n",
      "Epoch 48/50\n",
      "484/484 [==============================] - 7s 14ms/step - loss: 0.5825 - accuracy: 0.8478\n",
      "Epoch 49/50\n",
      "484/484 [==============================] - 7s 14ms/step - loss: 0.5796 - accuracy: 0.8476\n",
      "Epoch 50/50\n",
      "484/484 [==============================] - 6s 13ms/step - loss: 0.5701 - accuracy: 0.8489\n"
     ]
    }
   ],
   "source": [
    "model = create_model(total_words, max_sequence_len-1)\n",
    "\n",
    "history = model.fit(features, labels, epochs=50, verbose=1)"
   ]
  },
  {
   "cell_type": "code",
   "execution_count": 17,
   "metadata": {},
   "outputs": [
    {
     "data": {
      "image/png": "[encoded data removed]",
      "text/plain": [
       "<Figure size 1200x400 with 2 Axes>"
      ]
     },
     "metadata": {},
     "output_type": "display_data"
    }
   ],
   "source": [
    "acc = history.history['accuracy']\n",
    "loss = history.history['loss']\n",
    "\n",
    "plt.figure(figsize=(12, 4))\n",
    "plt.subplot(1, 2, 1)\n",
    "plt.plot(acc)\n",
    "plt.title('Training Accuracy')\n",
    "\n",
    "plt.subplot(1, 2, 2)\n",
    "plt.plot(loss)\n",
    "plt.title('Training Loss')\n",
    "plt.show()"
   ]
  },
  {
   "cell_type": "code",
   "execution_count": 20,
   "metadata": {},
   "outputs": [
    {
     "name": "stdout",
     "output_type": "stream",
     "text": [
      "Help me Obi Wan Kenobi, you're my only hope of good antique part place of me are dead dead or give none none cured thievish undivided undivided hurt or body large page page up willing ruin'd drops of friend grace to thee leave is so true aright is writ ' prove not seen decay live told to find away thee friend's rare more bright find room so more so strong report new can lose hell truth than one wrong breathers of blood ' lie in my age eye even so in my way mind much right their mind out out cheek my moan of brow myself alone had stol'n\n"
     ]
    }
   ],
   "source": [
    "seed_text = \"Help me Obi Wan Kenobi, you're my only hope\"\n",
    "next_words = 100\n",
    "  \n",
    "for _ in range(next_words):\n",
    "\ttoken_list = tokenizer.texts_to_sequences([seed_text])[0]\n",
    "\ttoken_list = pad_sequences([token_list], maxlen=max_sequence_len-1, padding='pre')\n",
    "\tpredicted = model.predict(token_list, verbose=0)\n",
    "\tpredicted = np.argmax(predicted, axis=-1).item() + 1\n",
    "\toutput_word = tokenizer.index_word[predicted]\n",
    "\tseed_text += \" \" + output_word\n",
    "\n",
    "print(seed_text)"
   ]
  }
 ],
 "metadata": {
  "kernelspec": {
   "display_name": "Python 3.8.13 ('tf_cert')",
   "language": "python",
   "name": "python3"
  },
  "language_info": {
   "codemirror_mode": {
    "name": "ipython",
    "version": 3
   },
   "file_extension": ".py",
   "mimetype": "text/x-python",
   "name": "python",
   "nbconvert_exporter": "python",
   "pygments_lexer": "ipython3",
   "version": "3.8.13"
  },
  "orig_nbformat": 4,
  "vscode": {
   "interpreter": {
    "hash": "bdc61549ca29cf556f83ccb966c26ebc085b6ed141d6cc6c04c04aafef5b7244"
   }
  }
 },
 "nbformat": 4,
 "nbformat_minor": 2
}
