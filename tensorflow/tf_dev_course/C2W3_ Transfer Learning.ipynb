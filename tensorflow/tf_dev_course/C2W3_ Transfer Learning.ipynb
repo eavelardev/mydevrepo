{
 "cells": [
  {
   "cell_type": "markdown",
   "metadata": {},
   "source": [
    "## Week 3: Transfer Learning"
   ]
  },
  {
   "cell_type": "code",
   "execution_count": 1,
   "metadata": {},
   "outputs": [],
   "source": [
    "import tensorflow as tf\n",
    "import matplotlib.pyplot as plt\n",
    "import os\n",
    "\n",
    "from tensorflow.keras import layers, optimizers, losses \n",
    "from tensorflow.keras.applications.inception_v3 import InceptionV3, preprocess_input"
   ]
  },
  {
   "cell_type": "code",
   "execution_count": 2,
   "metadata": {},
   "outputs": [],
   "source": [
    "training_dataset_url = 'https://storage.googleapis.com/tensorflow-1-public/course2/week3/horse-or-human.zip'\n",
    "validation_dataset_url = 'https://storage.googleapis.com/tensorflow-1-public/course2/week3/validation-horse-or-human.zip'\n",
    "\n",
    "training_dataset_file = tf.keras.utils.get_file(cache_subdir='datasets/horse-or-human/training', \n",
    "                                                    origin=training_dataset_url, extract=False)\n",
    "validation_dataset_file = tf.keras.utils.get_file(cache_subdir='datasets/horse-or-human/validation',\n",
    "                                                      origin=validation_dataset_url, extract=False)"
   ]
  },
  {
   "cell_type": "code",
   "execution_count": 3,
   "metadata": {},
   "outputs": [],
   "source": [
    "train_dir = os.path.dirname(training_dataset_file)\n",
    "validation_dir = os.path.dirname(validation_dataset_file)"
   ]
  },
  {
   "cell_type": "code",
   "execution_count": 4,
   "metadata": {},
   "outputs": [
    {
     "name": "stdout",
     "output_type": "stream",
     "text": [
      "Found 1027 files belonging to 2 classes.\n",
      "Found 256 files belonging to 2 classes.\n"
     ]
    }
   ],
   "source": [
    "train_dataset = tf.keras.utils.image_dataset_from_directory(\n",
    "    train_dir,\n",
    "    label_mode='binary',\n",
    "    batch_size=32,\n",
    "    image_size=(150, 150)\n",
    ").cache().prefetch(tf.data.AUTOTUNE)\n",
    "\n",
    "validation_dataset = tf.keras.utils.image_dataset_from_directory(\n",
    "    validation_dir,\n",
    "    label_mode='binary',\n",
    "    batch_size=32,\n",
    "    image_size=(150, 150)\n",
    ").cache().prefetch(tf.data.AUTOTUNE)"
   ]
  },
  {
   "cell_type": "code",
   "execution_count": 5,
   "metadata": {},
   "outputs": [],
   "source": [
    "model_weights_url = 'https://storage.googleapis.com/mledu-datasets/inception_v3_weights_tf_dim_ordering_tf_kernels_notop.h5'\n",
    "local_weights_file = tf.keras.utils.get_file(cache_subdir='models', origin=model_weights_url)"
   ]
  },
  {
   "cell_type": "code",
   "execution_count": 6,
   "metadata": {},
   "outputs": [],
   "source": [
    "def create_pre_trained_model(local_weights_file):\n",
    "    \n",
    "    pre_trained_model = InceptionV3(input_shape=(150, 150, 3),\n",
    "                                    include_top=False,\n",
    "                                    weights=None)\n",
    "\n",
    "    pre_trained_model.load_weights(local_weights_file)\n",
    "    pre_trained_model.trainable = False\n",
    "\n",
    "    return pre_trained_model"
   ]
  },
  {
   "cell_type": "code",
   "execution_count": 7,
   "metadata": {},
   "outputs": [],
   "source": [
    "pre_trained_model = create_pre_trained_model(local_weights_file)"
   ]
  },
  {
   "cell_type": "markdown",
   "metadata": {},
   "source": [
    "Last layer\n",
    "```\n",
    "avg_pool (GlobalAveragePooling2D)  (None, 2048)                                                                                                \n",
    "predictions (Dense)            (None, 1000)\n",
    "```"
   ]
  },
  {
   "cell_type": "code",
   "execution_count": 8,
   "metadata": {},
   "outputs": [
    {
     "name": "stdout",
     "output_type": "stream",
     "text": [
      "mixed7 layer is the number 229 with output_shape (None, 7, 7, 768)\n"
     ]
    }
   ],
   "source": [
    "name_layer = 'mixed7'\n",
    "idx_layer = [layer.name for layer in pre_trained_model.layers].index(name_layer)\n",
    "print(f'{name_layer} layer is the number {idx_layer+1} with output_shape {pre_trained_model.layers[idx_layer].output_shape}')\n",
    "\n",
    "# for layer in pre_trained_model.layers[:idx_layer+1]:\n",
    "#     layer.trainable = False"
   ]
  },
  {
   "cell_type": "code",
   "execution_count": 9,
   "metadata": {},
   "outputs": [
    {
     "name": "stdout",
     "output_type": "stream",
     "text": [
      "Num layers: 311\n",
      "Num none trainable layers: 311\n"
     ]
    }
   ],
   "source": [
    "print(f'Num layers: {len(pre_trained_model.layers)}')\n",
    "print(f'Num none trainable layers: {[layer.trainable for layer in pre_trained_model.layers].count(False)}')"
   ]
  },
  {
   "cell_type": "code",
   "execution_count": 10,
   "metadata": {},
   "outputs": [],
   "source": [
    "class myCallback(tf.keras.callbacks.Callback):\n",
    "    def on_epoch_end(self, epoch, logs={}):\n",
    "        if(logs.get('accuracy')>0.999):\n",
    "            print(\"\\nReached 99.9% accuracy so cancelling training!\")\n",
    "            self.model.stop_training = True"
   ]
  },
  {
   "cell_type": "code",
   "execution_count": 11,
   "metadata": {},
   "outputs": [],
   "source": [
    "data_augmentation = tf.keras.Sequential([\n",
    "    layers.RandomRotation(0.2),\n",
    "    # layers.RandomTranslation(0, 0.2),\n",
    "    layers.RandomZoom(0.2),\n",
    "    layers.RandomFlip('horizontal')\n",
    "])"
   ]
  },
  {
   "cell_type": "code",
   "execution_count": 12,
   "metadata": {},
   "outputs": [],
   "source": [
    "def create_final_model(pre_trained_model, last_output):\n",
    "    \n",
    "    inputs = layers.Input(shape=(150, 150, 3))\n",
    "    # x = data_augmentation(inputs)\n",
    "    x = preprocess_input(inputs)\n",
    "    x = pre_trained_model(x)\n",
    "    x = layers.GlobalAveragePooling2D()(x)\n",
    "    # x = layers.Dropout(0.2)(x)\n",
    "    x = layers.Dense(1)(x)\n",
    "\n",
    "    model = tf.keras.Model(inputs, x)\n",
    "\n",
    "    model.compile(optimizer=optimizers.RMSprop(learning_rate=0.0001),\n",
    "                  loss=losses.BinaryCrossentropy(from_logits=True),\n",
    "                  metrics=['accuracy'])\n",
    "\n",
    "    return model"
   ]
  },
  {
   "cell_type": "code",
   "execution_count": 13,
   "metadata": {},
   "outputs": [],
   "source": [
    "last_output = pre_trained_model.output\n",
    "model = create_final_model(pre_trained_model, last_output)"
   ]
  },
  {
   "cell_type": "code",
   "execution_count": 14,
   "metadata": {},
   "outputs": [
    {
     "name": "stdout",
     "output_type": "stream",
     "text": [
      "Model: \"model\"\n",
      "_________________________________________________________________\n",
      " Layer (type)                Output Shape              Param #   \n",
      "=================================================================\n",
      " input_2 (InputLayer)        [(None, 150, 150, 3)]     0         \n",
      "                                                                 \n",
      " tf.math.truediv (TFOpLambda  (None, 150, 150, 3)      0         \n",
      " )                                                               \n",
      "                                                                 \n",
      " tf.math.subtract (TFOpLambd  (None, 150, 150, 3)      0         \n",
      " a)                                                              \n",
      "                                                                 \n",
      " inception_v3 (Functional)   (None, 3, 3, 2048)        21802784  \n",
      "                                                                 \n",
      " global_average_pooling2d (G  (None, 2048)             0         \n",
      " lobalAveragePooling2D)                                          \n",
      "                                                                 \n",
      " dense (Dense)               (None, 1)                 2049      \n",
      "                                                                 \n",
      "=================================================================\n",
      "Total params: 21,804,833\n",
      "Trainable params: 2,049\n",
      "Non-trainable params: 21,802,784\n",
      "_________________________________________________________________\n"
     ]
    }
   ],
   "source": [
    "model.summary()"
   ]
  },
  {
   "cell_type": "code",
   "execution_count": 15,
   "metadata": {},
   "outputs": [
    {
     "name": "stdout",
     "output_type": "stream",
     "text": [
      "Epoch 1/20\n",
      "33/33 - 13s - loss: 0.6430 - accuracy: 0.5998 - val_loss: 0.4667 - val_accuracy: 0.7656 - 13s/epoch - 400ms/step\n",
      "Epoch 2/20\n",
      "33/33 - 2s - loss: 0.2786 - accuracy: 0.8851 - val_loss: 0.2543 - val_accuracy: 0.8906 - 2s/epoch - 69ms/step\n",
      "Epoch 3/20\n",
      "33/33 - 2s - loss: 0.1438 - accuracy: 0.9572 - val_loss: 0.1432 - val_accuracy: 0.9766 - 2s/epoch - 69ms/step\n",
      "Epoch 4/20\n",
      "33/33 - 2s - loss: 0.0839 - accuracy: 0.9854 - val_loss: 0.0862 - val_accuracy: 0.9883 - 2s/epoch - 68ms/step\n",
      "Epoch 5/20\n",
      "33/33 - 2s - loss: 0.0553 - accuracy: 0.9912 - val_loss: 0.0564 - val_accuracy: 0.9961 - 2s/epoch - 69ms/step\n",
      "Epoch 6/20\n",
      "33/33 - 2s - loss: 0.0400 - accuracy: 0.9932 - val_loss: 0.0400 - val_accuracy: 1.0000 - 2s/epoch - 68ms/step\n",
      "Epoch 7/20\n",
      "33/33 - 2s - loss: 0.0309 - accuracy: 0.9942 - val_loss: 0.0302 - val_accuracy: 1.0000 - 2s/epoch - 69ms/step\n",
      "Epoch 8/20\n",
      "33/33 - 2s - loss: 0.0247 - accuracy: 0.9942 - val_loss: 0.0240 - val_accuracy: 1.0000 - 2s/epoch - 69ms/step\n",
      "Epoch 9/20\n",
      "33/33 - 2s - loss: 0.0201 - accuracy: 0.9951 - val_loss: 0.0198 - val_accuracy: 1.0000 - 2s/epoch - 69ms/step\n",
      "Epoch 10/20\n",
      "33/33 - 2s - loss: 0.0165 - accuracy: 0.9971 - val_loss: 0.0167 - val_accuracy: 1.0000 - 2s/epoch - 69ms/step\n",
      "Epoch 11/20\n",
      "33/33 - 2s - loss: 0.0136 - accuracy: 0.9971 - val_loss: 0.0143 - val_accuracy: 1.0000 - 2s/epoch - 69ms/step\n",
      "Epoch 12/20\n",
      "33/33 - 2s - loss: 0.0112 - accuracy: 0.9971 - val_loss: 0.0124 - val_accuracy: 1.0000 - 2s/epoch - 70ms/step\n",
      "Epoch 13/20\n",
      "33/33 - 2s - loss: 0.0093 - accuracy: 0.9971 - val_loss: 0.0109 - val_accuracy: 1.0000 - 2s/epoch - 69ms/step\n",
      "Epoch 14/20\n",
      "33/33 - 2s - loss: 0.0077 - accuracy: 0.9971 - val_loss: 0.0097 - val_accuracy: 1.0000 - 2s/epoch - 69ms/step\n",
      "Epoch 15/20\n",
      "33/33 - 2s - loss: 0.0064 - accuracy: 0.9981 - val_loss: 0.0086 - val_accuracy: 1.0000 - 2s/epoch - 69ms/step\n",
      "Epoch 16/20\n",
      "33/33 - 2s - loss: 0.0053 - accuracy: 1.0000 - val_loss: 0.0078 - val_accuracy: 1.0000 - 2s/epoch - 70ms/step\n",
      "Epoch 17/20\n",
      "33/33 - 2s - loss: 0.0044 - accuracy: 1.0000 - val_loss: 0.0070 - val_accuracy: 1.0000 - 2s/epoch - 70ms/step\n",
      "Epoch 18/20\n",
      "33/33 - 2s - loss: 0.0037 - accuracy: 1.0000 - val_loss: 0.0064 - val_accuracy: 1.0000 - 2s/epoch - 69ms/step\n",
      "Epoch 19/20\n",
      "33/33 - 2s - loss: 0.0030 - accuracy: 1.0000 - val_loss: 0.0058 - val_accuracy: 1.0000 - 2s/epoch - 68ms/step\n",
      "Epoch 20/20\n",
      "33/33 - 2s - loss: 0.0025 - accuracy: 1.0000 - val_loss: 0.0053 - val_accuracy: 1.0000 - 2s/epoch - 70ms/step\n"
     ]
    }
   ],
   "source": [
    "callbacks = myCallback()\n",
    "\n",
    "history = model.fit(train_dataset,\n",
    "                    validation_data = validation_dataset,\n",
    "                    epochs = 20,\n",
    "                    verbose = 2)"
   ]
  },
  {
   "cell_type": "code",
   "execution_count": 16,
   "metadata": {},
   "outputs": [
    {
     "data": {
      "image/png": "[encoded data removed]",
      "text/plain": [
       "<Figure size 800x800 with 2 Axes>"
      ]
     },
     "metadata": {},
     "output_type": "display_data"
    }
   ],
   "source": [
    "acc = history.history['accuracy']\n",
    "val_acc = history.history['val_accuracy']\n",
    "\n",
    "loss = history.history['loss']\n",
    "val_loss = history.history['val_loss']\n",
    "\n",
    "plt.figure(figsize=(8, 8))\n",
    "plt.subplot(1, 2, 1)\n",
    "plt.plot(acc, label='Training Accuracy')\n",
    "plt.plot(val_acc, label='Validation Accuracy')\n",
    "plt.legend(loc='lower right')\n",
    "plt.title('Training y Validation Accuracy')\n",
    "\n",
    "plt.subplot(1, 2, 2)\n",
    "plt.plot(loss, label='Training loss')\n",
    "plt.plot(val_loss, label='Validation loss')\n",
    "plt.legend(loc='upper right')\n",
    "plt.title('Trainind and Validation Loss')\n",
    "plt.show()"
   ]
  }
 ],
 "metadata": {
  "kernelspec": {
   "display_name": "Python 3.8.13 ('tf_cert')",
   "language": "python",
   "name": "python3"
  },
  "language_info": {
   "codemirror_mode": {
    "name": "ipython",
    "version": 3
   },
   "file_extension": ".py",
   "mimetype": "text/x-python",
   "name": "python",
   "nbconvert_exporter": "python",
   "pygments_lexer": "ipython3",
   "version": "3.8.13"
  },
  "orig_nbformat": 4,
  "vscode": {
   "interpreter": {
    "hash": "bdc61549ca29cf556f83ccb966c26ebc085b6ed141d6cc6c04c04aafef5b7244"
   }
  }
 },
 "nbformat": 4,
 "nbformat_minor": 2
}
