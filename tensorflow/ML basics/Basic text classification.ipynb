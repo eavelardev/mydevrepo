{
 "cells": [
  {
   "cell_type": "markdown",
   "metadata": {},
   "source": [
    "Large Movie Review Dataset\n",
    "* 50,000 movie reviews\n",
    "* 25,000 reviews for training\n",
    "* 25,000 reviews for testing"
   ]
  },
  {
   "cell_type": "code",
   "execution_count": 1,
   "metadata": {},
   "outputs": [],
   "source": [
    "import tensorflow as tf\n",
    "import matplotlib.pyplot as plt\n",
    "import shutil\n",
    "import string\n",
    "import os\n",
    "import re\n",
    "\n",
    "from tensorflow.keras import layers, losses, metrics"
   ]
  },
  {
   "cell_type": "code",
   "execution_count": 2,
   "metadata": {},
   "outputs": [],
   "source": [
    "dataset_url = \"https://ai.stanford.edu/~amaas/data/sentiment/aclImdb_v1.tar.gz\"\n",
    "dataset_file = tf.keras.utils.get_file(dataset_url, untar=False, cache_dir='.', cache_subdir='data')\n",
    "data_path = os.path.join(os.path.dirname(dataset_file), 'aclImdb')"
   ]
  },
  {
   "cell_type": "code",
   "execution_count": 3,
   "metadata": {},
   "outputs": [],
   "source": [
    "train_dir = os.path.join(data_path, 'train')\n",
    "test_dir = os.path.join(data_path, 'test')"
   ]
  },
  {
   "cell_type": "code",
   "execution_count": 4,
   "metadata": {},
   "outputs": [],
   "source": [
    "remove_dir = os.path.join(train_dir, 'unsup')\n",
    "\n",
    "if os.path.exists(remove_dir):\n",
    "    shutil.rmtree(remove_dir)"
   ]
  },
  {
   "cell_type": "code",
   "execution_count": 5,
   "metadata": {},
   "outputs": [
    {
     "name": "stdout",
     "output_type": "stream",
     "text": [
      "Found 25000 files belonging to 2 classes.\n",
      "Using 20000 files for training.\n",
      "Found 25000 files belonging to 2 classes.\n",
      "Using 5000 files for validation.\n",
      "Found 25000 files belonging to 2 classes.\n"
     ]
    }
   ],
   "source": [
    "batch_size = 32\n",
    "seed = 42\n",
    "\n",
    "raw_train_ds = tf.keras.utils.text_dataset_from_directory(\n",
    "    train_dir,\n",
    "    batch_size=batch_size,\n",
    "    validation_split=0.2,\n",
    "    subset='training',\n",
    "    seed=seed)\n",
    "\n",
    "raw_val_ds = tf.keras.utils.text_dataset_from_directory(\n",
    "    train_dir,\n",
    "    batch_size=batch_size,\n",
    "    validation_split=0.2,\n",
    "    subset='validation',\n",
    "    seed=seed)\n",
    "\n",
    "raw_test_ds = tf.keras.utils.text_dataset_from_directory(\n",
    "    test_dir,\n",
    "    batch_size=batch_size)"
   ]
  },
  {
   "cell_type": "code",
   "execution_count": 7,
   "metadata": {},
   "outputs": [],
   "source": [
    "def custom_standardization(input_data):\n",
    "    text = tf.strings.lower(input_data)\n",
    "    text = tf.strings.regex_replace(text, '<br />', ' ')\n",
    "    text = tf.strings.regex_replace(text, '[%s]' % re.escape(string.punctuation), ' ')\n",
    "\n",
    "    # Remove non-ASCII characters\n",
    "    text = tf.strings.regex_replace(text, r'[^\\x00-\\x7F]+', ' ')\n",
    "     \n",
    "    return text"
   ]
  },
  {
   "cell_type": "code",
   "execution_count": 8,
   "metadata": {},
   "outputs": [],
   "source": [
    "vocab_size = 10000\n",
    "sequence_length = 250\n",
    "\n",
    "vectorize_layer = layers.TextVectorization(\n",
    "    standardize=custom_standardization,\n",
    "    max_tokens=vocab_size,\n",
    "    output_sequence_length=sequence_length)"
   ]
  },
  {
   "cell_type": "code",
   "execution_count": 9,
   "metadata": {},
   "outputs": [],
   "source": [
    "train_text = raw_train_ds.map(lambda x, y: x)\n",
    "vectorize_layer.adapt(train_text)"
   ]
  },
  {
   "cell_type": "code",
   "execution_count": 10,
   "metadata": {},
   "outputs": [],
   "source": [
    "def vectorize_text(text, label):\n",
    "    text = tf.expand_dims(text, -1)\n",
    "    return vectorize_layer(text), label"
   ]
  },
  {
   "cell_type": "code",
   "execution_count": 11,
   "metadata": {},
   "outputs": [
    {
     "name": "stdout",
     "output_type": "stream",
     "text": [
      "Review:\n",
      "b'Silent Night, Deadly Night 5 is the very last of the series, and like part 4, it\\'s unrelated to the first three except by title and the fact that it\\'s a Christmas-themed horror flick.<br /><br />Except to the oblivious, there\\'s some obvious things going on here...Mickey Rooney plays a toymaker named Joe Petto and his creepy son\\'s name is Pino. Ring a bell, anyone? Now, a little boy named Derek heard a knock at the door one evening, and opened it to find a present on the doorstep for him. Even though it said \"don\\'t open till Christmas\", he begins to open it anyway but is stopped by his dad, who scolds him and sends him to bed, and opens the gift himself. Inside is a little red ball that sprouts Santa arms and a head, and proceeds to kill dad. Oops, maybe he should have left well-enough alone. Of course Derek is then traumatized by the incident since he watched it from the stairs, but he doesn\\'t grow up to be some killer Santa, he just stops talking.<br /><br />There\\'s a mysterious stranger lurking around, who seems very interested in the toys that Joe Petto makes. We even see him buying a bunch when Derek\\'s mom takes him to the store to find a gift for him to bring him out of his trauma. And what exactly is this guy doing? Well, we\\'re not sure but he does seem to be taking these toys apart to see what makes them tick. He does keep his landlord from evicting him by promising him to pay him in cash the next day and presents him with a \"Larry the Larvae\" toy for his kid, but of course \"Larry\" is not a good toy and gets out of the box in the car and of course, well, things aren\\'t pretty.<br /><br />Anyway, eventually what\\'s going on with Joe Petto and Pino is of course revealed, and as with the old story, Pino is not a \"real boy\". Pino is probably even more agitated and naughty because he suffers from \"Kenitalia\" (a smooth plastic crotch) so that could account for his evil ways. And the identity of the lurking stranger is revealed too, and there\\'s even kind of a happy ending of sorts. Whee.<br /><br />A step up from part 4, but not much of one. Again, Brian Yuzna is involved, and Screaming Mad George, so some decent special effects, but not enough to make this great. A few leftovers from part 4 are hanging around too, like Clint Howard and Neith Hunter, but that doesn\\'t really make any difference. Anyway, I now have seeing the whole series out of my system. Now if I could get some of it out of my brain. 4 out of 5.'\n",
      "\n",
      "Standardization:\n",
      "b'silent night deadly night 5    last   series  like part 4  unrelated   first three except  title   fact    christmasthemed horror flick  except   oblivious theres  obvious things going  heremickey rooney plays  toymaker named joe petto   creepy sons name  pino ring  bell anyone now  little boy named derek heard  knock   door one evening  opened   find  present   doorstep   even though  said dont open till christmas  begins  open  anyway   stopped   dad  scolds   sends   bed  opens  gift  inside   little red ball  sprouts santa arms   head  proceeds  kill dad oops maybe    left wellenough alone  course derek   traumatized   incident since  watched    stairs   doesnt grow     killer santa  just stops talking  theres  mysterious stranger lurking around  seems  interested   toys  joe petto makes  even see  buying  bunch  dereks mom takes    store  find  gift    bring     trauma   exactly   guy  well  not sure    seem   taking  toys apart  see  makes  tick   keep  landlord  evicting   promising   pay   cash  next day  presents    larry  larvae toy   kid   course larry  not  good toy  gets    box   car   course well things arent pretty  anyway eventually whats going   joe petto  pino   course revealed     old story pino  not  real boy pino  probably even  agitated  naughty   suffers  kenitalia  smooth plastic crotch    account   evil ways   identity   lurking stranger  revealed   theres even kind   happy ending  sorts whee   step   part 4  not much  one  brian yuzna  involved  screaming mad george   decent special effects  not enough  make  great   leftovers  part 4  hanging around  like clint howard  neith hunter   doesnt really make  difference anyway  now  seeing  whole series    system now    get       brain 4   5'\n",
      "\n",
      "Label: 0\n",
      "\n",
      "Vectorized review:\n",
      "(<tf.Tensor: shape=(1, 250), dtype=int64, numpy=\n",
      "array([[1178,  213, 2271,  213,  549,  137,  108,    6,   82,  559, 5376,\n",
      "          23,  200,  440,  308,   97,    1,  101,  405,  440, 8117,  121,\n",
      "         467,   87,   81,    1, 5249,  193,    1,  654,  860,    1,  826,\n",
      "        2162,  292,    1, 1561, 3636,  156,   64,   41,  333,  654, 3331,\n",
      "         442, 3521, 1218,    5, 1986, 2801,   78,  897,    1,    9,   63,\n",
      "         195,   25,  849, 2192,  874,  653,  849,  457, 2028, 1144,    1,\n",
      "        3191, 1300, 1824, 3298,  855,   41,  633, 1866,    1, 1903, 2661,\n",
      "         325, 5066,  407, 1144,    1,  181,  209,    1,  472,  162, 3331,\n",
      "        8867, 3731,  138,  192, 5598,   60, 2057,  364, 1903,    7, 2635,\n",
      "         550,  121, 1266, 2892, 6962,   95,   92,  811, 3888,  860,    1,\n",
      "          73,    9,   15, 2645,  627,    1, 1502,  197, 1053,   78, 3298,\n",
      "         609, 7045,  497,  133,   17,    4,  149,  198,  560, 3888,  839,\n",
      "          15,   73,    1,  272,    1,    1, 2233,  898, 2240,  257,  161,\n",
      "        2281, 2703,    1, 2793,  447,  162, 2703,    4,    8, 2793,  109,\n",
      "         928,  415,  162,   17,   87,  583,   91,  457,  726,  584,   81,\n",
      "         860,    1,    1,  162, 1848,   76,   13,    1,    4,   61,  333,\n",
      "           1,  143,    9,    1, 5150, 2211,    1, 3509, 2966,    1, 2511,\n",
      "         334,  651, 2047, 6962, 2892, 1848,  121,    9,  144,  548,  174,\n",
      "        2546,    1, 1410,   82,  559,    4,   16,    5, 1487,    1,  458,\n",
      "        1724,  974,  615,  423,  207,  203,    4,   98,   30,   24,    1,\n",
      "          82,  559, 2248,   95,    6, 4061, 2165,    1, 2182,   60,   12,\n",
      "          30, 1281,  457,   64,  212,  120,  108, 1322,   64,   18, 1235,\n",
      "         559,  549,    0,    0,    0,    0,    0,    0]], dtype=int64)>, <tf.Tensor: shape=(), dtype=int32, numpy=0>)\n"
     ]
    }
   ],
   "source": [
    "text_batch, label_batch = next(iter(raw_train_ds))\n",
    "review, label = text_batch[0], label_batch[0]\n",
    "\n",
    "print(f'Review:\\n{review}')\n",
    "print(f'\\nStandardization:\\n{custom_standardization(review)}')\n",
    "print(f'\\nLabel: {label}')\n",
    "print(f'\\nVectorized review:\\n{vectorize_text(review, label)}')"
   ]
  },
  {
   "cell_type": "code",
   "execution_count": 12,
   "metadata": {},
   "outputs": [],
   "source": [
    "train_ds = raw_train_ds.map(vectorize_text)\n",
    "val_ds = raw_val_ds.map(vectorize_text)\n",
    "test_ds = raw_test_ds.map(vectorize_text)"
   ]
  },
  {
   "cell_type": "code",
   "execution_count": 13,
   "metadata": {},
   "outputs": [],
   "source": [
    "train_ds = train_ds.cache().prefetch(tf.data.AUTOTUNE)\n",
    "val_ds = val_ds.cache().prefetch(tf.data.AUTOTUNE)\n",
    "test_ds = test_ds.cache().prefetch(tf.data.AUTOTUNE)"
   ]
  },
  {
   "cell_type": "code",
   "execution_count": 14,
   "metadata": {},
   "outputs": [],
   "source": [
    "embedding_dim = 16"
   ]
  },
  {
   "cell_type": "code",
   "execution_count": 15,
   "metadata": {},
   "outputs": [
    {
     "name": "stdout",
     "output_type": "stream",
     "text": [
      "Model: \"sequential\"\n",
      "_________________________________________________________________\n",
      " Layer (type)                Output Shape              Param #   \n",
      "=================================================================\n",
      " embedding (Embedding)       (None, None, 16)          160000    \n",
      "                                                                 \n",
      " dropout (Dropout)           (None, None, 16)          0         \n",
      "                                                                 \n",
      " global_average_pooling1d (G  (None, 16)               0         \n",
      " lobalAveragePooling1D)                                          \n",
      "                                                                 \n",
      " dropout_1 (Dropout)         (None, 16)                0         \n",
      "                                                                 \n",
      " dense (Dense)               (None, 1)                 17        \n",
      "                                                                 \n",
      "=================================================================\n",
      "Total params: 160,017\n",
      "Trainable params: 160,017\n",
      "Non-trainable params: 0\n",
      "_________________________________________________________________\n"
     ]
    }
   ],
   "source": [
    "model = tf.keras.Sequential([\n",
    "    # vectorize_layer,\n",
    "    layers.Embedding(vocab_size, embedding_dim),\n",
    "    layers.Dropout(0.2),\n",
    "    layers.GlobalAveragePooling1D(),\n",
    "    layers.Dropout(0.2),\n",
    "    layers.Dense(1)])\n",
    "\n",
    "model.summary()"
   ]
  },
  {
   "cell_type": "code",
   "execution_count": 16,
   "metadata": {},
   "outputs": [],
   "source": [
    "model.compile(optimizer='adam',\n",
    "              loss=losses.BinaryCrossentropy(from_logits=True),\n",
    "              metrics=['accuracy'])"
   ]
  },
  {
   "cell_type": "code",
   "execution_count": 17,
   "metadata": {},
   "outputs": [
    {
     "name": "stdout",
     "output_type": "stream",
     "text": [
      "Epoch 1/10\n",
      "625/625 [==============================] - 22s 32ms/step - loss: 0.6654 - accuracy: 0.5069 - val_loss: 0.6200 - val_accuracy: 0.5336\n",
      "Epoch 2/10\n",
      "625/625 [==============================] - 6s 9ms/step - loss: 0.5513 - accuracy: 0.6416 - val_loss: 0.4997 - val_accuracy: 0.7480\n",
      "Epoch 3/10\n",
      "625/625 [==============================] - 6s 10ms/step - loss: 0.4411 - accuracy: 0.7920 - val_loss: 0.4165 - val_accuracy: 0.8276\n",
      "Epoch 4/10\n",
      "625/625 [==============================] - 6s 9ms/step - loss: 0.3706 - accuracy: 0.8462 - val_loss: 0.3659 - val_accuracy: 0.8540\n",
      "Epoch 5/10\n",
      "625/625 [==============================] - 6s 10ms/step - loss: 0.3247 - accuracy: 0.8716 - val_loss: 0.3346 - val_accuracy: 0.8644\n",
      "Epoch 6/10\n",
      "625/625 [==============================] - 6s 9ms/step - loss: 0.2927 - accuracy: 0.8850 - val_loss: 0.3138 - val_accuracy: 0.8700\n",
      "Epoch 7/10\n",
      "625/625 [==============================] - 6s 9ms/step - loss: 0.2673 - accuracy: 0.8963 - val_loss: 0.3000 - val_accuracy: 0.8754\n",
      "Epoch 8/10\n",
      "625/625 [==============================] - 6s 9ms/step - loss: 0.2479 - accuracy: 0.9053 - val_loss: 0.2906 - val_accuracy: 0.8774\n",
      "Epoch 9/10\n",
      "625/625 [==============================] - 6s 9ms/step - loss: 0.2310 - accuracy: 0.9122 - val_loss: 0.2837 - val_accuracy: 0.8776\n",
      "Epoch 10/10\n",
      "625/625 [==============================] - 6s 9ms/step - loss: 0.2167 - accuracy: 0.9172 - val_loss: 0.2797 - val_accuracy: 0.8796\n"
     ]
    }
   ],
   "source": [
    "epochs = 10\n",
    "history = model.fit(\n",
    "    train_ds,\n",
    "    validation_data=val_ds,\n",
    "    epochs=epochs)"
   ]
  },
  {
   "cell_type": "code",
   "execution_count": 18,
   "metadata": {},
   "outputs": [
    {
     "name": "stdout",
     "output_type": "stream",
     "text": [
      "782/782 [==============================] - 32s 41ms/step - loss: 0.2912 - accuracy: 0.8773\n"
     ]
    }
   ],
   "source": [
    "loss, accuracy = model.evaluate(test_ds)"
   ]
  },
  {
   "cell_type": "code",
   "execution_count": 19,
   "metadata": {},
   "outputs": [
    {
     "data": {
      "image/png": "[encoded data removed]",
      "text/plain": [
       "<Figure size 800x800 with 2 Axes>"
      ]
     },
     "metadata": {},
     "output_type": "display_data"
    }
   ],
   "source": [
    "acc = history.history['accuracy']\n",
    "val_acc = history.history['val_accuracy']\n",
    "\n",
    "loss = history.history['loss']\n",
    "val_loss = history.history['val_loss']\n",
    "\n",
    "plt.figure(figsize=(8, 8))\n",
    "plt.subplot(1, 2, 1)\n",
    "plt.plot(acc, label='Training Accuracy')\n",
    "plt.plot(val_acc, label='Validation Accuracy')\n",
    "plt.legend(loc='lower right')\n",
    "plt.title('Training y Validation Accuracy')\n",
    "\n",
    "plt.subplot(1, 2, 2)\n",
    "plt.plot(loss, label='Training loss')\n",
    "plt.plot(val_loss, label='Validation loss')\n",
    "plt.legend(loc='upper right')\n",
    "plt.title('Trainind and Validation Loss')\n",
    "plt.show()"
   ]
  },
  {
   "cell_type": "markdown",
   "metadata": {},
   "source": [
    "## Export the Model"
   ]
  },
  {
   "cell_type": "markdown",
   "metadata": {},
   "source": [
    "If you want to make your model capable of processing raw strings (for example, to simplify deploying it), you can include the TextVectorization layer inside your model"
   ]
  },
  {
   "cell_type": "code",
   "execution_count": 20,
   "metadata": {},
   "outputs": [
    {
     "name": "stdout",
     "output_type": "stream",
     "text": [
      "782/782 [==============================] - 21s 27ms/step - loss: 0.2912 - accuracy: 0.8854\n"
     ]
    }
   ],
   "source": [
    "export_model = tf.keras.Sequential([\n",
    "    vectorize_layer,\n",
    "    model,\n",
    "    layers.Activation('sigmoid')])\n",
    "\n",
    "export_model.compile(optimizer='adam', loss=losses.BinaryCrossentropy(from_logits=False), metrics=['accuracy'])\n",
    "\n",
    "loss, accuracy = export_model.evaluate(raw_test_ds)"
   ]
  },
  {
   "cell_type": "markdown",
   "metadata": {},
   "source": [
    "## Inference on new data"
   ]
  },
  {
   "cell_type": "code",
   "execution_count": 21,
   "metadata": {},
   "outputs": [
    {
     "name": "stdout",
     "output_type": "stream",
     "text": [
      "1/1 [==============================] - 0s 323ms/step\n"
     ]
    },
    {
     "data": {
      "text/plain": [
       "array([[0.62833244],\n",
       "       [0.44703346],\n",
       "       [0.36528522]], dtype=float32)"
      ]
     },
     "execution_count": 21,
     "metadata": {},
     "output_type": "execute_result"
    }
   ],
   "source": [
    "examples = [\n",
    "  \"The movie was great!\",\n",
    "  \"The movie was okay.\",\n",
    "  \"The movie was terrible...\"\n",
    "]\n",
    "\n",
    "export_model.predict(examples)"
   ]
  }
 ],
 "metadata": {
  "kernelspec": {
   "display_name": "Python 3.8.13 ('tf_cert')",
   "language": "python",
   "name": "python3"
  },
  "language_info": {
   "codemirror_mode": {
    "name": "ipython",
    "version": 3
   },
   "file_extension": ".py",
   "mimetype": "text/x-python",
   "name": "python",
   "nbconvert_exporter": "python",
   "pygments_lexer": "ipython3",
   "version": "3.8.13"
  },
  "orig_nbformat": 4,
  "vscode": {
   "interpreter": {
    "hash": "bdc61549ca29cf556f83ccb966c26ebc085b6ed141d6cc6c04c04aafef5b7244"
   }
  }
 },
 "nbformat": 4,
 "nbformat_minor": 2
}
