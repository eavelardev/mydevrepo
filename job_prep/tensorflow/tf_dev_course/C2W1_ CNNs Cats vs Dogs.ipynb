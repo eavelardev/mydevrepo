{
 "cells": [
  {
   "cell_type": "markdown",
   "metadata": {},
   "source": [
    "## Week 1: Using CNN's with the Cats vs Dogs Dataset"
   ]
  },
  {
   "cell_type": "code",
   "execution_count": 1,
   "metadata": {},
   "outputs": [],
   "source": [
    "import tensorflow as tf\n",
    "import matplotlib.pyplot as plt\n",
    "import shutil\n",
    "import random\n",
    "import os\n",
    "\n",
    "from tensorflow.keras import layers\n",
    "# from tensorflow.keras.preprocessing.image import ImageDataGenerator"
   ]
  },
  {
   "cell_type": "code",
   "execution_count": 2,
   "metadata": {},
   "outputs": [],
   "source": [
    "dataset_url = \"https://download.microsoft.com/download/3/E/1/3E1C3F21-ECDB-4869-8368-6DEBA77B919F/kagglecatsanddogs_5340.zip\"\n",
    "zip_path = tf.keras.utils.get_file(origin=dataset_url, extract=False)"
   ]
  },
  {
   "cell_type": "code",
   "execution_count": 3,
   "metadata": {},
   "outputs": [],
   "source": [
    "data_path = os.path.dirname(zip_path)\n",
    "source_path = os.path.join(data_path, 'PetImages')\n",
    "source_path_cats = os.path.join(source_path, 'Cat')\n",
    "source_path_dogs = os.path.join(source_path, 'Dog')"
   ]
  },
  {
   "cell_type": "markdown",
   "metadata": {},
   "source": [
    "#### Data cleaning"
   ]
  },
  {
   "cell_type": "code",
   "execution_count": 4,
   "metadata": {},
   "outputs": [],
   "source": [
    "file1_path = os.path.join(source_path_cats, 'Thumbs.db')\n",
    "file2_path = os.path.join(source_path_dogs, 'Thumbs.db')\n",
    "\n",
    "if os.path.exists(file1_path):\n",
    "    os.remove(file1_path)\n",
    "\n",
    "if os.path.exists(file2_path):\n",
    "    os.remove(file2_path)"
   ]
  },
  {
   "cell_type": "code",
   "execution_count": 5,
   "metadata": {},
   "outputs": [
    {
     "name": "stdout",
     "output_type": "stream",
     "text": [
      "There are 12500 images of dogs\n",
      "There are 12500 images of cats\n"
     ]
    }
   ],
   "source": [
    "print(f'There are {len(os.listdir(source_path_dogs))} images of dogs')\n",
    "print(f'There are {len(os.listdir(source_path_cats))} images of cats')"
   ]
  },
  {
   "cell_type": "code",
   "execution_count": 6,
   "metadata": {},
   "outputs": [],
   "source": [
    "root_dir = os.path.join(data_path, 'cats-v-dogs')\n",
    "\n",
    "training_dir = os.path.join(root_dir, 'training')\n",
    "validation_dir = os.path.join(root_dir, 'validation')\n",
    "\n",
    "training_cats_dir = os.path.join(training_dir, 'cats')\n",
    "training_dogs_dir = os.path.join(training_dir, 'dogs')\n",
    "validation_cats_dir = os.path.join(validation_dir, 'cats')\n",
    "validation_dogs_dir = os.path.join(validation_dir, 'dogs')"
   ]
  },
  {
   "cell_type": "code",
   "execution_count": null,
   "metadata": {},
   "outputs": [],
   "source": [
    "if os.path.exists(root_dir):\n",
    "    shutil.rmtree(root_dir)\n",
    "\n",
    "def create_train_val_dirs(root_path):\n",
    "    os.makedirs(training_cats_dir)\n",
    "    os.makedirs(training_dogs_dir)\n",
    "    os.makedirs(validation_cats_dir)\n",
    "    os.makedirs(validation_dogs_dir)\n",
    "\n",
    "create_train_val_dirs(root_dir)"
   ]
  },
  {
   "cell_type": "code",
   "execution_count": 7,
   "metadata": {},
   "outputs": [
    {
     "name": "stdout",
     "output_type": "stream",
     "text": [
      "C:\\Users\\Eduardo\\.keras\\datasets\\cats-v-dogs\\training\n",
      "C:\\Users\\Eduardo\\.keras\\datasets\\cats-v-dogs\\validation\n",
      "C:\\Users\\Eduardo\\.keras\\datasets\\cats-v-dogs\\training\\cats\n",
      "C:\\Users\\Eduardo\\.keras\\datasets\\cats-v-dogs\\training\\dogs\n",
      "C:\\Users\\Eduardo\\.keras\\datasets\\cats-v-dogs\\validation\\cats\n",
      "C:\\Users\\Eduardo\\.keras\\datasets\\cats-v-dogs\\validation\\dogs\n"
     ]
    }
   ],
   "source": [
    "for rootdir, dirs, files in os.walk(root_dir):\n",
    "    for subdir in dirs:\n",
    "        print(os.path.join(rootdir, subdir))"
   ]
  },
  {
   "cell_type": "code",
   "execution_count": null,
   "metadata": {},
   "outputs": [],
   "source": [
    "def split_data(SOURCE_DIR, TRAINING_DIR, VALIDATION_DIR, SPLIT_SIZE):\n",
    "\n",
    "    source_files = []\n",
    "\n",
    "    for image_name in os.listdir(SOURCE_DIR):\n",
    "        image_path = os.path.join(SOURCE_DIR, image_name)\n",
    "        try:\n",
    "            img_bytes = tf.io.read_file(image_path)\n",
    "            decoded_img = tf.io.decode_image(img_bytes)\n",
    "        except tf.errors.InvalidArgumentError as e:\n",
    "            print(f'Found bad path {image_path}')\n",
    "            continue\n",
    "\n",
    "        source_files.append(image_name)\n",
    "\n",
    "    num_images = len(source_files)\n",
    "    num_training = int(num_images * SPLIT_SIZE)\n",
    "    list_files = random.sample(source_files, num_images)\n",
    "    training_images = list_files[:num_training]\n",
    "    validation_images = list_files[num_training:]\n",
    "\n",
    "    for training_image in training_images:\n",
    "        shutil.copyfile(os.path.join(SOURCE_DIR, training_image), os.path.join(TRAINING_DIR, training_image))\n",
    "\n",
    "    for validation_image in validation_images:\n",
    "        shutil.copyfile(os.path.join(SOURCE_DIR, validation_image), os.path.join(VALIDATION_DIR, validation_image))"
   ]
  },
  {
   "cell_type": "code",
   "execution_count": null,
   "metadata": {},
   "outputs": [],
   "source": [
    "# Empty directories in case you run this cell multiple times\n",
    "if len(os.listdir(training_cats_dir)) > 0:\n",
    "    for file in os.scandir(training_cats_dir):\n",
    "        os.remove(file.path)\n",
    "if len(os.listdir(training_dogs_dir)) > 0:\n",
    "    for file in os.scandir(training_dogs_dir):\n",
    "        os.remove(file.path)\n",
    "if len(os.listdir(validation_cats_dir)) > 0:\n",
    "    for file in os.scandir(validation_cats_dir):\n",
    "        os.remove(file.path)\n",
    "if len(os.listdir(validation_dogs_dir)) > 0:\n",
    "    for file in os.scandir(validation_dogs_dir):\n",
    "        os.remove(file.path)\n",
    "\n",
    "# Define proportion of images used for training\n",
    "split_size = .9\n",
    "\n",
    "# NOTE: Messages about zero length images should be printed out\n",
    "split_data(source_path_cats, training_cats_dir, validation_cats_dir, split_size)\n",
    "split_data(source_path_dogs, training_dogs_dir, validation_dogs_dir, split_size)"
   ]
  },
  {
   "cell_type": "code",
   "execution_count": 8,
   "metadata": {},
   "outputs": [
    {
     "name": "stdout",
     "output_type": "stream",
     "text": [
      "\n",
      "\n",
      "Original cat's directory has 12500 images\n",
      "Original dog's directory has 12500 images\n",
      "\n",
      "There are 11247 images of cats for training\n",
      "There are 11244 images of dogs for training\n",
      "There are 1250 images of cats for validation\n",
      "There are 1250 images of dogs for validation\n"
     ]
    }
   ],
   "source": [
    "# Check that the number of images matches the expected output\n",
    "\n",
    "# Your function should perform copies rather than moving images so original directories should contain unchanged images\n",
    "print(f\"\\n\\nOriginal cat's directory has {len(os.listdir(source_path_cats))} images\")\n",
    "print(f\"Original dog's directory has {len(os.listdir(source_path_dogs))} images\\n\")\n",
    "\n",
    "# Training and validation splits\n",
    "print(f\"There are {len(os.listdir(training_cats_dir))} images of cats for training\")\n",
    "print(f\"There are {len(os.listdir(training_dogs_dir))} images of dogs for training\")\n",
    "print(f\"There are {len(os.listdir(validation_cats_dir))} images of cats for validation\")\n",
    "print(f\"There are {len(os.listdir(validation_dogs_dir))} images of dogs for validation\")"
   ]
  },
  {
   "cell_type": "code",
   "execution_count": null,
   "metadata": {},
   "outputs": [],
   "source": [
    "# def train_val_generators(TRAINING_DIR, VALIDATION_DIR):\n",
    "\n",
    "#     train_datagen = ImageDataGenerator(rescale=1/255.0)\n",
    "\n",
    "#     train_generator = train_datagen.flow_from_directory(directory=TRAINING_DIR,\n",
    "#                                                         batch_size=128,\n",
    "#                                                         class_mode='binary',\n",
    "#                                                         target_size=(150, 150))\n",
    "\n",
    "#     validation_datagen = ImageDataGenerator(rescale=1/255.0)\n",
    "\n",
    "#     validation_generator = validation_datagen.flow_from_directory(directory=VALIDATION_DIR,\n",
    "#                                                                     batch_size=128,\n",
    "#                                                                     class_mode='binary',\n",
    "#                                                                     target_size=(150, 150))\n",
    "\n",
    "#     return train_generator, validation_generator\n",
    "\n",
    "# train_generator, validation_generator = train_val_generators(training_dir, validation_dir)"
   ]
  },
  {
   "cell_type": "code",
   "execution_count": 9,
   "metadata": {},
   "outputs": [
    {
     "name": "stdout",
     "output_type": "stream",
     "text": [
      "Found 22491 files belonging to 2 classes.\n",
      "Found 2500 files belonging to 2 classes.\n"
     ]
    }
   ],
   "source": [
    "train_dataset = tf.keras.utils.image_dataset_from_directory(\n",
    "    training_dir,\n",
    "    batch_size=128,\n",
    "    image_size=(150, 150)\n",
    ")\n",
    "\n",
    "validation_dataset = tf.keras.utils.image_dataset_from_directory(\n",
    "    validation_dir,\n",
    "    batch_size=32,\n",
    "    image_size=(150, 150)\n",
    ")"
   ]
  },
  {
   "cell_type": "markdown",
   "metadata": {},
   "source": [
    "#### Configure the dataset for performance"
   ]
  },
  {
   "cell_type": "code",
   "execution_count": 10,
   "metadata": {},
   "outputs": [],
   "source": [
    "AUTOTUNE = tf.data.AUTOTUNE\n",
    "\n",
    "train_dataset = train_dataset.cache().prefetch(buffer_size=AUTOTUNE)\n",
    "validation_dataset = validation_dataset.cache().prefetch(buffer_size=AUTOTUNE)"
   ]
  },
  {
   "cell_type": "code",
   "execution_count": 11,
   "metadata": {},
   "outputs": [],
   "source": [
    "class myCallback(tf.keras.callbacks.Callback):\n",
    "    def on_epoch_end(self, epoch, logs={}):\n",
    "        if logs['accuracy'] > 0.95 and logs['val_accuracy'] > 0.8:\n",
    "            print('\\nReached 95% accuracy and 80% validation accuracy so cancelling training')\n",
    "            self.model.stop_training = True"
   ]
  },
  {
   "cell_type": "code",
   "execution_count": 12,
   "metadata": {},
   "outputs": [],
   "source": [
    "def create_model():\n",
    "\n",
    "    model = tf.keras.Sequential([ \n",
    "        layers.Rescaling(1./255, input_shape=(150, 150, 3)),\n",
    "        layers.Conv2D(16, 3, activation='relu'),\n",
    "        layers.MaxPooling2D(),\n",
    "        layers.Conv2D(32, 3, activation='relu'),\n",
    "        layers.MaxPooling2D(),\n",
    "        layers.Conv2D(64, 3, activation='relu'),\n",
    "        layers.MaxPooling2D(),\n",
    "\n",
    "        layers.Flatten(),\n",
    "        layers.Dense(512, activation='relu'),\n",
    "        layers.Dense(1, activation='sigmoid')])\n",
    "\n",
    "    model.compile(optimizer='rmsprop',\n",
    "                  loss='binary_crossentropy',\n",
    "                  metrics=['accuracy']) \n",
    "\n",
    "    return model"
   ]
  },
  {
   "cell_type": "code",
   "execution_count": 13,
   "metadata": {},
   "outputs": [
    {
     "name": "stdout",
     "output_type": "stream",
     "text": [
      "Epoch 1/15\n",
      "176/176 [==============================] - 21s 98ms/step - loss: 0.7363 - accuracy: 0.6202 - val_loss: 0.5831 - val_accuracy: 0.6792\n",
      "Epoch 2/15\n",
      "176/176 [==============================] - 18s 99ms/step - loss: 0.5524 - accuracy: 0.7200 - val_loss: 0.5151 - val_accuracy: 0.7440\n",
      "Epoch 3/15\n",
      "176/176 [==============================] - 19s 104ms/step - loss: 0.4761 - accuracy: 0.7716 - val_loss: 0.5767 - val_accuracy: 0.7280\n",
      "Epoch 4/15\n",
      "176/176 [==============================] - 19s 106ms/step - loss: 0.4199 - accuracy: 0.8080 - val_loss: 0.4195 - val_accuracy: 0.8112\n",
      "Epoch 5/15\n",
      "176/176 [==============================] - 19s 102ms/step - loss: 0.3689 - accuracy: 0.8372 - val_loss: 0.4351 - val_accuracy: 0.8052\n",
      "Epoch 6/15\n",
      "176/176 [==============================] - 18s 101ms/step - loss: 0.3135 - accuracy: 0.8626 - val_loss: 0.4024 - val_accuracy: 0.8260\n",
      "Epoch 7/15\n",
      "176/176 [==============================] - 18s 101ms/step - loss: 0.2579 - accuracy: 0.8929 - val_loss: 0.5698 - val_accuracy: 0.7876\n",
      "Epoch 8/15\n",
      "176/176 [==============================] - 19s 102ms/step - loss: 0.1979 - accuracy: 0.9195 - val_loss: 0.5418 - val_accuracy: 0.7952\n",
      "Epoch 9/15\n",
      "176/176 [==============================] - 18s 100ms/step - loss: 0.1499 - accuracy: 0.9447 - val_loss: 0.5287 - val_accuracy: 0.8172\n",
      "Epoch 10/15\n",
      "176/176 [==============================] - ETA: 0s - loss: 0.1041 - accuracy: 0.9648\n",
      "Reached 95% accuracy and 80% validation accuracy so cancelling training\n",
      "176/176 [==============================] - 18s 100ms/step - loss: 0.1041 - accuracy: 0.9648 - val_loss: 0.6608 - val_accuracy: 0.8240\n"
     ]
    }
   ],
   "source": [
    "model = create_model()\n",
    "\n",
    "callbacks = myCallback()\n",
    "\n",
    "history = model.fit(train_dataset,\n",
    "                    epochs=15,\n",
    "                    verbose=1,\n",
    "                    validation_data=validation_dataset,\n",
    "                    callbacks=[callbacks])"
   ]
  },
  {
   "cell_type": "code",
   "execution_count": 15,
   "metadata": {},
   "outputs": [
    {
     "data": {
      "image/png": "[encoded data removed]",
      "text/plain": [
       "<Figure size 800x800 with 2 Axes>"
      ]
     },
     "metadata": {},
     "output_type": "display_data"
    }
   ],
   "source": [
    "acc = history.history['accuracy']\n",
    "val_acc = history.history['val_accuracy']\n",
    "\n",
    "loss = history.history['loss']\n",
    "val_loss = history.history['val_loss']\n",
    "\n",
    "plt.figure(figsize=(8, 8))\n",
    "plt.subplot(1, 2, 1)\n",
    "plt.plot(acc, label='Training Accuracy')\n",
    "plt.plot(val_acc, label='Validation Accuracy')\n",
    "plt.legend(loc='lower right')\n",
    "plt.title('Training y Validation Accuracy')\n",
    "\n",
    "plt.subplot(1, 2, 2)\n",
    "plt.plot(loss, label='Training loss')\n",
    "plt.plot(val_loss, label='Validation loss')\n",
    "plt.legend(loc='upper right')\n",
    "plt.title('Trainind and Validation Loss')\n",
    "plt.show()"
   ]
  }
 ],
 "metadata": {
  "kernelspec": {
   "display_name": "Python 3.8.13 ('tf_cert')",
   "language": "python",
   "name": "python3"
  },
  "language_info": {
   "codemirror_mode": {
    "name": "ipython",
    "version": 3
   },
   "file_extension": ".py",
   "mimetype": "text/x-python",
   "name": "python",
   "nbconvert_exporter": "python",
   "pygments_lexer": "ipython3",
   "version": "3.8.13"
  },
  "orig_nbformat": 4,
  "vscode": {
   "interpreter": {
    "hash": "bdc61549ca29cf556f83ccb966c26ebc085b6ed141d6cc6c04c04aafef5b7244"
   }
  }
 },
 "nbformat": 4,
 "nbformat_minor": 2
}
