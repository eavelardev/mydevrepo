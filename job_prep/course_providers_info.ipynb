{
 "cells": [
  {
   "cell_type": "markdown",
   "metadata": {},
   "source": [
    "- **Google Cloud Skills Boost** - 29 month, 299 year (24.9 month) (30 day trial) - [link](https://www.cloudskillsboost.google/subscriptions)\n",
    "- **Zero to Mastery** - 39 month, 279 year (23 month), lifetime 999 - [link](https://zerotomastery.io/academy/)\n",
    "- **A Cloud Guru** - 35, 47 month, 348 year (29 month) - [link](https://acloudguru.com/pricing)\n",
    "- **Coursera** - 59 month, 399 year (33.25 month) (7 day trial) - [link](https://www.coursera.org/courseraplus)\n",
    "- **RealLife** - 119.97 Full Course 41 week of lessons, 337.97 Get Fluent with Friends\n",
    "- **365 DataScience** - 36 month, 348 year (29 month) - [link](https://365datascience.com/pricing/)"
   ]
  },
  {
   "cell_type": "markdown",
   "metadata": {},
   "source": []
  }
 ],
 "metadata": {
  "kernelspec": {
   "display_name": "Python 3.10.4 ('ml_dev')",
   "language": "python",
   "name": "python3"
  },
  "language_info": {
   "name": "python",
   "version": "3.10.4"
  },
  "orig_nbformat": 4,
  "vscode": {
   "interpreter": {
    "hash": "087908278022b2d85c45a245fe6e85c62ca2bfdf1920b8ef7f67b833538e2768"
   }
  }
 },
 "nbformat": 4,
 "nbformat_minor": 2
}
