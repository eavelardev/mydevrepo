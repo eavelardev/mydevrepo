{
 "cells": [
  {
   "cell_type": "markdown",
   "metadata": {},
   "source": [
    "- **Google Cloud Skills Boost** - 29 month, 299 year (24.9 month) (30 day trial) - [link](https://www.cloudskillsboost.google/subscriptions)\n",
    "- **Zero to Mastery** - 39 month, 279 year (23 month), lifetime 999 - [link](https://zerotomastery.io/academy/)\n",
    "- **A Cloud Guru** - 35, 47 month, 348 year (29 month) - [link](https://acloudguru.com/pricing)\n",
    "- **Coursera** - 59 month, 399 year (33.25 month) (7 day trial) - [link](https://www.coursera.org/courseraplus)"
   ]
  }
 ],
 "metadata": {
  "language_info": {
   "name": "python"
  },
  "orig_nbformat": 4
 },
 "nbformat": 4,
 "nbformat_minor": 2
}
