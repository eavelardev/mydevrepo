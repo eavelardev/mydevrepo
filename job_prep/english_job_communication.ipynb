{
 "cells": [
  {
   "cell_type": "markdown",
   "metadata": {},
   "source": [
    "English\n",
    "- TJ Walker - **The Complete English Grammar Course** - Perfect Your English\n",
    "- Scott Mendoza - **The English Master Course**: English Grammar, English Speaking\n",
    "- Terry Mc Gonigle - **Learn English Speaking Course**: English speaking secrets\n",
    "- Luke Priddy - **English Grammar Complete** | All English Sentence Patterns\n",
    "- Georgia Tech - **Improve Your English Communication Skills Specialization**"
   ]
  },
  {
   "cell_type": "markdown",
   "metadata": {},
   "source": [
    "English Job\n",
    "- Terry Mc Gonigle - **Pass your job interview in English** : Get your dream job!\n",
    "- Luke Priddy - **Job Interview English**_ Questions, Answers, and Tips"
   ]
  },
  {
   "cell_type": "markdown",
   "metadata": {},
   "source": [
    "Job\n",
    "- Chris Haroun - **The Complete Resume, LinkedIn & Get Your Dream Job Course!**"
   ]
  },
  {
   "cell_type": "markdown",
   "metadata": {},
   "source": [
    "Communication\n",
    "- Alex Genadinik - **Business Communication Skills**_ Business Writing & Grammar\n",
    "- MasterClass - **Purposeful Communication**\n",
    "- TJ Walker - **The Complete Communication Skills Master Class for Life**\n",
    "- Deborah Grayson Riegel - **Smart Tips_ Communication**\n"
   ]
  }
 ],
 "metadata": {
  "language_info": {
   "name": "python"
  },
  "orig_nbformat": 4
 },
 "nbformat": 4,
 "nbformat_minor": 2
}
