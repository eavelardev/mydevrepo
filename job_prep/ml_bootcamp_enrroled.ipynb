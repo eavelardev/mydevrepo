{
 "cells": [
  {
   "cell_type": "markdown",
   "metadata": {},
   "source": [
    "### Machine Learning Bootcamp\n",
    "Google Developers\n",
    "\n",
    "[https://rsvp.withgoogle.com/events/ml-bootcamp-sp-22](https://rsvp.withgoogle.com/events/ml-bootcamp-sp-22)\n",
    "\n",
    "[https://rsvp.withgoogle.com/events/google-machine-learning-bootcamp_europe](https://rsvp.withgoogle.com/events/google-machine-learning-bootcamp_europe)"
   ]
  },
  {
   "cell_type": "markdown",
   "metadata": {},
   "source": [
    "#### Schedule\n",
    "\n",
    "- Program Start: July 4th, 2022\n",
    "- Program Ends: October 30, 2022\n",
    "- Deep Learning Specialization Mission 1: July 11th, 9am - September 4th, 6pm "
   ]
  },
  {
   "cell_type": "markdown",
   "metadata": {},
   "source": [
    "#### Bootcamp Content"
   ]
  },
  {
   "cell_type": "markdown",
   "metadata": {},
   "source": [
    "##### 1. Deep Learning Specialization - [link](https://www.deeplearning.ai/courses/deep-learning-specialization/)\n",
    "\n",
    "Courses\n",
    "- Coursera - **Deep Learning Specialization** (DeepLearning.AI) - [link](https://www.coursera.org/specializations/deep-learning) \n",
    "    1. `Neural Networks and Deep Learning` (4 weeks) - [link](https://www.coursera.org/learn/neural-networks-deep-learning)\n",
    "    2. `Improving Deep Neural Networks: Hyperparameter Tuning, Regularization and Optimization` (3 weeks) - [link](https://www.coursera.org/learn/deep-neural-network)\n",
    "    3. Structuring Machine Learning Projects (2 weeks) - [link](https://www.coursera.org/learn/machine-learning-projects)\n",
    "    4. Convolutional Neural Networks (4 weeks) - [link](https://www.coursera.org/learn/convolutional-neural-networks)\n",
    "    5. Sequence Models (4 weeks) - [link](https://www.coursera.org/learn/nlp-sequence-models)"
   ]
  },
  {
   "cell_type": "markdown",
   "metadata": {},
   "source": [
    "##### 2.1 TensorFlow Developer Certificate - [link](https://www.tensorflow.org/certificate)\n",
    "\n",
    "**Resources**\n",
    "\n",
    "Info\n",
    "- TensorFlow Developer Certificate_ Candidate Handbook - [link](https://www.tensorflow.org/extras/cert/TF_Certificate_Candidate_Handbook.pdf)\n",
    "- Tensorflow - Learn ML_ Master your path - [link](https://www.tensorflow.org/resources/learn-ml)\n",
    "\n",
    "Courses\n",
    "- DeepLearning.AI - **DeepLearning.AI TensorFlow Developer Professional Certificate** - [link](https://www.coursera.org/professional-certificates/tensorflow-in-practice)\n",
    "    1. Introduction to TensorFlow for Artificial Intelligence, Machine Learning, and Deep Learning (4 weeks) [link](https://www.coursera.org/learn/introduction-tensorflow)\n",
    "    2. Convolutional Neural Networks in TensorFlow (4 weeks) [link](https://www.coursera.org/learn/convolutional-neural-networks-tensorflow)\n",
    "    3. Natural Language Processing in TensorFlow (4 weeks) [link](https://www.coursera.org/learn/natural-language-processing-tensorflow)\n",
    "    4. Sequences, Time Series and Prediction (4 weeks) [link](https://www.coursera.org/learn/tensorflow-sequences-time-series-and-prediction)\n",
    "- Udacity - **Intro to TensorFlow for Deep Learning** - [link](https://www.udacity.com/course/intro-to-tensorflow-for-deep-learning--ud187)\n",
    "- Udemy - **TensorFlow Developer Certificate in 2022: Zero to Mastery** - [link](https://www.udemy.com/course/tensorflow-developer-certificate-machine-learning-zero-to-mastery/)\n"
   ]
  },
  {
   "cell_type": "markdown",
   "metadata": {},
   "source": [
    "##### 2.2 Professional Data Engineer - [link](https://cloud.google.com/certification/data-engineer)\n",
    "\n",
    "**Resources**\n",
    "\n",
    "- Data Engineer Learning Path - [link](https://www.cloudskillsboost.google/paths/16)\n",
    "- Data Analyst Learning Path - [link](https://www.cloudskillsboost.google/paths/18)\n",
    "- Google Data Analytics Certificate - [link](https://grow.google/certificates/data-analytics)\n",
    "\n",
    "Coursera Data Courses\n",
    "- Google Cloud - **Preparing for Google Cloud Certification: Cloud Data Engineer Professional Certificate** - [link](https://www.coursera.org/professional-certificates/gcp-data-engineering)\n",
    "    1. `Google Cloud Big Data and Machine Learning Fundamentals` (2 weeks) [link](https://www.coursera.org/learn/gcp-big-data-ml-fundamentals)\n",
    "    2. Modernizing Data Lakes and Data Warehouses with Google Cloud (2 weeks) [link](https://www.coursera.org/learn/data-lakes-data-warehouses-gcp)\n",
    "    3. Building Batch Data Pipelines on Google Cloud (6 weeks) [link](https://www.coursera.org/learn/batch-data-pipelines-gcp)\n",
    "    4. Building Resilient Streaming Analytics Systems on Google Cloud (2 weeks) [link](https://www.coursera.org/learn/streaming-analytics-systems-gcp)\n",
    "    5. Smart Analytics, Machine Learning, and AI on GCP (2 weeks) [link](https://www.coursera.org/learn/smart-analytics-machine-learning-ai-gcp)\n",
    "    6. Preparing for the Google Cloud Professional Data Engineer Exam (6 weeks) [link](https://www.coursera.org/learn/preparing-cloud-professional-data-engineer-exam)\n",
    "- Google - **Google Data Analytics Professional Certificate** - [link](https://www.coursera.org/professional-certificates/google-data-analytics)\n",
    "    1. Foundations: Data, Data, Everywhere (5 weeks) [link](https://www.coursera.org/learn/foundations-data)\n",
    "    2. Ask Questions to Make Data-Driven Decisions (4 weeks) [link](https://www.coursera.org/learn/ask-questions-make-decisions)\n",
    "    3. Prepare Data for Exploration (5 weeks) [link](https://www.coursera.org/learn/data-preparation)\n",
    "    4. Process Data from Dirty to Clean (6 weeks) [link](https://www.coursera.org/learn/process-data)\n",
    "    5. Analyze Data to Answer Questions (4 weeks) [link](https://www.coursera.org/learn/analyze-data)\n",
    "    6. Share Data Through the Art of Visualization (4 weeks) [link](https://www.coursera.org/learn/visualize-data)\n",
    "    7. Data Analysis with R Programming (5 weeks) [link](https://www.coursera.org/learn/data-analysis-r)\n",
    "    8. Google Data Analytics Capstone: Complete a Case Study (4 weeks) [link](https://www.coursera.org/learn/google-data-analytics-capstone)\n",
    "<!-- - A Cloud Guru - Google Certified Professional Data Engineer [link](https://acloudguru.com/course/google-certified-professional-data-engineer) -->\n"
   ]
  },
  {
   "cell_type": "markdown",
   "metadata": {},
   "source": [
    "##### 2.3 Professional Machine Learning Engineer - [link](https://cloud.google.com/certification/machine-learning-engineer)\n",
    "\n",
    "**Resources**\n",
    "\n",
    "- Machine Learning Engineer Learning Path - [link](https://www.cloudskillsboost.google/paths/17)\n",
    "    <!-- 1. Google Cloud Big Data and Machine Learning Fundamentals (Mar 10, 2022) - [Curse summary](https://www.youtube.com/watch?v=z9dohYNNHp8)\n",
    "    2. How Google Does Machine Learning (Mar 3, 2022) - [Curse summary]() -->\n"
   ]
  },
  {
   "cell_type": "markdown",
   "metadata": {},
   "source": [
    "Cousera ML courses\n",
    "- DeepLearning.AI - **Machine Learning Specialization** - [link](https://www.coursera.org/specializations/machine-learning-introduction) ([certificate](https://www.coursera.org/account/accomplishments/specialization/certificate/LASB56NT64FT))\n",
    "    1. `Supervised Machine Learning: Regression and Classification` (3 weeks) [link](https://www.coursera.org/learn/machine-learning)\n",
    "    2. `Advanced Learning Algorithms` (4 weeks) [link](https://www.coursera.org/learn/advanced-learning-algorithms)\n",
    "    3. `Unsupervised Learning, Recommenders, Reinforcement Learning` (3 weeks) [link](https://www.coursera.org/learn/unsupervised-learning-recommenders-reinforcement-learning)\n",
    "- Google Cloud - **Digital Transformation Using AI/ML with Google Cloud Specialization** - [link](https://www.coursera.org/specializations/digital-transformation-using-ai-ml-with-google-cloud)\n",
    "    1. `Business Transformation with Google Cloud` (1 week) [link](https://www.coursera.org/learn/business-transformation-google-cloud)\n",
    "    2. `Infrastructure and Application Modernization with Google Cloud` (1 week) [link](https://www.coursera.org/learn/google-cloud-product-fundamentals)\n",
    "    3. Managing Machine Learning Projects with Google Cloud (4 weeks) [link](https://www.coursera.org/learn/machine-learning-business-professionals)\n",
    "- Google Cloud - **Preparing for Google Cloud Certification: Machine Learning Engineer Professional Certificate** - [link](https://www.coursera.org/professional-certificates/preparing-for-google-cloud-machine-learning-engineer-professional-certificate) \n",
    "    1. `Google Cloud Big Data and Machine Learning Fundamentals` (2 weeks) [link](https://www.coursera.org/learn/gcp-big-data-ml-fundamentals)\n",
    "    2. `How Google does Machine Learning` (3 weeks) [link](https://www.coursera.org/learn/google-machine-learning)\n",
    "    3. `Launching into Machine Learning` (3 weeks) [link](https://www.coursera.org/learn/launching-machine-learning)\n",
    "    4. `TensorFlow on Google Cloud` (3 weeks) [link](https://www.coursera.org/learn/intro-tensorflow)\n",
    "    5. Feature Engineering (3 weeks) [link](https://www.coursera.org/learn/feature-engineering)\n",
    "    6. Machine Learning in the Enterprise (3 weeks) [link](https://www.coursera.org/learn/art-science-ml)\n",
    "    7. Production Machine Learning Systems (3 weeks) [link](https://www.coursera.org/learn/gcp-production-ml-systems)\n",
    "    8. MLOps (Machine Learning Operations) Fundamentals (3 weeks) [link](https://www.coursera.org/learn/mlops-fundamentals)\n",
    "    9. ML Pipelines on Google Cloud (4 weeks) [link](https://www.coursera.org/learn/ml-pipelines-google-cloud)\n",
    "- Google Cloud - **Advanced Machine Learning on Google Cloud Specialization** - [link](https://www.coursera.org/specializations/advanced-machine-learning-tensorflow-gcp)\n",
    "    1. End-to-End Machine Learning with TensorFlow on Google Cloud (3 weeks) [link](https://www.coursera.org/learn/end-to-end-ml-tensorflow-gcp)\n",
    "    2. Production Machine Learning Systems (3 weeks) [link](https://www.coursera.org/learn/gcp-production-ml-systems)\n",
    "    3. Computer Vision Fundamentals with Google Cloud (2 weeks) [link](https://www.coursera.org/learn/image-understanding-tensorflow-gcp)\n",
    "    4. Sequence Models for Time Series and Natural Language Processing (2 weeks) [link](https://www.coursera.org/learn/sequence-models-tensorflow-gcp)\n",
    "    5. Recommendation Systems with TensorFlow on GCP (2 weeks) [link](https://www.coursera.org/learn/recommendation-models-gcp)\n",
    "- DeepLearning.AI - **Machine Learning Engineering for Production (MLOps) Specialization** - [link](https://www.coursera.org/specializations/machine-learning-engineering-for-production-mlops)\n",
    "    1. Introduction to Machine Learning in Production (3 weeks) [link](https://www.coursera.org/learn/introduction-to-machine-learning-in-production)\n",
    "    2. Machine Learning Data Lifecycle in Production (4 weeks) [link](https://www.coursera.org/learn/machine-learning-data-lifecycle-in-production)\n",
    "    3. Machine Learning Modeling Pipelines in Production (5 weeks) [link](https://www.coursera.org/learn/machine-learning-modeling-pipelines-in-production)\n",
    "    4. Deploying Machine Learning Models in Production (4 weeks) [link](https://www.coursera.org/learn/deploying-machine-learning-models-in-production)"
   ]
  },
  {
   "cell_type": "markdown",
   "metadata": {},
   "source": [
    "Coursera Google Cloud Projects [Promo](https://www.coursera.org/promo/googlecloud-training-promotion)\n",
    "\n",
    "Advanced\n",
    "- Classify Images of Clouds in the Cloud with AutoML Vision [link](https://www.coursera.org/projects/googlecloud-classify-images-of-clouds-in-the-cloud-with-automl-vision-boydv)"
   ]
  },
  {
   "cell_type": "markdown",
   "metadata": {},
   "source": [
    "- Coursera - **IBM Specializations** - [link](https://www.coursera.org/ibm)\n",
    "    - IBM Introduction to Machine Learning Specialization [link](https://www.coursera.org/specializations/ibm-intro-machine-learning)\n",
    "        1. Exploratory Data Analysis for Machine Learning (5 weeks) [link](https://www.coursera.org/learn/ibm-exploratory-data-analysis-for-machine-learning)\n",
    "        2. ~~Supervised Machine Learning: Regression~~ (3 weeks) [link](https://www.coursera.org/learn/supervised-machine-learning-regression)\n",
    "        3. ~~Supervised Machine Learning: Classification~~ (6 weeks) [link](https://www.coursera.org/learn/supervised-machine-learning-classification)\n",
    "        4. ~~Unsupervised Machine Learning~~ (3 weeks) [link](https://www.coursera.org/learn/ibm-unsupervised-machine-learning)\n",
    "    - Introduction to Data Science Specialization [link](https://www.coursera.org/specializations/introduction-data-science)\n",
    "        1. What is Data Science? (3 weeks) [link](https://www.coursera.org/learn/what-is-datascience)\n",
    "        2. Tools for Data Science (4 weeks) [link](https://www.coursera.org/learn/open-source-tools-for-data-science)\n",
    "        3. ~~Data Science Methodology~~ (3 weeks) [link](https://www.coursera.org/learn/data-science-methodology)\n",
    "        4. Databases and SQL for Data Science with Python (6 weeks) [link](https://www.coursera.org/learn/sql-data-science)"
   ]
  },
  {
   "cell_type": "markdown",
   "metadata": {},
   "source": [
    "- **University of Michigan Specializations** - [link]()\n",
    "    - Applied Data Science with Python Specialization [link](https://www.coursera.org/specializations/data-science-python)\n",
    "        1. Introduction to Data Science in Python (4 weeks) [link](https://www.coursera.org/learn/python-data-analysis)\n",
    "        2. ~~Applied Plotting, Charting & Data Representation in Python~~ (4 weeks) [link](https://www.coursera.org/learn/python-plotting)\n",
    "        3. ~~Applied Machine Learning in Python~~ (4 weeks) [link](https://www.coursera.org/learn/python-machine-learning)\n",
    "        4. ~~Applied Text Mining in Python~~ (4 weeks) [link](https://www.coursera.org/learn/python-text-mining)\n",
    "        5. ~~Applied Social Network Analysis in Python~~ (4 weeks) [link](https://www.coursera.org/learn/python-social-network-analysis)"
   ]
  },
  {
   "cell_type": "markdown",
   "metadata": {},
   "source": [
    "**Communication**\n",
    "- Georgia Tech - **Improve Your English Communication Skills Specialization** - [link](https://www.coursera.org/specializations/improve-english)\n",
    "    1. Write Professional Emails in English (5 weeks) [link](https://www.coursera.org/learn/professional-emails-english)\n",
    "    2. Speak English Professionally: In Person, Online & On the Phone (5 weeks) [link](https://www.coursera.org/learn/speak-english-professionally)\n",
    "    3. ~~Build Your Professional ePortfolio in English~~ (4 weeks) [link](https://www.coursera.org/learn/eportfolio-english)\n",
    "    4. ~~Take Your English Communication Skills to the Next Level~~ (4 weeks) [link](https://www.coursera.org/learn/english-communication-capstone)\n",
    "- University of Pennsylvania - **English for Career Development** (Free) (5 weeks) [link](https://www.coursera.org/learn/careerdevelopment)\n",
    "- Tsinghua University - **Learn English Specialization** [link](https://www.coursera.org/specializations/learn-english)\n",
    "    1. Conversational English Skills (7 weeks) [link](https://www.coursera.org/learn/conversational-english-skills)\n",
    "    2. ~~Just Reading and Writing English 1~~ (7 weeks) [link](https://www.coursera.org/learn/just-reading-and-writing-english-1)\n",
    "    3. ~~Just Reading and Writing English 2~~ (7 weeks) [link](https://www.coursera.org/learn/just-reading-and-writing-english-2)\n",
    "    4. ~~General Academic English~~ (7 weeks) [link](https://www.coursera.org/learn/general-academic-english)"
   ]
  },
  {
   "cell_type": "markdown",
   "metadata": {},
   "source": [
    "##### 3. Kaggle\n",
    "\n",
    "**Resources**\n",
    "- The Kaggle Book [link](https://www.packtpub.com/product/the-kaggle-book/9781801817479)\n",
    "- Kaggle Courses [link](https://www.kaggle.com/learn)"
   ]
  },
  {
   "cell_type": "markdown",
   "metadata": {},
   "source": [
    "##### 4. ML Network\n",
    "- Tech Talk\n",
    "- Career Talk/Resume Clinic\n",
    "- Meetup"
   ]
  }
 ],
 "metadata": {
  "kernelspec": {
   "display_name": "Python 3.10.4 ('ml_dev')",
   "language": "python",
   "name": "python3"
  },
  "language_info": {
   "name": "python",
   "version": "3.9.12"
  },
  "orig_nbformat": 4,
  "vscode": {
   "interpreter": {
    "hash": "087908278022b2d85c45a245fe6e85c62ca2bfdf1920b8ef7f67b833538e2768"
   }
  }
 },
 "nbformat": 4,
 "nbformat_minor": 2
}
