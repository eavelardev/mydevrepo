{
 "cells": [
  {
   "cell_type": "markdown",
   "metadata": {},
   "source": [
    "ML Couses\n",
    "- Andrei Neagoie - Complete **Machine Learning and Data Science Bootcamp** 2022\n",
    "- Andrei Neagoie - **TensorFlow Developer Certificate** in 2022: Zero to Mastery\n",
    "- Stephane Maarek - **AWS Certified Machine Learning Specialty 2022** - Hands On!\n",
    "- DeepLearning.AI - **Machine Learning Specialization**\n",
    "\n",
    "Other Courses\n",
    "- ZerotoMastery - **Python for Business Data Analytics & Intelligence**\n",
    "- Andrei Neagoie - Master the Coding Interview: **Data Structures + Algorithms**\n",
    "- Andrei Neagoie - Master the Coding Interview: **Big Tech (FAANG) Interviews**\n",
    "- Preparing for **Google Cloud Certification: Cloud Architect Professional Certificate**\n",
    "\n",
    "Books\n",
    "- **Becoming a Data Head**: How to Think, Speak and Understand Data Science, Statistics and Machine Learning\n",
    "- **Effective Pandas**: Patterns for Data Manipulation\n",
    "- **The Kaggle Book**: Data analysis and machine learning for competitive data science\n",
    "- **Machine Learning with PyTorch and Scikit-Learn**: Develop machine learning and deep learning models with Python\n",
    "- **Learning Deep Learning**: Theory and Practice of Neural Networks, Computer Vision, Natural Language Processing, and Transformers Using TensorFlow\n",
    "- **Designing Machine Learning Systems**: An Iterative Process for Production-Ready Applications\n",
    "\n",
    "Google Cloud Books\n",
    "- **Google Cloud Certified Professional Cloud Architect** Study Guide (2e) (2022)\n",
    "- **Visualizing Google Cloud**: 101 Illustrated References for Cloud Engineers and Architects (2022)\n",
    "- **Data Science on the Google Cloud Platform (2e)**_ Implementing End-to-End Real-Time Data Pipelines: From Ingest to Machine Learning (2022)\n",
    "- Official **Google Cloud Certified Professional Data Engineer** Study Guide (2020)\n",
    "\n",
    "Complementary books\n",
    "- **Learn Like a Pro** Science-Based Tools to Become Better at Anything\n",
    "- **The Story is Everything**_ Mastering Creative Communication for business\n",
    "- **System Design Interview** – An Insider's Guide: Volume 2"
   ]
  },
  {
   "cell_type": "markdown",
   "metadata": {},
   "source": []
  }
 ],
 "metadata": {
  "language_info": {
   "name": "python"
  },
  "orig_nbformat": 4
 },
 "nbformat": 4,
 "nbformat_minor": 2
}
