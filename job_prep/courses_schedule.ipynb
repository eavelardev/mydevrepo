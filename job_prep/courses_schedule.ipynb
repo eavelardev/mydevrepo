{
 "cells": [
  {
   "cell_type": "code",
   "execution_count": 1,
   "metadata": {},
   "outputs": [],
   "source": [
    "from datetime import date\n",
    "import pandas"
   ]
  },
  {
   "cell_type": "code",
   "execution_count": 2,
   "metadata": {},
   "outputs": [],
   "source": [
    "courses_set = {\n",
    "    'dls': [(), {1:4, 2:3, 3:2, 4:4, 5:4}],                     # Deep Learning Specialization\n",
    "    'dts': [(), {1:1, 2:1, 3:4}],                               # Digital Transformation Using AI/ML Specialization\n",
    "    'mls': [(1,3), {1:3, 2:4}],                                 # Machine Learning Specialization\n",
    "    'mlc': [(), {1:2, 2:3, 3:3, 4:3, 5:3, 6:3, 7:3, 8:3, 9:4}], # Machine Learning Engineer Professional Certificate\n",
    "    'mladvs': [(), {1:3, 3:2, 4:2}],                            # Advanced Machine Learning on Google Cloud Specialization\n",
    "    'mlops': [(), {1:3, 2:4, 3:5, 4:4}]                         # MLOps Specialization\n",
    "}"
   ]
  },
  {
   "cell_type": "code",
   "execution_count": 3,
   "metadata": {},
   "outputs": [],
   "source": [
    "data_course_set = {\n",
    "    'tfc': [(), {1:4, 2:4, 3:4, 4:4}],                    # TensorFlow Developer Certificate\n",
    "    'dec': [(), {1:2, 2:2, 3:6, 4:2, 5:2, 6:6}],          # Data Engineer Certificate\n",
    "    'dac': [(), {1:5, 2:4, 3:5, 4:6, 5:4, 6:4, 7:5, 8:4}] # Data Analytics Certificate\n",
    "}"
   ]
  },
  {
   "cell_type": "code",
   "execution_count": 4,
   "metadata": {},
   "outputs": [],
   "source": [
    "other_courses = {\n",
    "    '': [(), {}], # Improve Your English Communication Skills Specialization\n",
    "    '': [(), {}], # Applied Data Science with Python Specialization\n",
    "    '': [(), {}]  # Data Science Fundamentals with Python and SQL Specialization\n",
    "}"
   ]
  },
  {
   "cell_type": "code",
   "execution_count": 5,
   "metadata": {},
   "outputs": [],
   "source": [
    "def get_pending_weeks(courses_set_info):\n",
    "    total_weeks = 0\n",
    "    for course_set in courses_set_info:\n",
    "        actual = course_set[0]\n",
    "        if actual == ():\n",
    "            actual = (0,0)\n",
    "        courses = course_set[1]\n",
    "        for course, weeks in courses.items():\n",
    "            if course == actual[0]:\n",
    "                total_weeks += weeks - actual[1]\n",
    "            elif course > actual[0]:\n",
    "                total_weeks += weeks\n",
    "    return total_weeks"
   ]
  },
  {
   "cell_type": "code",
   "execution_count": 6,
   "metadata": {},
   "outputs": [
    {
     "data": {
      "text/plain": [
       "77"
      ]
     },
     "execution_count": 6,
     "metadata": {},
     "output_type": "execute_result"
    }
   ],
   "source": [
    "\n",
    "get_pending_weeks(courses_set.values())"
   ]
  },
  {
   "cell_type": "code",
   "execution_count": 7,
   "metadata": {},
   "outputs": [
    {
     "data": {
      "text/plain": [
       "73"
      ]
     },
     "execution_count": 7,
     "metadata": {},
     "output_type": "execute_result"
    }
   ],
   "source": [
    "get_pending_weeks(data_course_set.values())"
   ]
  },
  {
   "cell_type": "code",
   "execution_count": 8,
   "metadata": {},
   "outputs": [
    {
     "data": {
      "text/plain": [
       "36"
      ]
     },
     "execution_count": 8,
     "metadata": {},
     "output_type": "execute_result"
    }
   ],
   "source": [
    "get_pending_weeks([data_course_set['tfc'], data_course_set['dec']])"
   ]
  },
  {
   "cell_type": "code",
   "execution_count": 9,
   "metadata": {},
   "outputs": [
    {
     "data": {
      "text/plain": [
       "37"
      ]
     },
     "execution_count": 9,
     "metadata": {},
     "output_type": "execute_result"
    }
   ],
   "source": [
    "get_pending_weeks([data_course_set['dac']])"
   ]
  },
  {
   "cell_type": "code",
   "execution_count": 10,
   "metadata": {},
   "outputs": [],
   "source": [
    "courses_idx = {}\n",
    "for key, course_set in courses_set.items():\n",
    "    actual = course_set[0]\n",
    "    if actual == ():\n",
    "        actual = (0,0)\n",
    "    courses = course_set[1]\n",
    "    course_idx = []\n",
    "    for course, weeks in courses.items():\n",
    "        if course == actual[0]:\n",
    "            start, end = actual[1], weeks\n",
    "        elif course > actual[0]:\n",
    "            start, end = 0, weeks\n",
    "        course_idx.extend([f'{key}_{course}.{i+1}' for i in range(start, end)])\n",
    "    courses_idx[key] = course_idx\n"
   ]
  },
  {
   "cell_type": "code",
   "execution_count": 11,
   "metadata": {},
   "outputs": [],
   "source": [
    "def get_total_weeks(courses):\n",
    "    weeks = 0\n",
    "    for course_set in courses.values():\n",
    "        weeks += len(course_set)\n",
    "    return weeks"
   ]
  },
  {
   "cell_type": "code",
   "execution_count": 12,
   "metadata": {},
   "outputs": [],
   "source": [
    "couse_groups = {\n",
    "    'dls': courses_idx['dls'],\n",
    "    'ml_path': courses_idx['mls'] + courses_idx['dts'] + courses_idx['mlc'] + courses_idx['mladvs']\n",
    "}"
   ]
  },
  {
   "cell_type": "code",
   "execution_count": 13,
   "metadata": {},
   "outputs": [
    {
     "data": {
      "text/plain": [
       "61"
      ]
     },
     "execution_count": 13,
     "metadata": {},
     "output_type": "execute_result"
    }
   ],
   "source": [
    "total_weeks = get_total_weeks(couse_groups)\n",
    "total_weeks"
   ]
  },
  {
   "cell_type": "code",
   "execution_count": 14,
   "metadata": {},
   "outputs": [],
   "source": [
    "group_priority = {}\n",
    "for key, value in couse_groups.items():\n",
    "    factor = total_weeks / len(value)\n",
    "    group_priority.update({course: round((i+1)*factor) for i, course in enumerate(value)})"
   ]
  },
  {
   "cell_type": "code",
   "execution_count": 15,
   "metadata": {},
   "outputs": [
    {
     "data": {
      "text/plain": [
       "58"
      ]
     },
     "execution_count": 15,
     "metadata": {},
     "output_type": "execute_result"
    }
   ],
   "source": [
    "actual_date = date.today()\n",
    "dl_mission = date(2022, 9, 4)\n",
    "delta = dl_mission - actual_date\n",
    "available_days = delta.days\n",
    "available_days"
   ]
  },
  {
   "cell_type": "code",
   "execution_count": 16,
   "metadata": {},
   "outputs": [],
   "source": [
    "dates = pandas.date_range(actual_date, dl_mission, inclusive='left').strftime(\"%d %B\")"
   ]
  },
  {
   "cell_type": "code",
   "execution_count": 17,
   "metadata": {},
   "outputs": [
    {
     "data": {
      "text/plain": [
       "{'mls_2.1': '08 July',\n",
       " 'mls_2.2': '09 July',\n",
       " 'dls_1.1': '10 July',\n",
       " 'mls_2.3': '11 July',\n",
       " 'mls_2.4': '12 July',\n",
       " 'dls_1.2': '13 July',\n",
       " 'dts_1.1': '14 July',\n",
       " 'dts_2.1': '15 July',\n",
       " 'dts_3.1': '16 July',\n",
       " 'dls_1.3': '17 July',\n",
       " 'dts_3.2': '18 July',\n",
       " 'dts_3.3': '18 July',\n",
       " 'dls_1.4': '19 July',\n",
       " 'dts_3.4': '20 July',\n",
       " 'mlc_1.1': '21 July',\n",
       " 'mlc_1.2': '22 July',\n",
       " 'dls_2.1': '23 July',\n",
       " 'mlc_2.1': '24 July',\n",
       " 'mlc_2.2': '25 July',\n",
       " 'mlc_2.3': '26 July',\n",
       " 'dls_2.2': '27 July',\n",
       " 'mlc_3.1': '28 July',\n",
       " 'mlc_3.2': '29 July',\n",
       " 'dls_2.3': '30 July',\n",
       " 'mlc_3.3': '31 July',\n",
       " 'mlc_4.1': '01 August',\n",
       " 'mlc_4.2': '02 August',\n",
       " 'dls_3.1': '03 August',\n",
       " 'mlc_4.3': '04 August',\n",
       " 'mlc_5.1': '05 August',\n",
       " 'dls_3.2': '06 August',\n",
       " 'mlc_5.2': '06 August',\n",
       " 'mlc_5.3': '07 August',\n",
       " 'mlc_6.1': '08 August',\n",
       " 'dls_4.1': '09 August',\n",
       " 'mlc_6.2': '10 August',\n",
       " 'mlc_6.3': '11 August',\n",
       " 'dls_4.2': '12 August',\n",
       " 'mlc_7.1': '13 August',\n",
       " 'mlc_7.2': '14 August',\n",
       " 'mlc_7.3': '15 August',\n",
       " 'dls_4.3': '16 August',\n",
       " 'mlc_8.1': '17 August',\n",
       " 'mlc_8.2': '18 August',\n",
       " 'mlc_8.3': '19 August',\n",
       " 'dls_4.4': '20 August',\n",
       " 'mlc_9.1': '21 August',\n",
       " 'mlc_9.2': '22 August',\n",
       " 'dls_5.1': '23 August',\n",
       " 'mlc_9.3': '24 August',\n",
       " 'mlc_9.4': '25 August',\n",
       " 'mladvs_1.1': '25 August',\n",
       " 'dls_5.2': '26 August',\n",
       " 'mladvs_1.2': '27 August',\n",
       " 'mladvs_1.3': '28 August',\n",
       " 'dls_5.3': '29 August',\n",
       " 'mladvs_3.1': '30 August',\n",
       " 'mladvs_3.2': '31 August',\n",
       " 'mladvs_4.1': '01 September',\n",
       " 'dls_5.4': '02 September',\n",
       " 'mladvs_4.2': '03 September'}"
      ]
     },
     "execution_count": 17,
     "metadata": {},
     "output_type": "execute_result"
    }
   ],
   "source": [
    "factor = available_days / total_weeks if total_weeks > available_days else 1\n",
    "scheduled_course = {course[0]: dates[round((new_idx)*factor)] for new_idx, course in enumerate(sorted(group_priority.items(), key=lambda x:x[1]))}\n",
    "scheduled_course"
   ]
  }
 ],
 "metadata": {
  "kernelspec": {
   "display_name": "Python 3.10.5 ('py310_ml_win': venv)",
   "language": "python",
   "name": "python3"
  },
  "language_info": {
   "codemirror_mode": {
    "name": "ipython",
    "version": 3
   },
   "file_extension": ".py",
   "mimetype": "text/x-python",
   "name": "python",
   "nbconvert_exporter": "python",
   "pygments_lexer": "ipython3",
   "version": "3.10.5"
  },
  "orig_nbformat": 4,
  "vscode": {
   "interpreter": {
    "hash": "9e11fd806e883fe25658995a55730db23e36659130aad92f6218d3fd09809b3f"
   }
  }
 },
 "nbformat": 4,
 "nbformat_minor": 2
}
