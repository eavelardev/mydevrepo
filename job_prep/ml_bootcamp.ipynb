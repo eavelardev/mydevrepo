{
 "cells": [
  {
   "cell_type": "markdown",
   "metadata": {},
   "source": [
    "### Machine Learning Bootcamp\n",
    "Google Developers\n",
    "\n",
    "[https://rsvp.withgoogle.com/events/ml-bootcamp-sp-22](https://rsvp.withgoogle.com/events/ml-bootcamp-sp-22)\n",
    "\n",
    "[https://rsvp.withgoogle.com/events/google-machine-learning-bootcamp_europe](https://rsvp.withgoogle.com/events/google-machine-learning-bootcamp_europe)"
   ]
  },
  {
   "cell_type": "markdown",
   "metadata": {},
   "source": [
    "#### Schedule\n",
    "\n",
    "- Program Start: July 4th, 2022\n",
    "- Program Ends: October 30, 2022"
   ]
  },
  {
   "cell_type": "markdown",
   "metadata": {},
   "source": [
    "#### Bootcamp Content"
   ]
  },
  {
   "cell_type": "markdown",
   "metadata": {},
   "source": [
    "##### 1. Deep Learning Specialization - [link](https://www.deeplearning.ai/courses/deep-learning-specialization/)\n",
    "\n",
    "Courses\n",
    "- Coursera - **Deep Learning Specialization** - [link](https://www.coursera.org/specializations/deep-learning)\n",
    "    1. Neural Networks and Deep Learning - [link](https://www.coursera.org/learn/neural-networks-deep-learning)\n",
    "    2. Improving Deep Neural Networks: Hyperparameter Tuning, Regularization and Optimization - [link](https://www.coursera.org/learn/deep-neural-network)\n",
    "    3. Structuring Machine Learning Projects - [link](https://www.coursera.org/learn/machine-learning-projects)\n",
    "    4. Convolutional Neural Networks - [link](https://www.coursera.org/learn/convolutional-neural-networks)\n",
    "    5. Sequence Models - [link](https://www.coursera.org/learn/nlp-sequence-models)"
   ]
  },
  {
   "cell_type": "markdown",
   "metadata": {},
   "source": [
    "##### 2.1 TensorFlow Developer Certificate - [link](https://www.tensorflow.org/certificate)\n",
    "\n",
    "**Resources**\n",
    "\n",
    "Info\n",
    "- TensorFlow Developer Certificate_ Candidate Handbook - [link](https://www.tensorflow.org/extras/cert/TF_Certificate_Candidate_Handbook.pdf)\n",
    "- Tensorflow - Learn ML_ Master your path - [link](https://www.tensorflow.org/resources/learn-ml)\n",
    "\n",
    "Courses\n",
    "- Coursera - **DeepLearning.AI TensorFlow Developer Professional Certificate** - [link](https://www.coursera.org/professional-certificates/tensorflow-in-practice)\n",
    "    1. Introduction to TensorFlow for Artificial Intelligence, Machine Learning, and Deep Learning\n",
    "    2. Convolutional Neural Networks in TensorFlow\n",
    "    3. Natural Language Processing in TensorFlow\n",
    "    4. Sequences, Time Series and Prediction\n",
    "- Coursera - **TensorFlow: Data and Deployment Specialization** - [link](https://www.coursera.org/specializations/tensorflow-data-and-deployment)\n",
    "    1. Browser-based Models with TensorFlow.js\n",
    "    2. Device-based Models with TensorFlow Lite\n",
    "    3. Data Pipelines with TensorFlow Data Services\n",
    "    4. Advanced Deployment Scenarios with TensorFlow\n",
    "- Coursera - **TensorFlow: Advanced Techniques Specialization** - [link](https://www.coursera.org/specializations/tensorflow-advanced-techniques)\n",
    "    1. Custom Models, Layers, and Loss Functions with TensorFlow\n",
    "    2. Custom and Distributed Training with TensorFlow\n",
    "    3. Advanced Computer Vision with TensorFlow\n",
    "    4. Generative Deep Learning with TensorFlow\n",
    "- Udacity - **Intro to TensorFlow for Deep Learning** - [link](https://www.udacity.com/course/intro-to-tensorflow-for-deep-learning--ud187)\n",
    "- Udemy - **TensorFlow Developer Certificate in 2022: Zero to Mastery** - [link](https://www.udemy.com/course/tensorflow-developer-certificate-machine-learning-zero-to-mastery/)\n"
   ]
  },
  {
   "cell_type": "markdown",
   "metadata": {},
   "source": [
    "##### 2.2 Professional Data Engineer - [link](https://cloud.google.com/certification/data-engineer)\n",
    "\n",
    "**Resources**\n",
    "\n",
    "Data Engineer Learning Path - [link](https://www.cloudskillsboost.google/paths/16)\n",
    "\n",
    "Courses\n",
    "- Coursera - Preparing for Google Cloud Certification: Cloud Data Engineer Professional Certificate - [link](https://www.coursera.org/professional-certificates/gcp-data-engineering)\n",
    "    1. Google Cloud Big Data and Machine Learning Fundamentals [link](https://www.coursera.org/learn/gcp-big-data-ml-fundamentals)\n",
    "    2. Modernizing Data Lakes and Data Warehouses with Google Cloud [link](https://www.coursera.org/learn/data-lakes-data-warehouses-gcp)\n",
    "    3. Building Batch Data Pipelines on Google Cloud [link](https://www.coursera.org/learn/batch-data-pipelines-gcp)\n",
    "    4. Building Resilient Streaming Analytics Systems on Google Cloud [link](https://www.coursera.org/learn/streaming-analytics-systems-gcp)\n",
    "    5. Smart Analytics, Machine Learning, and AI on GCP [link](https://www.coursera.org/learn/smart-analytics-machine-learning-ai-gcp)\n",
    "    6. Preparing for the Google Cloud Professional Data Engineer Exam [link](https://www.coursera.org/learn/preparing-cloud-professional-data-engineer-exam)\n",
    "- A Cloud Guru - Google Certified Professional Data Engineer [link](https://acloudguru.com/course/google-certified-professional-data-engineer)\n"
   ]
  },
  {
   "cell_type": "markdown",
   "metadata": {},
   "source": [
    "##### 2.3 Professional Machine Learning Engineer - [link](https://cloud.google.com/certification/machine-learning-engineer)\n",
    "\n",
    "**Resources**\n",
    "\n",
    "Machine Learning Engineer Learning Path - [link](https://www.cloudskillsboost.google/paths/17)\n",
    "\n",
    "Courses\n",
    "- Coursera - **Preparing for Google Cloud Certification: Machine Learning Engineer Professional Certificate** - [link](https://www.coursera.org/professional-certificates/preparing-for-google-cloud-machine-learning-engineer-professional-certificate)\n",
    "    1. Google Cloud Big Data and Machine Learning Fundamentals [link](https://www.coursera.org/learn/gcp-big-data-ml-fundamentals)\n",
    "    2. How Google does Machine Learning [link](https://www.coursera.org/learn/google-machine-learning)\n",
    "    3. Launching into Machine Learning [link](https://www.coursera.org/learn/launching-machine-learning)\n",
    "    4. TensorFlow on Google Cloud [link](https://www.coursera.org/learn/intro-tensorflow)\n",
    "    5. Feature Engineering [link](https://www.coursera.org/learn/feature-engineering)\n",
    "    6. Machine Learning in the Enterprise [link](https://www.coursera.org/learn/art-science-ml)\n",
    "    7. Production Machine Learning Systems [link](https://www.coursera.org/learn/gcp-production-ml-systems)\n",
    "    8. MLOps (Machine Learning Operations) Fundamentals [link](https://www.coursera.org/learn/mlops-fundamentals)\n",
    "    9. ML Pipelines on Google Cloud [link](https://www.coursera.org/learn/ml-pipelines-google-cloud)\n"
   ]
  },
  {
   "cell_type": "markdown",
   "metadata": {},
   "source": [
    "**Extra Info**\n",
    "- Google Data Analytics Certificate - [link](https://grow.google/certificates/data-analytics)\n",
    "- Data Analyst Learning Path - [link](https://www.cloudskillsboost.google/paths/18)\n",
    "\n",
    "**Extra Courses**\n",
    "- Coursera - **Machine Learning Specialization** - [link](https://www.coursera.org/specializations/machine-learning-introduction)\n",
    "    1. Supervised Machine Learning: Regression and Classification [link](https://www.coursera.org/learn/machine-learning)\n",
    "    2. Advanced Learning Algorithms [link](https://www.coursera.org/learn/advanced-learning-algorithms)\n",
    "    3. Unsupervised Learning, Recommenders, Reinforcement Learning [link](https://www.coursera.org/learn/unsupervised-learning-recommenders-reinforcement-learning)\n",
    "- Coursera - **Google Data Analytics Professional Certificate** - [link](https://www.coursera.org/professional-certificates/google-data-analytics)\n",
    "    1. Foundations: Data, Data, Everywhere\n",
    "    2. Ask Questions to Make Data-Driven Decisions\n",
    "    3. Prepare Data for Exploration\n",
    "    4. Process Data from Dirty to Clean\n",
    "    5. Analyze Data to Answer Questions\n",
    "    6. Share Data Through the Art of Visualization\n",
    "    7. Data Analysis with R Programming\n",
    "    8. Google Data Analytics Capstone: Complete a Case Study"
   ]
  },
  {
   "cell_type": "markdown",
   "metadata": {},
   "source": [
    "##### 3. Kaggle\n",
    "\n",
    "**Resources**\n",
    "- The Kaggle Book"
   ]
  },
  {
   "cell_type": "markdown",
   "metadata": {},
   "source": [
    "##### 4. ML Network\n",
    "- Tech Talk\n",
    "- Career Talk/Resume Clinic\n",
    "- Meetup"
   ]
  }
 ],
 "metadata": {
  "language_info": {
   "name": "python"
  },
  "orig_nbformat": 4
 },
 "nbformat": 4,
 "nbformat_minor": 2
}
