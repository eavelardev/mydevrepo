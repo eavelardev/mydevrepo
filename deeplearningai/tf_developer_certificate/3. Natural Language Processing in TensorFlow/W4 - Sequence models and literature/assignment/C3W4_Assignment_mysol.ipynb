{
  "cells": [
    {
      "cell_type": "markdown",
      "metadata": {
        "id": "bFWbEb6uGbN-"
      },
      "source": [
        "# Week 4: Predicting the next word\n",
        "\n",
        "Welcome to this assignment! During this week you saw how to create a model that will predict the next word in a text sequence, now you will implement such model and train it using a corpus of Shakespeare's sonnets, while also creating some helper functions to pre-process the data.\n",
        "\n",
        "\n",
        "Let's get started!"
      ]
    },
    {
      "cell_type": "code",
      "execution_count": null,
      "metadata": {
        "id": "SlVsDVzFlf-5"
      },
      "outputs": [],
      "source": [
        "# Install this package to use Colab's GPU for training\n",
        "!apt install --allow-change-held-packages libcudnn8=8.4.1.50-1+cuda11.6"
      ]
    },
    {
      "cell_type": "code",
      "execution_count": null,
      "metadata": {
        "id": "BOwsuGQQY9OL",
        "tags": [
          "graded"
        ]
      },
      "outputs": [],
      "source": [
        "import numpy as np \n",
        "import matplotlib.pyplot as plt\n",
        "from tensorflow.keras.models import Sequential\n",
        "from tensorflow.keras.utils import to_categorical \n",
        "from tensorflow.keras.preprocessing.text import Tokenizer\n",
        "from tensorflow.keras.preprocessing.sequence import pad_sequences\n",
        "from tensorflow.keras.layers import Embedding, LSTM, Dense, Bidirectional"
      ]
    },
    {
      "cell_type": "markdown",
      "metadata": {
        "id": "BTxqlHqKHzhr"
      },
      "source": [
        "For this assignment you will be using the [Shakespeare Sonnets Dataset](https://www.opensourceshakespeare.org/views/sonnets/sonnet_view.php?range=viewrange&sonnetrange1=1&sonnetrange2=154), which contains more than 2000 lines of text extracted from Shakespeare's sonnets."
      ]
    },
    {
      "cell_type": "code",
      "execution_count": null,
      "metadata": {
        "id": "WZ4qOUzujMP6",
        "tags": [
          "graded"
        ]
      },
      "outputs": [],
      "source": [
        "# sonnets.txt\n",
        "!gdown --id 108jAePKK4R3BVYBbYJZ32JWUwxeMg20K"
      ]
    },
    {
      "cell_type": "code",
      "execution_count": null,
      "metadata": {
        "id": "Pfd-nYKij5yY",
        "tags": [
          "graded"
        ],
        "colab": {
          "base_uri": "https://localhost:8080/"
        },
        "outputId": "9e597334-1a7a-4c5e-eba2-d8b470ce9a27"
      },
      "outputs": [
        {
          "output_type": "stream",
          "name": "stdout",
          "text": [
            "There are 2159 lines of sonnets\n",
            "\n",
            "The first 5 lines look like this:\n",
            "\n",
            "from fairest creatures we desire increase,\n",
            "that thereby beauty's rose might never die,\n",
            "but as the riper should by time decease,\n",
            "his tender heir might bear his memory:\n",
            "but thou, contracted to thine own bright eyes,\n"
          ]
        }
      ],
      "source": [
        "# Define path for file with sonnets\n",
        "SONNETS_FILE = './sonnets.txt'\n",
        "\n",
        "# Read the data\n",
        "with open('./sonnets.txt') as f:\n",
        "    data = f.read()\n",
        "\n",
        "# Convert to lower case and save as a list\n",
        "corpus = data.lower().split(\"\\n\")\n",
        "\n",
        "print(f\"There are {len(corpus)} lines of sonnets\\n\")\n",
        "print(f\"The first 5 lines look like this:\\n\")\n",
        "for i in range(5):\n",
        "  print(corpus[i])"
      ]
    },
    {
      "cell_type": "markdown",
      "metadata": {
        "id": "imB15zrSNhA1"
      },
      "source": [
        "## Tokenizing the text\n",
        "\n",
        "Now fit the Tokenizer to the corpus and save the total number of words."
      ]
    },
    {
      "cell_type": "code",
      "execution_count": null,
      "metadata": {
        "id": "AAhM_qAZk0o5",
        "tags": [
          "graded"
        ]
      },
      "outputs": [],
      "source": [
        "tokenizer = Tokenizer()\n",
        "tokenizer.fit_on_texts(corpus)\n",
        "total_words = len(tokenizer.word_index) + 1"
      ]
    },
    {
      "cell_type": "markdown",
      "metadata": {
        "id": "77-0sA46OETa"
      },
      "source": [
        "When converting the text into sequences you can use the `texts_to_sequences` method as you have done throughout this course.\n",
        "\n",
        "In the next graded function you will need to process this corpus one line at a time. Given this, it is important to keep in mind that the way you are feeding the data unto this method affects the result. Check the following example to make this clearer.\n",
        "\n",
        "The first example of the corpus is a string and looks like this:"
      ]
    },
    {
      "cell_type": "code",
      "execution_count": null,
      "metadata": {
        "id": "tqhPxdeXlfjh",
        "tags": [
          "graded"
        ],
        "colab": {
          "base_uri": "https://localhost:8080/",
          "height": 35
        },
        "outputId": "640fe89f-c7a1-4eae-8804-56ce7439aea5"
      },
      "outputs": [
        {
          "output_type": "execute_result",
          "data": {
            "text/plain": [
              "'from fairest creatures we desire increase,'"
            ],
            "application/vnd.google.colaboratory.intrinsic+json": {
              "type": "string"
            }
          },
          "metadata": {},
          "execution_count": 6
        }
      ],
      "source": [
        "corpus[0]"
      ]
    },
    {
      "cell_type": "markdown",
      "metadata": {
        "id": "XFMP4z11O3os"
      },
      "source": [
        "If you pass this text directly into the `texts_to_sequences` method you will get an unexpected result:"
      ]
    },
    {
      "cell_type": "code",
      "execution_count": null,
      "metadata": {
        "id": "EMSEhmbzNZCE",
        "tags": [
          "graded"
        ],
        "colab": {
          "base_uri": "https://localhost:8080/"
        },
        "outputId": "e1ff163b-f5f5-449c-b578-8ee3294649e8"
      },
      "outputs": [
        {
          "output_type": "execute_result",
          "data": {
            "text/plain": [
              "[[],\n",
              " [],\n",
              " [58],\n",
              " [],\n",
              " [],\n",
              " [],\n",
              " [17],\n",
              " [6],\n",
              " [],\n",
              " [],\n",
              " [],\n",
              " [],\n",
              " [],\n",
              " [],\n",
              " [],\n",
              " [],\n",
              " [17],\n",
              " [],\n",
              " [],\n",
              " [],\n",
              " [],\n",
              " [],\n",
              " [],\n",
              " [],\n",
              " [],\n",
              " [],\n",
              " [],\n",
              " [],\n",
              " [],\n",
              " [6],\n",
              " [],\n",
              " [],\n",
              " [],\n",
              " [6],\n",
              " [],\n",
              " [],\n",
              " [],\n",
              " [],\n",
              " [17],\n",
              " [],\n",
              " [],\n",
              " []]"
            ]
          },
          "metadata": {},
          "execution_count": 7
        }
      ],
      "source": [
        "tokenizer.texts_to_sequences(corpus[0])"
      ]
    },
    {
      "cell_type": "markdown",
      "metadata": {
        "id": "pPZmZtpEPEeI"
      },
      "source": [
        "This happened because `texts_to_sequences` expects a list and you are providing a string. However a string is still and `iterable` in Python so you will get the word index of every character in the string.\n",
        "\n",
        "Instead you need to place the example whithin a list before passing it to the method:"
      ]
    },
    {
      "cell_type": "code",
      "execution_count": null,
      "metadata": {
        "id": "Qmgo-vXhk4nd",
        "tags": [
          "graded"
        ],
        "colab": {
          "base_uri": "https://localhost:8080/"
        },
        "outputId": "4cec7176-660e-4dc2-af94-a68a0af70f86"
      },
      "outputs": [
        {
          "output_type": "execute_result",
          "data": {
            "text/plain": [
              "[[34, 417, 877, 166, 213, 517]]"
            ]
          },
          "metadata": {},
          "execution_count": 8
        }
      ],
      "source": [
        "tokenizer.texts_to_sequences([corpus[0]])"
      ]
    },
    {
      "cell_type": "markdown",
      "metadata": {
        "id": "0DU7wK-eQ5dc"
      },
      "source": [
        "Notice that you received the sequence wrapped inside a list so in order to get only the desired sequence you need to explicitly get the first item in the list like this:"
      ]
    },
    {
      "cell_type": "code",
      "execution_count": null,
      "metadata": {
        "id": "kpTy8WmIQ57P",
        "tags": [
          "graded"
        ],
        "colab": {
          "base_uri": "https://localhost:8080/"
        },
        "outputId": "3d43e0cd-d731-467f-8004-2040725c8477"
      },
      "outputs": [
        {
          "output_type": "execute_result",
          "data": {
            "text/plain": [
              "[34, 417, 877, 166, 213, 517]"
            ]
          },
          "metadata": {},
          "execution_count": 9
        }
      ],
      "source": [
        "tokenizer.texts_to_sequences([corpus[0]])[0]"
      ]
    },
    {
      "cell_type": "markdown",
      "metadata": {
        "id": "-oqy9KjXRJ9A"
      },
      "source": [
        "## Generating n_grams\n",
        "\n",
        "Now complete the `n_gram_seqs` function below. This function receives the fitted tokenizer and the corpus (which is a list of strings) and should return a list containing the `n_gram` sequences for each line in the corpus:"
      ]
    },
    {
      "cell_type": "code",
      "execution_count": null,
      "metadata": {
        "id": "iy4baJMDl6kj",
        "tags": [
          "graded"
        ]
      },
      "outputs": [],
      "source": [
        "# GRADED FUNCTION: n_gram_seqs\n",
        "def n_gram_seqs(corpus, tokenizer):\n",
        "    \"\"\"\n",
        "    Generates a list of n-gram sequences\n",
        "    \n",
        "    Args:\n",
        "        corpus (list of string): lines of texts to generate n-grams for\n",
        "        tokenizer (object): an instance of the Tokenizer class containing the word-index dictionary\n",
        "    \n",
        "    Returns:\n",
        "        input_sequences (list of int): the n-gram sequences for each line in the corpus\n",
        "    \"\"\"\n",
        "    input_sequences = []\n",
        "    ### START CODE HERE\n",
        "    for line in corpus:\n",
        "      seq = tokenizer.texts_to_sequences([line])[0]\n",
        "\n",
        "      for i in range(1, len(seq)):\n",
        "        input_sequences.append(seq[:i+1])\n",
        "    ### END CODE HERE\n",
        "    \n",
        "    return input_sequences"
      ]
    },
    {
      "cell_type": "code",
      "execution_count": null,
      "metadata": {
        "id": "DlKqW2pfM7G3",
        "tags": [
          "graded"
        ],
        "colab": {
          "base_uri": "https://localhost:8080/"
        },
        "outputId": "698fcb28-70b7-438c-c83c-ba7760730c5e"
      },
      "outputs": [
        {
          "output_type": "stream",
          "name": "stdout",
          "text": [
            "['from fairest creatures we desire increase,']\n",
            "n_gram sequences for first example look like this:\n",
            "\n"
          ]
        },
        {
          "output_type": "execute_result",
          "data": {
            "text/plain": [
              "[[34, 417],\n",
              " [34, 417, 877],\n",
              " [34, 417, 877, 166],\n",
              " [34, 417, 877, 166, 213],\n",
              " [34, 417, 877, 166, 213, 517]]"
            ]
          },
          "metadata": {},
          "execution_count": 11
        }
      ],
      "source": [
        "# Test your function with one example\n",
        "first_example_sequence = n_gram_seqs([corpus[0]], tokenizer)\n",
        "\n",
        "print(\"n_gram sequences for first example look like this:\\n\")\n",
        "first_example_sequence"
      ]
    },
    {
      "cell_type": "markdown",
      "metadata": {
        "id": "0HL8Ug6UU0Jt"
      },
      "source": [
        "**Expected Output:**\n",
        "\n",
        "```\n",
        "n_gram sequences for first example look like this:\n",
        "\n",
        "[[34, 417],\n",
        " [34, 417, 877],\n",
        " [34, 417, 877, 166],\n",
        " [34, 417, 877, 166, 213],\n",
        " [34, 417, 877, 166, 213, 517]]\n",
        "```"
      ]
    },
    {
      "cell_type": "code",
      "execution_count": null,
      "metadata": {
        "id": "wtPpCcBjNc4c",
        "tags": [
          "graded"
        ],
        "colab": {
          "base_uri": "https://localhost:8080/"
        },
        "outputId": "06429d8d-7bb8-4279-aeb9-67cfc824ea1d"
      },
      "outputs": [
        {
          "output_type": "stream",
          "name": "stdout",
          "text": [
            "[\"that thereby beauty's rose might never die,\", 'but as the riper should by time decease,', 'his tender heir might bear his memory:']\n",
            "n_gram sequences for next 3 examples look like this:\n",
            "\n"
          ]
        },
        {
          "output_type": "execute_result",
          "data": {
            "text/plain": [
              "[[8, 878],\n",
              " [8, 878, 134],\n",
              " [8, 878, 134, 351],\n",
              " [8, 878, 134, 351, 102],\n",
              " [8, 878, 134, 351, 102, 156],\n",
              " [8, 878, 134, 351, 102, 156, 199],\n",
              " [16, 22],\n",
              " [16, 22, 2],\n",
              " [16, 22, 2, 879],\n",
              " [16, 22, 2, 879, 61],\n",
              " [16, 22, 2, 879, 61, 30],\n",
              " [16, 22, 2, 879, 61, 30, 48],\n",
              " [16, 22, 2, 879, 61, 30, 48, 634],\n",
              " [25, 311],\n",
              " [25, 311, 635],\n",
              " [25, 311, 635, 102],\n",
              " [25, 311, 635, 102, 200],\n",
              " [25, 311, 635, 102, 200, 25],\n",
              " [25, 311, 635, 102, 200, 25, 278]]"
            ]
          },
          "metadata": {},
          "execution_count": 12
        }
      ],
      "source": [
        "# Test your function with a bigger corpus\n",
        "next_3_examples_sequence = n_gram_seqs(corpus[1:4], tokenizer)\n",
        "\n",
        "print(\"n_gram sequences for next 3 examples look like this:\\n\")\n",
        "next_3_examples_sequence"
      ]
    },
    {
      "cell_type": "markdown",
      "metadata": {
        "id": "EIzecMczU9UB"
      },
      "source": [
        "**Expected Output:**\n",
        "\n",
        "```\n",
        "n_gram sequences for next 3 examples look like this:\n",
        "\n",
        "[[8, 878],\n",
        " [8, 878, 134],\n",
        " [8, 878, 134, 351],\n",
        " [8, 878, 134, 351, 102],\n",
        " [8, 878, 134, 351, 102, 156],\n",
        " [8, 878, 134, 351, 102, 156, 199],\n",
        " [16, 22],\n",
        " [16, 22, 2],\n",
        " [16, 22, 2, 879],\n",
        " [16, 22, 2, 879, 61],\n",
        " [16, 22, 2, 879, 61, 30],\n",
        " [16, 22, 2, 879, 61, 30, 48],\n",
        " [16, 22, 2, 879, 61, 30, 48, 634],\n",
        " [25, 311],\n",
        " [25, 311, 635],\n",
        " [25, 311, 635, 102],\n",
        " [25, 311, 635, 102, 200],\n",
        " [25, 311, 635, 102, 200, 25],\n",
        " [25, 311, 635, 102, 200, 25, 278]]\n",
        "```"
      ]
    },
    {
      "cell_type": "markdown",
      "metadata": {
        "id": "dx3V_RjFWQSu"
      },
      "source": [
        "Apply the `n_gram_seqs` transformation to the whole corpus and save the maximum sequence length to use it later:"
      ]
    },
    {
      "cell_type": "code",
      "execution_count": null,
      "metadata": {
        "id": "laMwiRUpmuSd",
        "tags": [
          "graded"
        ],
        "colab": {
          "base_uri": "https://localhost:8080/"
        },
        "outputId": "20adeed3-d435-4444-d6a5-2c81d9fbf695"
      },
      "outputs": [
        {
          "output_type": "stream",
          "name": "stdout",
          "text": [
            "['from fairest creatures we desire increase,', \"that thereby beauty's rose might never die,\", 'but as the riper should by time decease,', 'his tender heir might bear his memory:', 'but thou, contracted to thine own bright eyes,', \"feed'st thy light'st flame with self-substantial fuel,\", 'making a famine where abundance lies,', 'thyself thy foe, to thy sweet self too cruel.', \"thou that art now the world's fresh ornament\", 'and only herald to the gaudy spring,', 'within thine own bud buriest thy content', 'and, tender churl, makest waste in niggarding.', 'pity the world, or else this glutton be,', \"to eat the world's due, by the grave and thee.\", 'when forty winters shall beseige thy brow,', \"and dig deep trenches in thy beauty's field,\", \"thy youth's proud livery, so gazed on now,\", \"will be a tatter'd weed, of small worth held:\", \"then being ask'd where all thy beauty lies,\", 'where all the treasure of thy lusty days,', 'to say, within thine own deep-sunken eyes,', 'were an all-eating shame and thriftless praise.', \"how much more praise deserved thy beauty's use,\", \"if thou couldst answer 'this fair child of mine\", \"shall sum my count and make my old excuse,'\", 'proving his beauty by succession thine!', 'this were to be new made when thou art old,', \"and see thy blood warm when thou feel'st it cold.\", 'look in thy glass, and tell the face thou viewest', 'now is the time that face should form another;', 'whose fresh repair if now thou not renewest,', 'thou dost beguile the world, unbless some mother.', \"for where is she so fair whose unear'd womb\", 'disdains the tillage of thy husbandry?', 'or who is he so fond will be the tomb', 'of his self-love, to stop posterity?', \"thou art thy mother's glass, and she in thee\", 'calls back the lovely april of her prime:', 'so thou through windows of thine age shall see', 'despite of wrinkles this thy golden time.', \"but if thou live, remember'd not to be,\", 'die single, and thine image dies with thee.', 'unthrifty loveliness, why dost thou spend', \"upon thyself thy beauty's legacy?\", \"nature's bequest gives nothing but doth lend,\", 'and being frank she lends to those are free.', 'then, beauteous niggard, why dost thou abuse', 'the bounteous largess given thee to give?', 'profitless usurer, why dost thou use', 'so great a sum of sums, yet canst not live?', 'for having traffic with thyself alone,', 'thou of thyself thy sweet self dost deceive.', 'then how, when nature calls thee to be gone,', 'what acceptable audit canst thou leave?', \"thy unused beauty must be tomb'd with thee,\", \"which, used, lives th' executor to be.\", 'those hours, that with gentle work did frame', 'the lovely gaze where every eye doth dwell,', 'will play the tyrants to the very same', 'and that unfair which fairly doth excel:', 'for never-resting time leads summer on', 'to hideous winter and confounds him there;', \"sap check'd with frost and lusty leaves quite gone,\", \"beauty o'ersnow'd and bareness every where:\", \"then, were not summer's distillation left,\", 'a liquid prisoner pent in walls of glass,', \"beauty's effect with beauty were bereft,\", 'nor it nor no remembrance what it was:', \"but flowers distill'd though they with winter meet,\", 'leese but their show; their substance still lives sweet.', \"then let not winter's ragged hand deface\", \"in thee thy summer, ere thou be distill'd:\", 'make sweet some vial; treasure thou some place', \"with beauty's treasure, ere it be self-kill'd.\", 'that use is not forbidden usury,', 'which happies those that pay the willing loan;', \"that's for thyself to breed another thee,\", 'or ten times happier, be it ten for one;', 'ten times thyself were happier than thou art,', 'if ten of thine ten times refigured thee:', 'then what could death do, if thou shouldst depart,', 'leaving thee living in posterity?', \"be not self-will'd, for thou art much too fair\", \"to be death's conquest and make worms thine heir.\", 'lo! in the orient when the gracious light', 'lifts up his burning head, each under eye', 'doth homage to his new-appearing sight,', 'serving with looks his sacred majesty;', \"and having climb'd the steep-up heavenly hill,\", 'resembling strong youth in his middle age,', 'yet mortal looks adore his beauty still,', 'attending on his golden pilgrimage;', 'but when from highmost pitch, with weary car,', 'like feeble age, he reeleth from the day,', \"the eyes, 'fore duteous, now converted are\", 'from his low tract and look another way:', 'so thou, thyself out-going in thy noon,', \"unlook'd on diest, unless thou get a son.\", \"music to hear, why hear'st thou music sadly?\", 'sweets with sweets war not, joy delights in joy.', 'why lovest thou that which thou receivest not gladly,', 'or else receivest with pleasure thine annoy?', 'if the true concord of well-tuned sounds,', 'by unions married, do offend thine ear,', 'they do but sweetly chide thee, who confounds', 'in singleness the parts that thou shouldst bear.', 'mark how one string, sweet husband to another,', 'strikes each in each by mutual ordering,', 'resembling sire and child and happy mother', 'who all in one, one pleasing note do sing:', 'whose speechless song, being many, seeming one,', \"sings this to thee: 'thou single wilt prove none.'\", \"is it for fear to wet a widow's eye\", 'that thou consumest thyself in single life?', 'ah! if thou issueless shalt hap to die.', 'the world will wail thee, like a makeless wife;', 'the world will be thy widow and still weep', 'that thou no form of thee hast left behind,', 'when every private widow well may keep', \"by children's eyes her husband's shape in mind.\", 'look, what an unthrift in the world doth spend', 'shifts but his place, for still the world enjoys it;', \"but beauty's waste hath in the world an end,\", 'and kept unused, the user so destroys it.', 'no love toward others in that bosom sits', 'that on himself such murderous shame commits.', \"for shame! deny that thou bear'st love to any,\", 'who for thyself art so unprovident.', 'grant, if thou wilt, thou art beloved of many,', 'but that thou none lovest is most evident;', \"for thou art so possess'd with murderous hate\", \"that 'gainst thyself thou stick'st not to conspire.\", 'seeking that beauteous roof to ruinate', 'which to repair should be thy chief desire.', 'o, change thy thought, that i may change my mind!', 'shall hate be fairer lodged than gentle love?', 'be, as thy presence is, gracious and kind,', 'or to thyself at least kind-hearted prove:', 'make thee another self, for love of me,', 'that beauty still may live in thine or thee.', 'as fast as thou shalt wane, so fast thou growest', 'in one of thine, from that which thou departest;', 'and that fresh blood which youngly thou bestowest', 'thou mayst call thine when thou from youth convertest.', 'herein lives wisdom, beauty and increase:', 'without this, folly, age and cold decay:', 'if all were minded so, the times should cease', 'and threescore year would make the world away.', 'let those whom nature hath not made for store,', 'harsh featureless and rude, barrenly perish:', \"look, whom she best endow'd she gave the more;\", 'which bounteous gift thou shouldst in bounty cherish:', 'she carved thee for her seal, and meant thereby', 'thou shouldst print more, not let that copy die.', 'when i do count the clock that tells the time,', 'and see the brave day sunk in hideous night;', 'when i behold the violet past prime,', \"and sable curls all silver'd o'er with white;\", 'when lofty trees i see barren of leaves', 'which erst from heat did canopy the herd,', \"and summer's green all girded up in sheaves\", 'borne on the bier with white and bristly beard,', 'then of thy beauty do i question make,', 'that thou among the wastes of time must go,', 'since sweets and beauties do themselves forsake', 'and die as fast as they see others grow;', \"and nothing 'gainst time's scythe can make defence\", 'save breed, to brave him when he takes thee hence.', 'o, that you were yourself! but, love, you are', 'no longer yours than you yourself here live:', 'against this coming end you should prepare,', 'and your sweet semblance to some other give.', 'so should that beauty which you hold in lease', 'find no determination: then you were', \"yourself again after yourself's decease,\", 'when your sweet issue your sweet form should bear.', 'who lets so fair a house fall to decay,', 'which husbandry in honour might uphold', \"against the stormy gusts of winter's day\", \"and barren rage of death's eternal cold?\", 'o, none but unthrifts! dear my love, you know', 'you had a father: let your son say so.', 'not from the stars do i my judgment pluck;', 'and yet methinks i have astronomy,', 'but not to tell of good or evil luck,', \"of plagues, of dearths, or seasons' quality;\", 'nor can i fortune to brief minutes tell,', 'pointing to each his thunder, rain and wind,', 'or say with princes if it shall go well,', 'by oft predict that i in heaven find:', 'but from thine eyes my knowledge i derive,', 'and, constant stars, in them i read such art', 'as truth and beauty shall together thrive,', 'if from thyself to store thou wouldst convert;', 'or else of thee this i prognosticate:', \"thy end is truth's and beauty's doom and date.\", 'when i consider every thing that grows', 'holds in perfection but a little moment,', 'that this huge stage presenteth nought but shows', 'whereon the stars in secret influence comment;', 'when i perceive that men as plants increase,', \"cheered and check'd even by the self-same sky,\", 'vaunt in their youthful sap, at height decrease,', 'and wear their brave state out of memory;', 'then the conceit of this inconstant stay', 'sets you most rich in youth before my sight,', 'where wasteful time debateth with decay,', 'to change your day of youth to sullied night;', 'and all in war with time for love of you,', 'as he takes from you, i engraft you new.', 'but wherefore do not you a mightier way', 'make war upon this bloody tyrant, time?', 'and fortify yourself in your decay', 'with means more blessed than my barren rhyme?', 'now stand you on the top of happy hours,', 'and many maiden gardens yet unset', 'with virtuous wish would bear your living flowers,', 'much liker than your painted counterfeit:', 'so should the lines of life that life repair,', \"which this, time's pencil, or my pupil pen,\", 'neither in inward worth nor outward fair,', 'can make you live yourself in eyes of men.', 'to give away yourself keeps yourself still,', 'and you must live, drawn by your own sweet skill.', 'who will believe my verse in time to come,', \"if it were fill'd with your most high deserts?\", 'though yet, heaven knows, it is but as a tomb', 'which hides your life and shows not half your parts.', 'if i could write the beauty of your eyes', 'and in fresh numbers number all your graces,', \"the age to come would say 'this poet lies:\", \"such heavenly touches ne'er touch'd earthly faces.'\", \"so should my papers yellow'd with their age\", \"be scorn'd like old men of less truth than tongue,\", \"and your true rights be term'd a poet's rage\", 'and stretched metre of an antique song:', 'but were some child of yours alive that time,', 'you should live twice; in it and in my rhyme.', '', 'xviii.', '', \"shall i compare thee to a summer's day?\", 'thou art more lovely and more temperate:', 'rough winds do shake the darling buds of may,', \"and summer's lease hath all too short a date:\", 'sometime too hot the eye of heaven shines,', \"and often is his gold complexion dimm'd;\", 'and every fair from fair sometime declines,', \"by chance or nature's changing course untrimm'd;\", 'but thy eternal summer shall not fade', 'nor lose possession of that fair thou owest;', \"nor shall death brag thou wander'st in his shade,\", 'when in eternal lines to time thou growest:', 'so long as men can breathe or eyes can see,', 'so long lives this and this gives life to thee.', \"devouring time, blunt thou the lion's paws,\", 'and make the earth devour her own sweet brood;', \"pluck the keen teeth from the fierce tiger's jaws,\", 'and burn the long-lived phoenix in her blood;', 'make glad and sorry seasons as thou fleets,', \"and do whate'er thou wilt, swift-footed time,\", 'to the wide world and all her fading sweets;', 'but i forbid thee one most heinous crime:', \"o, carve not with thy hours my love's fair brow,\", 'nor draw no lines there with thine antique pen;', 'him in thy course untainted do allow', \"for beauty's pattern to succeeding men.\", 'yet, do thy worst, old time: despite thy wrong,', 'my love shall in my verse ever live young.', \"a woman's face with nature's own hand painted\", 'hast thou, the master-mistress of my passion;', \"a woman's gentle heart, but not acquainted\", \"with shifting change, as is false women's fashion;\", 'an eye more bright than theirs, less false in rolling,', 'gilding the object whereupon it gazeth;', \"a man in hue, all 'hues' in his controlling,\", \"much steals men's eyes and women's souls amazeth.\", 'and for a woman wert thou first created;', 'till nature, as she wrought thee, fell a-doting,', 'and by addition me of thee defeated,', 'by adding one thing to my purpose nothing.', \"but since she prick'd thee out for women's pleasure,\", \"mine be thy love and thy love's use their treasure.\", 'so is it not with me as with that muse', \"stirr'd by a painted beauty to his verse,\", 'who heaven itself for ornament doth use', 'and every fair with his fair doth rehearse', 'making a couplement of proud compare,', \"with sun and moon, with earth and sea's rich gems,\", \"with april's first-born flowers, and all things rare\", \"that heaven's air in this huge rondure hems.\", \"o' let me, true in love, but truly write,\", 'and then believe me, my love is as fair', \"as any mother's child, though not so bright\", \"as those gold candles fix'd in heaven's air:\", 'let them say more than like of hearsay well;', 'i will not praise that purpose not to sell.', 'my glass shall not persuade me i am old,', 'so long as youth and thou are of one date;', \"but when in thee time's furrows i behold,\", 'then look i death my days should expiate.', 'for all that beauty that doth cover thee', 'is but the seemly raiment of my heart,', 'which in thy breast doth live, as thine in me:', 'how can i then be elder than thou art?', 'o, therefore, love, be of thyself so wary', 'as i, not for myself, but for thee will;', 'bearing thy heart, which i will keep so chary', 'as tender nurse her babe from faring ill.', 'presume not on thy heart when mine is slain;', 'thou gavest me thine, not to give back again.', 'as an unperfect actor on the stage', 'who with his fear is put besides his part,', 'or some fierce thing replete with too much rage,', \"whose strength's abundance weakens his own heart.\", 'so i, for fear of trust, forget to say', \"the perfect ceremony of love's rite,\", \"and in mine own love's strength seem to decay,\", \"o'ercharged with burden of mine own love's might.\", 'o, let my books be then the eloquence', 'and dumb presagers of my speaking breast,', 'who plead for love and look for recompense', \"more than that tongue that more hath more express'd.\", 'o, learn to read what silent love hath writ:', \"to hear with eyes belongs to love's fine wit.\", \"mine eye hath play'd the painter and hath stell'd\", \"thy beauty's form in table of my heart;\", \"my body is the frame wherein 'tis held,\", \"and perspective it is the painter's art.\", 'for through the painter must you see his skill,', 'to find where your true image pictured lies;', \"which in my bosom's shop is hanging still,\", 'that hath his windows glazed with thine eyes.', 'now see what good turns eyes for eyes have done:', 'mine eyes have drawn thy shape, and thine for me', 'are windows to my breast, where-through the sun', 'delights to peep, to gaze therein on thee;', 'yet eyes this cunning want to grace their art;', 'they draw but what they see, know not the heart.', 'let those who are in favour with their stars', 'of public honour and proud titles boast,', 'whilst i, whom fortune of such triumph bars,', \"unlook'd for joy in that i honour most.\", \"great princes' favourites their fair leaves spread\", \"but as the marigold at the sun's eye,\", 'and in themselves their pride lies buried,', 'for at a frown they in their glory die.', 'the painful warrior famoused for fight,', \"after a thousand victories once foil'd,\", 'is from the book of honour razed quite,', \"and all the rest forgot for which he toil'd:\", 'then happy i, that love and am beloved', 'where i may not remove nor be removed.', 'ord of my love, to whom in vassalage', 'thy merit hath my duty strongly knit,', 'to thee i send this written embassage,', 'to witness duty, not to show my wit:', 'duty so great, which wit so poor as mine', 'may make seem bare, in wanting words to show it,', 'but that i hope some good conceit of thine', \"in thy soul's thought, all naked, will bestow it;\", 'till whatsoever star that guides my moving', 'points on me graciously with fair aspect', \"and puts apparel on my tatter'd loving,\", 'to show me worthy of thy sweet respect:', 'then may i dare to boast how i do love thee;', 'till then not show my head where thou mayst prove me.', 'weary with toil, i haste me to my bed,', 'the dear repose for limbs with travel tired;', 'but then begins a journey in my head,', \"to work my mind, when body's work's expired:\", 'for then my thoughts, from far where i abide,', 'intend a zealous pilgrimage to thee,', 'and keep my drooping eyelids open wide,', 'looking on darkness which the blind do see', \"save that my soul's imaginary sight\", 'presents thy shadow to my sightless view,', 'which, like a jewel hung in ghastly night,', 'makes black night beauteous and her old face new.', 'lo! thus, by day my limbs, by night my mind,', 'for thee and for myself no quiet find.', 'ow can i then return in happy plight,', \"that am debarr'd the benefit of rest?\", \"when day's oppression is not eased by night,\", \"but day by night, and night by day, oppress'd?\", \"and each, though enemies to either's reign,\", 'do in consent shake hands to torture me;', 'the one by toil, the other to complain', 'how far i toil, still farther off from thee.', 'i tell the day, to please them thou art bright', 'and dost him grace when clouds do blot the heaven:', \"so flatter i the swart-complexion'd night,\", \"when sparkling stars twire not thou gild'st the even.\", 'but day doth daily draw my sorrows longer', \"and night doth nightly make grief's strengthseem stronger.\", \"when, in disgrace with fortune and men's eyes,\", 'i all alone beweep my outcast state', 'and trouble deaf heaven with my bootless cries', 'and look upon myself and curse my fate,', 'wishing me like to one more rich in hope,', \"featured like him, like him with friends possess'd,\", \"desiring this man's art and that man's scope,\", 'with what i most enjoy contented least;', 'yet in these thoughts myself almost despising,', 'haply i think on thee, and then my state,', 'like to the lark at break of day arising', \"from sullen earth, sings hymns at heaven's gate;\", \"for thy sweet love remember'd such wealth brings\", 'that then i scorn to change my state with kings.', 'when to the sessions of sweet silent thought', 'i summon up remembrance of things past,', 'i sigh the lack of many a thing i sought,', \"and with old woes new wail my dear time's waste:\", 'then can i drown an eye, unused to flow,', \"for precious friends hid in death's dateless night,\", \"and weep afresh love's long since cancell'd woe,\", \"and moan the expense of many a vanish'd sight:\", 'then can i grieve at grievances foregone,', \"and heavily from woe to woe tell o'er\", 'the sad account of fore-bemoaned moan,', 'which i new pay as if not paid before.', 'but if the while i think on thee, dear friend,', 'all losses are restored and sorrows end.', 'thy bosom is endeared with all hearts,', 'which i by lacking have supposed dead,', \"and there reigns love and all love's loving parts,\", 'and all those friends which i thought buried.', 'how many a holy and obsequious tear', \"hath dear religious love stol'n from mine eye\", 'as interest of the dead, which now appear', 'but things removed that hidden in thee lie!', 'thou art the grave where buried love doth live,', 'hung with the trophies of my lovers gone,', 'who all their parts of me to thee did give;', 'that due of many now is thine alone:', 'their images i loved i view in thee,', 'and thou, all they, hast all the all of me.', 'if thou survive my well-contented day,', 'when that churl death my bones with dust shall cover,', 'and shalt by fortune once more re-survey', 'these poor rude lines of thy deceased lover,', 'compare them with the bettering of the time,', \"and though they be outstripp'd by every pen,\", 'reserve them for my love, not for their rhyme,', 'exceeded by the height of happier men.', 'o, then vouchsafe me but this loving thought:', \"'had my friend's muse grown with this growing age,\", 'a dearer birth than this his love had brought,', 'to march in ranks of better equipage:', 'but since he died and poets better prove,', \"theirs for their style i'll read, his for his love.'\", 'full many a glorious morning have i seen', 'flatter the mountain-tops with sovereign eye,', 'kissing with golden face the meadows green,', 'gilding pale streams with heavenly alchemy;', 'anon permit the basest clouds to ride', 'with ugly rack on his celestial face,', 'and from the forlorn world his visage hide,', 'stealing unseen to west with this disgrace:', 'even so my sun one early morn did shine', 'with all triumphant splendor on my brow;', 'but out, alack! he was but one hour mine;', \"the region cloud hath mask'd him from me now.\", 'yet him for this my love no whit disdaineth;', \"suns of the world may stain when heaven's sun staineth.\", 'why didst thou promise such a beauteous day,', 'and make me travel forth without my cloak,', \"to let base clouds o'ertake me in my way,\", 'hiding thy bravery in their rotten smoke?', \"'tis not enough that through the cloud thou break,\", 'to dry the rain on my storm-beaten face,', 'for no man well of such a salve can speak', 'that heals the wound and cures not the disgrace:', 'nor can thy shame give physic to my grief;', 'though thou repent, yet i have still the loss:', \"the offender's sorrow lends but weak relief\", \"to him that bears the strong offence's cross.\", 'ah! but those tears are pearl which thy love sheds,', 'and they are rich and ransom all ill deeds.', 'no more be grieved at that which thou hast done:', 'roses have thorns, and silver fountains mud;', 'clouds and eclipses stain both moon and sun,', 'and loathsome canker lives in sweetest bud.', 'all men make faults, and even i in this,', 'authorizing thy trespass with compare,', 'myself corrupting, salving thy amiss,', 'excusing thy sins more than thy sins are;', 'for to thy sensual fault i bring in sense--', 'thy adverse party is thy advocate--', \"and 'gainst myself a lawful plea commence:\", 'such civil war is in my love and hate', 'that i an accessary needs must be', 'to that sweet thief which sourly robs from me.', 'let me confess that we two must be twain,', 'although our undivided loves are one:', 'so shall those blots that do with me remain', 'without thy help by me be borne alone.', 'in our two loves there is but one respect,', 'though in our lives a separable spite,', \"which though it alter not love's sole effect,\", \"yet doth it steal sweet hours from love's delight.\", 'i may not evermore acknowledge thee,', 'lest my bewailed guilt should do thee shame,', 'nor thou with public kindness honour me,', 'unless thou take that honour from thy name:', 'but do not so; i love thee in such sort', 'as, thou being mine, mine is thy good report.', 'as a decrepit father takes delight', 'to see his active child do deeds of youth,', \"so i, made lame by fortune's dearest spite,\", 'take all my comfort of thy worth and truth.', 'for whether beauty, birth, or wealth, or wit,', 'or any of these all, or all, or more,', 'entitled in thy parts do crowned sit,', 'i make my love engrafted to this store:', 'so then i am not lame, poor, nor despised,', 'whilst that this shadow doth such substance give', 'that i in thy abundance am sufficed', 'and by a part of all thy glory live.', 'look, what is best, that best i wish in thee:', 'this wish i have; then ten times happy me!', 'how can my muse want subject to invent,', \"while thou dost breathe, that pour'st into my verse\", 'thine own sweet argument, too excellent', 'for every vulgar paper to rehearse?', 'o, give thyself the thanks, if aught in me', 'worthy perusal stand against thy sight;', \"for who's so dumb that cannot write to thee,\", 'when thou thyself dost give invention light?', 'be thou the tenth muse, ten times more in worth', 'than those old nine which rhymers invocate;', 'and he that calls on thee, let him bring forth', 'eternal numbers to outlive long date.', 'if my slight muse do please these curious days,', 'the pain be mine, but thine shall be the praise.', 'o, how thy worth with manners may i sing,', 'when thou art all the better part of me?', 'what can mine own praise to mine own self bring?', \"and what is 't but mine own when i praise thee?\", 'even for this let us divided live,', 'and our dear love lose name of single one,', 'that by this separation i may give', 'that due to thee which thou deservest alone.', 'o absence, what a torment wouldst thou prove,', 'were it not thy sour leisure gave sweet leave', 'to entertain the time with thoughts of love,', 'which time and thoughts so sweetly doth deceive,', 'and that thou teachest how to make one twain,', 'by praising him here who doth hence remain!', 'take all my loves, my love, yea, take them all;', 'what hast thou then more than thou hadst before?', 'no love, my love, that thou mayst true love call;', 'all mine was thine before thou hadst this more.', 'then if for my love thou my love receivest,', 'i cannot blame thee for my love thou usest;', 'but yet be blamed, if thou thyself deceivest', 'by wilful taste of what thyself refusest.', 'i do forgive thy robbery, gentle thief,', 'although thou steal thee all my poverty;', 'and yet, love knows, it is a greater grief', \"to bear love's wrong than hate's known injury.\", 'lascivious grace, in whom all ill well shows,', 'kill me with spites; yet we must not be foes.', 'those petty wrongs that liberty commits,', 'when i am sometime absent from thy heart,', 'thy beauty and thy years full well befits,', 'for still temptation follows where thou art.', 'gentle thou art and therefore to be won,', 'beauteous thou art, therefore to be assailed;', \"and when a woman woos, what woman's son\", 'will sourly leave her till she have prevailed?', 'ay me! but yet thou mightest my seat forbear,', 'and chide thy beauty and thy straying youth,', 'who lead thee in their riot even there', 'where thou art forced to break a twofold truth,', 'hers by thy beauty tempting her to thee,', 'thine, by thy beauty being false to me.', 'that thou hast her, it is not all my grief,', 'and yet it may be said i loved her dearly;', 'that she hath thee, is of my wailing chief,', 'a loss in love that touches me more nearly.', 'loving offenders, thus i will excuse ye:', 'thou dost love her, because thou knowst i love her;', 'and for my sake even so doth she abuse me,', 'suffering my friend for my sake to approve her.', \"if i lose thee, my loss is my love's gain,\", 'and losing her, my friend hath found that loss;', 'both find each other, and i lose both twain,', 'and both for my sake lay on me this cross:', \"but here's the joy; my friend and i are one;\", 'sweet flattery! then she loves but me alone.', 'when most i wink, then do mine eyes best see,', 'for all the day they view things unrespected;', 'but when i sleep, in dreams they look on thee,', 'and darkly bright are bright in dark directed.', 'then thou, whose shadow shadows doth make bright,', \"how would thy shadow's form form happy show\", 'to the clear day with thy much clearer light,', 'when to unseeing eyes thy shade shines so!', 'how would, i say, mine eyes be blessed made', 'by looking on thee in the living day,', 'when in dead night thy fair imperfect shade', 'through heavy sleep on sightless eyes doth stay!', 'all days are nights to see till i see thee,', 'and nights bright days when dreams do show thee me.', 'if the dull substance of my flesh were thought,', 'injurious distance should not stop my way;', 'for then despite of space i would be brought,', 'from limits far remote where thou dost stay.', 'no matter then although my foot did stand', 'upon the farthest earth removed from thee;', 'for nimble thought can jump both sea and land', 'as soon as think the place where he would be.', 'but ah! thought kills me that i am not thought,', 'to leap large lengths of miles when thou art gone,', 'but that so much of earth and water wrought', \"i must attend time's leisure with my moan,\", 'receiving nought by elements so slow', \"but heavy tears, badges of either's woe.\", 'the other two, slight air and purging fire,', 'are both with thee, wherever i abide;', 'the first my thought, the other my desire,', 'these present-absent with swift motion slide.', 'for when these quicker elements are gone', 'in tender embassy of love to thee,', 'my life, being made of four, with two alone', \"sinks down to death, oppress'd with melancholy;\", \"until life's composition be recured\", \"by those swift messengers return'd from thee,\", 'who even but now come back again, assured', 'of thy fair health, recounting it to me:', 'this told, i joy; but then no longer glad,', 'i send them back again and straight grow sad.', 'mine eye and heart are at a mortal war', 'how to divide the conquest of thy sight;', \"mine eye my heart thy picture's sight would bar,\", 'my heart mine eye the freedom of that right.', 'my heart doth plead that thou in him dost lie--', 'a closet never pierced with crystal eyes--', 'but the defendant doth that plea deny', 'and says in him thy fair appearance lies.', \"to 'cide this title is impanneled\", 'a quest of thoughts, all tenants to the heart,', 'and by their verdict is determined', \"the clear eye's moiety and the dear heart's part:\", \"as thus; mine eye's due is thy outward part,\", \"and my heart's right thy inward love of heart.\", 'betwixt mine eye and heart a league is took,', 'and each doth good turns now unto the other:', \"when that mine eye is famish'd for a look,\", 'or heart in love with sighs himself doth smother,', \"with my love's picture then my eye doth feast\", 'and to the painted banquet bids my heart;', \"another time mine eye is my heart's guest\", 'and in his thoughts of love doth share a part:', 'so, either by thy picture or my love,', 'thyself away art resent still with me;', 'for thou not farther than my thoughts canst move,', 'and i am still with them and they with thee;', 'or, if they sleep, thy picture in my sight', \"awakes my heart to heart's and eye's delight.\", 'how careful was i, when i took my way,', 'each trifle under truest bars to thrust,', 'that to my use it might unused stay', 'from hands of falsehood, in sure wards of trust!', 'but thou, to whom my jewels trifles are,', 'most worthy of comfort, now my greatest grief,', 'thou, best of dearest and mine only care,', 'art left the prey of every vulgar thief.', \"thee have i not lock'd up in any chest,\", 'save where thou art not, though i feel thou art,', 'within the gentle closure of my breast,', 'from whence at pleasure thou mayst come and part;', \"and even thence thou wilt be stol'n, i fear,\", 'for truth proves thievish for a prize so dear.', 'against that time, if ever that time come,', 'when i shall see thee frown on my defects,', 'when as thy love hath cast his utmost sum,', \"call'd to that audit by advised respects;\", 'against that time when thou shalt strangely pass', 'and scarcely greet me with that sun thine eye,', 'when love, converted from the thing it was,', 'shall reasons find of settled gravity,--', 'against that time do i ensconce me here', 'within the knowledge of mine own desert,', 'and this my hand against myself uprear,', 'to guard the lawful reasons on thy part:', 'to leave poor me thou hast the strength of laws,', 'since why to love i can allege no cause.', 'how heavy do i journey on the way,', \"when what i seek, my weary travel's end,\", 'doth teach that ease and that repose to say', \"'thus far the miles are measured from thy friend!'\", 'the beast that bears me, tired with my woe,', 'plods dully on, to bear that weight in me,', 'as if by some instinct the wretch did know', 'his rider loved not speed, being made from thee:', 'the bloody spur cannot provoke him on', 'that sometimes anger thrusts into his hide;', 'which heavily he answers with a groan,', 'more sharp to me than spurring to his side;', 'for that same groan doth put this in my mind;', 'my grief lies onward and my joy behind.', 'thus can my love excuse the slow offence', 'of my dull bearer when from thee i speed:', 'from where thou art why should i haste me thence?', 'till i return, of posting is no need.', 'o, what excuse will my poor beast then find,', 'when swift extremity can seem but slow?', 'then should i spur, though mounted on the wind;', 'in winged speed no motion shall i know:', 'then can no horse with my desire keep pace;', \"therefore desire of perfect'st love being made,\", 'shall neigh--no dull flesh--in his fiery race;', 'but love, for love, thus shall excuse my jade;', 'since from thee going he went wilful-slow,', \"towards thee i'll run, and give him leave to go.\", 'so am i as the rich, whose blessed key', 'can bring him to his sweet up-locked treasure,', 'the which he will not every hour survey,', 'for blunting the fine point of seldom pleasure.', 'therefore are feasts so solemn and so rare,', 'since, seldom coming, in the long year set,', 'like stones of worth they thinly placed are,', 'or captain jewels in the carcanet.', 'so is the time that keeps you as my chest,', 'or as the wardrobe which the robe doth hide,', 'to make some special instant special blest,', \"by new unfolding his imprison'd pride.\", 'blessed are you, whose worthiness gives scope,', \"being had, to triumph, being lack'd, to hope.\", 'what is your substance, whereof are you made,', 'that millions of strange shadows on you tend?', 'since every one hath, every one, one shade,', 'and you, but one, can every shadow lend.', 'describe adonis, and the counterfeit', 'is poorly imitated after you;', \"on helen's cheek all art of beauty set,\", 'and you in grecian tires are painted new:', 'speak of the spring and foison of the year;', 'the one doth shadow of your beauty show,', 'the other as your bounty doth appear;', 'and you in every blessed shape we know.', 'in all external grace you have some part,', 'but you like none, none you, for constant heart.', 'o, how much more doth beauty beauteous seem', 'by that sweet ornament which truth doth give!', 'the rose looks fair, but fairer we it deem', 'for that sweet odour which doth in it live.', 'the canker-blooms have full as deep a dye', 'as the perfumed tincture of the roses,', 'hang on such thorns and play as wantonly', \"when summer's breath their masked buds discloses:\", 'but, for their virtue only is their show,', \"they live unwoo'd and unrespected fade,\", 'die to themselves. sweet roses do not so;', 'of their sweet deaths are sweetest odours made:', 'and so of you, beauteous and lovely youth,', 'when that shall fade, my verse distills your truth.', 'not marble, nor the gilded monuments', 'of princes, shall outlive this powerful rhyme;', 'but you shall shine more bright in these contents', \"than unswept stone besmear'd with sluttish time.\", 'when wasteful war shall statues overturn,', 'and broils root out the work of masonry,', \"nor mars his sword nor war's quick fire shall burn\", 'the living record of your memory.', \"'gainst death and all-oblivious enmity\", 'shall you pace forth; your praise shall still find room', 'even in the eyes of all posterity', 'that wear this world out to the ending doom.', 'so, till the judgment that yourself arise,', \"you live in this, and dwell in lover's eyes.\", 'sweet love, renew thy force; be it not said', 'thy edge should blunter be than appetite,', \"which but to-day by feeding is allay'd,\", \"to-morrow sharpen'd in his former might:\", 'so, love, be thou; although to-day thou fill', 'thy hungry eyes even till they wink with fullness,', 'to-morrow see again, and do not kill', 'the spirit of love with a perpetual dullness.', 'let this sad interim like the ocean be', 'which parts the shore, where two contracted new', 'come daily to the banks, that, when they see', 'return of love, more blest may be the view;', 'else call it winter, which being full of care', \"makes summer's welcome thrice more wish'd, more rare.\", 'being your slave, what should i do but tend', 'upon the hours and times of your desire?', 'i have no precious time at all to spend,', 'nor services to do, till you require.', 'nor dare i chide the world-without-end hour', 'whilst i, my sovereign, watch the clock for you,', 'nor think the bitterness of absence sour', 'when you have bid your servant once adieu;', 'nor dare i question with my jealous thought', 'where you may be, or your affairs suppose,', 'but, like a sad slave, stay and think of nought', 'save, where you are how happy you make those.', 'so true a fool is love that in your will,', 'though you do any thing, he thinks no ill.', 'that god forbid that made me first your slave,', 'i should in thought control your times of pleasure,', 'or at your hand the account of hours to crave,', 'being your vassal, bound to stay your leisure!', 'o, let me suffer, being at your beck,', \"the imprison'd absence of your liberty;\", 'and patience, tame to sufferance, bide each check,', 'without accusing you of injury.', 'be where you list, your charter is so strong', 'that you yourself may privilege your time', 'to what you will; to you it doth belong', 'yourself to pardon of self-doing crime.', 'i am to wait, though waiting so be hell;', 'not blame your pleasure, be it ill or well.', 'if there be nothing new, but that which is', 'hath been before, how are our brains beguiled,', 'which, labouring for invention, bear amiss', 'the second burden of a former child!', 'o, that record could with a backward look,', 'even of five hundred courses of the sun,', 'show me your image in some antique book,', 'since mind at first in character was done!', 'that i might see what the old world could say', 'to this composed wonder of your frame;', 'whether we are mended, or whether better they,', 'or whether revolution be the same.', 'o, sure i am, the wits of former days', 'to subjects worse have given admiring praise.', 'like as the waves make towards the pebbled shore,', 'so do our minutes hasten to their end;', 'each changing place with that which goes before,', 'in sequent toil all forwards do contend.', 'nativity, once in the main of light,', \"crawls to maturity, wherewith being crown'd,\", \"crooked elipses 'gainst his glory fight,\", 'and time that gave doth now his gift confound.', 'time doth transfix the flourish set on youth', \"and delves the parallels in beauty's brow,\", \"feeds on the rarities of nature's truth,\", 'and nothing stands but for his scythe to mow:', 'and yet to times in hope my verse shall stand,', 'praising thy worth, despite his cruel hand.', 'is it thy will thy image should keep open', 'my heavy eyelids to the weary night?', 'dost thou desire my slumbers should be broken,', 'while shadows like to thee do mock my sight?', \"is it thy spirit that thou send'st from thee\", 'so far from home into my deeds to pry,', 'to find out shames and idle hours in me,', 'the scope and tenor of thy jealousy?', 'o, no! thy love, though much, is not so great:', 'it is my love that keeps mine eye awake;', 'mine own true love that doth my rest defeat,', 'to play the watchman ever for thy sake:', 'for thee watch i whilst thou dost wake elsewhere,', 'from me far off, with others all too near.', 'sin of self-love possesseth all mine eye', 'and all my soul and all my every part;', 'and for this sin there is no remedy,', 'it is so grounded inward in my heart.', 'methinks no face so gracious is as mine,', 'no shape so true, no truth of such account;', 'and for myself mine own worth do define,', 'as i all other in all worths surmount.', 'but when my glass shows me myself indeed,', \"beated and chopp'd with tann'd antiquity,\", 'mine own self-love quite contrary i read;', 'self so self-loving were iniquity.', \"'tis thee, myself, that for myself i praise,\", 'painting my age with beauty of thy days.', 'against my love shall be, as i am now,', \"with time's injurious hand crush'd and o'er-worn;\", \"when hours have drain'd his blood and fill'd his brow\", 'with lines and wrinkles; when his youthful morn', \"hath travell'd on to age's steepy night,\", \"and all those beauties whereof now he's king\", \"are vanishing or vanish'd out of sight,\", 'stealing away the treasure of his spring;', 'for such a time do i now fortify', \"against confounding age's cruel knife,\", 'that he shall never cut from memory', \"my sweet love's beauty, though my lover's life:\", 'his beauty shall in these black lines be seen,', 'and they shall live, and he in them still green.', \"when i have seen by time's fell hand defaced\", 'the rich proud cost of outworn buried age;', 'when sometime lofty towers i see down-razed', 'and brass eternal slave to mortal rage;', 'when i have seen the hungry ocean gain', 'advantage on the kingdom of the shore,', 'and the firm soil win of the watery main,', 'increasing store with loss and loss with store;', 'when i have seen such interchange of state,', 'or state itself confounded to decay;', 'ruin hath taught me thus to ruminate,', 'that time will come and take my love away.', 'this thought is as a death, which cannot choose', 'but weep to have that which it fears to lose.', 'since brass, nor stone, nor earth, nor boundless sea,', \"but sad mortality o'er-sways their power,\", 'how with this rage shall beauty hold a plea,', 'whose action is no stronger than a flower?', \"o, how shall summer's honey breath hold out\", 'against the wreckful siege of battering days,', 'when rocks impregnable are not so stout,', 'nor gates of steel so strong, but time decays?', 'o fearful meditation! where, alack,', \"shall time's best jewel from time's chest lie hid?\", 'or what strong hand can hold his swift foot back?', 'or who his spoil of beauty can forbid?', 'o, none, unless this miracle have might,', 'that in black ink my love may still shine bright.', 'tired with all these, for restful death i cry,', 'as, to behold desert a beggar born,', \"and needy nothing trimm'd in jollity,\", 'and purest faith unhappily forsworn,', 'and guilded honour shamefully misplaced,', 'and maiden virtue rudely strumpeted,', 'and right perfection wrongfully disgraced,', 'and strength by limping sway disabled,', 'and art made tongue-tied by authority,', 'and folly doctor-like controlling skill,', \"and simple truth miscall'd simplicity,\", 'and captive good attending captain ill:', 'tired with all these, from these would i be gone,', 'save that, to die, i leave my love alone.', 'ah! wherefore with infection should he live,', 'and with his presence grace impiety,', 'that sin by him advantage should achieve', 'and lace itself with his society?', 'why should false painting imitate his cheek', 'and steal dead seeing of his living hue?', 'why should poor beauty indirectly seek', 'roses of shadow, since his rose is true?', 'why should he live, now nature bankrupt is,', \"beggar'd of blood to blush through lively veins?\", 'for she hath no excheckr now but his,', 'and, proud of many, lives upon his gains.', 'o, him she stores, to show what wealth she had', 'in days long since, before these last so bad.', 'thus is his cheek the map of days outworn,', 'when beauty lived and died as flowers do now,', 'before the bastard signs of fair were born,', 'or durst inhabit on a living brow;', 'before the golden tresses of the dead,', 'the right of sepulchres, were shorn away,', 'to live a second life on second head;', \"ere beauty's dead fleece made another gay:\", 'in him those holy antique hours are seen,', 'without all ornament, itself and true,', \"making no summer of another's green,\", 'robbing no old to dress his beauty new;', 'and him as for a map doth nature store,', 'to show false art what beauty was of yore.', \"those parts of thee that the world's eye doth view\", 'want nothing that the thought of hearts can mend;', 'all tongues, the voice of souls, give thee that due,', 'uttering bare truth, even so as foes commend.', \"thy outward thus with outward praise is crown'd;\", 'but those same tongues that give thee so thine own', 'in other accents do this praise confound', 'by seeing farther than the eye hath shown.', 'they look into the beauty of thy mind,', 'and that, in guess, they measure by thy deeds;', 'then, churls, their thoughts, although their eyes were kind,', 'to thy fair flower add the rank smell of weeds:', 'but why thy odour matcheth not thy show,', 'the solve is this, that thou dost common grow.', 'that thou art blamed shall not be thy defect,', \"for slander's mark was ever yet the fair;\", 'the ornament of beauty is suspect,', \"a crow that flies in heaven's sweetest air.\", 'so thou be good, slander doth but approve', \"thy worth the greater, being woo'd of time;\", 'for canker vice the sweetest buds doth love,', \"and thou present'st a pure unstained prime.\", \"thou hast pass'd by the ambush of young days,\", \"either not assail'd or victor being charged;\", 'yet this thy praise cannot be so thy praise,', 'to tie up envy evermore enlarged:', \"if some suspect of ill mask'd not thy show,\", 'then thou alone kingdoms of hearts shouldst owe.', 'no longer mourn for me when i am dead', 'then you shall hear the surly sullen bell', 'give warning to the world that i am fled', 'from this vile world, with vilest worms to dwell:', 'nay, if you read this line, remember not', 'the hand that writ it; for i love you so', 'that i in your sweet thoughts would be forgot', 'if thinking on me then should make you woe.', 'o, if, i say, you look upon this verse', 'when i perhaps compounded am with clay,', 'do not so much as my poor name rehearse.', 'but let your love even with my life decay,', 'lest the wise world should look into your moan', 'and mock you with me after i am gone.', 'o, lest the world should task you to recite', 'what merit lived in me, that you should love', 'after my death, dear love, forget me quite,', 'for you in me can nothing worthy prove;', 'unless you would devise some virtuous lie,', 'to do more for me than mine own desert,', 'and hang more praise upon deceased i', 'than niggard truth would willingly impart:', 'o, lest your true love may seem false in this,', 'that you for love speak well of me untrue,', 'my name be buried where my body is,', 'and live no more to shame nor me nor you.', 'for i am shamed by that which i bring forth,', 'and so should you, to love things nothing worth.', 'that time of year thou mayst in me behold', 'when yellow leaves, or none, or few, do hang', 'upon those boughs which shake against the cold,', \"bare ruin'd choirs, where late the sweet birds sang.\", 'in me thou seest the twilight of such day', 'as after sunset fadeth in the west,', 'which by and by black night doth take away,', \"death's second self, that seals up all in rest.\", \"in me thou see'st the glowing of such fire\", 'that on the ashes of his youth doth lie,', 'as the death-bed whereon it must expire', \"consumed with that which it was nourish'd by.\", 'this thou perceivest, which makes thy love more strong,', 'to love that well which thou must leave ere long.', 'but be contented: when that fell arrest', 'without all bail shall carry me away,', 'my life hath in this line some interest,', 'which for memorial still with thee shall stay.', 'when thou reviewest this, thou dost review', 'the very part was consecrate to thee:', 'the earth can have but earth, which is his due;', 'my spirit is thine, the better part of me:', 'so then thou hast but lost the dregs of life,', 'the prey of worms, my body being dead,', \"the coward conquest of a wretch's knife,\", 'too base of thee to be remembered.', 'the worth of that is that which it contains,', 'and that is this, and this with thee remains.', 'so are you to my thoughts as food to life,', \"or as sweet-season'd showers are to the ground;\", 'and for the peace of you i hold such strife', \"as 'twixt a miser and his wealth is found;\", 'now proud as an enjoyer and anon', 'doubting the filching age will steal his treasure,', 'now counting best to be with you alone,', \"then better'd that the world may see my pleasure;\", 'sometime all full with feasting on your sight', 'and by and by clean starved for a look;', 'possessing or pursuing no delight,', 'save what is had or must from you be took.', 'thus do i pine and surfeit day by day,', 'or gluttoning on all, or all away.', 'why is my verse so barren of new pride,', 'so far from variation or quick change?', 'why with the time do i not glance aside', 'to new-found methods and to compounds strange?', 'why write i still all one, ever the same,', 'and keep invention in a noted weed,', 'that every word doth almost tell my name,', 'showing their birth and where they did proceed?', 'o, know, sweet love, i always write of you,', 'and you and love are still my argument;', 'so all my best is dressing old words new,', 'spending again what is already spent:', 'for as the sun is daily new and old,', 'so is my love still telling what is told.', 'thy glass will show thee how thy beauties wear,', 'thy dial how thy precious minutes waste;', \"the vacant leaves thy mind's imprint will bear,\", 'and of this book this learning mayst thou taste.', 'the wrinkles which thy glass will truly show', 'of mouthed graves will give thee memory;', \"thou by thy dial's shady stealth mayst know\", \"time's thievish progress to eternity.\", 'look, what thy memory can not contain', 'commit to these waste blanks, and thou shalt find', \"those children nursed, deliver'd from thy brain,\", 'to take a new acquaintance of thy mind.', 'these offices, so oft as thou wilt look,', 'shall profit thee and much enrich thy book.', 'so oft have i invoked thee for my muse', 'and found such fair assistance in my verse', 'as every alien pen hath got my use', 'and under thee their poesy disperse.', 'thine eyes that taught the dumb on high to sing', 'and heavy ignorance aloft to fly', \"have added feathers to the learned's wing\", 'and given grace a double majesty.', 'yet be most proud of that which i compile,', 'whose influence is thine and born of thee:', \"in others' works thou dost but mend the style,\", 'and arts with thy sweet graces graced be;', 'but thou art all my art and dost advance', 'as high as learning my rude ignorance.', 'whilst i alone did call upon thy aid,', 'my verse alone had all thy gentle grace,', \"but now my gracious numbers are decay'd\", 'and my sick muse doth give another place.', 'i grant, sweet love, thy lovely argument', 'deserves the travail of a worthier pen,', 'yet what of thee thy poet doth invent', 'he robs thee of and pays it thee again.', 'he lends thee virtue and he stole that word', 'from thy behavior; beauty doth he give', 'and found it in thy cheek; he can afford', 'no praise to thee but what in thee doth live.', 'then thank him not for that which he doth say,', 'since what he owes thee thou thyself dost pay.', 'o, how i faint when i of you do write,', 'knowing a better spirit doth use your name,', 'and in the praise thereof spends all his might,', 'to make me tongue-tied, speaking of your fame!', 'but since your worth, wide as the ocean is,', 'the humble as the proudest sail doth bear,', 'my saucy bark inferior far to his', 'on your broad main doth wilfully appear.', 'your shallowest help will hold me up afloat,', 'whilst he upon your soundless deep doth ride;', \"or being wreck'd, i am a worthless boat,\", 'he of tall building and of goodly pride:', 'then if he thrive and i be cast away,', 'the worst was this; my love was my decay.', 'or i shall live your epitaph to make,', 'or you survive when i in earth am rotten;', 'from hence your memory death cannot take,', 'although in me each part will be forgotten.', 'your name from hence immortal life shall have,', 'though i, once gone, to all the world must die:', 'the earth can yield me but a common grave,', \"when you entombed in men's eyes shall lie.\", 'your monument shall be my gentle verse,', \"which eyes not yet created shall o'er-read,\", 'and tongues to be your being shall rehearse', 'when all the breathers of this world are dead;', 'you still shall live--such virtue hath my pen--', 'where breath most breathes, even in the mouths of men.', 'i grant thou wert not married to my muse', \"and therefore mayst without attaint o'erlook\", 'the dedicated words which writers use', 'of their fair subject, blessing every book', 'thou art as fair in knowledge as in hue,', 'finding thy worth a limit past my praise,', 'and therefore art enforced to seek anew', 'some fresher stamp of the time-bettering days', 'and do so, love; yet when they have devised', 'what strained touches rhetoric can lend,', 'thou truly fair wert truly sympathized', 'in true plain words by thy true-telling friend;', 'and their gross painting might be better used', 'where cheeks need blood; in thee it is abused.', 'i never saw that you did painting need', 'and therefore to your fair no painting set;', 'i found, or thought i found, you did exceed', \"the barren tender of a poet's debt;\", 'and therefore have i slept in your report,', 'that you yourself being extant well might show', 'how far a modern quill doth come too short,', 'speaking of worth, what worth in you doth grow.', 'this silence for my sin you did impute,', 'which shall be most my glory, being dumb;', 'for i impair not beauty being mute,', 'when others would give life and bring a tomb.', 'there lives more life in one of your fair eyes', 'than both your poets can in praise devise.', 'who is it that says most? which can say more', 'than this rich praise, that you alone are you?', 'in whose confine immured is the store', 'which should example where your equal grew.', 'lean penury within that pen doth dwell', 'that to his subject lends not some small glory;', 'but he that writes of you, if he can tell', 'that you are you, so dignifies his story,', 'let him but copy what in you is writ,', 'not making worse what nature made so clear,', 'and such a counterpart shall fame his wit,', 'making his style admired every where.', 'you to your beauteous blessings add a curse,', 'being fond on praise, which makes your praises worse.', 'my tongue-tied muse in manners holds her still,', 'while comments of your praise, richly compiled,', 'reserve their character with golden quill', 'and precious phrase by all the muses filed.', 'i think good thoughts whilst other write good words,', \"and like unletter'd clerk still cry 'amen'\", 'to every hymn that able spirit affords', \"in polish'd form of well-refined pen.\", \"hearing you praised, i say ''tis so, 'tis true,'\", 'and to the most of praise add something more;', 'but that is in my thought, whose love to you,', 'though words come hindmost, holds his rank before.', 'then others for the breath of words respect,', 'me for my dumb thoughts, speaking in effect.', 'was it the proud full sail of his great verse,', 'bound for the prize of all too precious you,', 'that did my ripe thoughts in my brain inhearse,', 'making their tomb the womb wherein they grew?', 'was it his spirit, by spirits taught to write', 'above a mortal pitch, that struck me dead?', 'no, neither he, nor his compeers by night', 'giving him aid, my verse astonished.', 'he, nor that affable familiar ghost', 'which nightly gulls him with intelligence', 'as victors of my silence cannot boast;', 'i was not sick of any fear from thence:', \"but when your countenance fill'd up his line,\", \"then lack'd i matter; that enfeebled mine.\", 'farewell! thou art too dear for my possessing,', \"and like enough thou know'st thy estimate:\", 'the charter of thy worth gives thee releasing;', 'my bonds in thee are all determinate.', 'for how do i hold thee but by thy granting?', 'and for that riches where is my deserving?', 'the cause of this fair gift in me is wanting,', 'and so my patent back again is swerving.', 'thyself thou gavest, thy own worth then not knowing,', 'or me, to whom thou gavest it, else mistaking;', 'so thy great gift, upon misprision growing,', 'comes home again, on better judgment making.', 'thus have i had thee, as a dream doth flatter,', 'in sleep a king, but waking no such matter.', 'when thou shalt be disposed to set me light,', 'and place my merit in the eye of scorn,', \"upon thy side against myself i'll fight,\", 'and prove thee virtuous, though thou art forsworn.', 'with mine own weakness being best acquainted,', 'upon thy part i can set down a story', \"of faults conceal'd, wherein i am attainted,\", 'that thou in losing me shalt win much glory:', 'and i by this will be a gainer too;', 'for bending all my loving thoughts on thee,', 'the injuries that to myself i do,', 'doing thee vantage, double-vantage me.', 'such is my love, to thee i so belong,', 'that for thy right myself will bear all wrong.', 'say that thou didst forsake me for some fault,', 'and i will comment upon that offence;', 'speak of my lameness, and i straight will halt,', 'against thy reasons making no defence.', 'thou canst not, love, disgrace me half so ill,', 'to set a form upon desired change,', \"as i'll myself disgrace: knowing thy will,\", 'i will acquaintance strangle and look strange,', 'be absent from thy walks, and in my tongue', 'thy sweet beloved name no more shall dwell,', 'lest i, too much profane, should do it wrong', 'and haply of our old acquaintance tell.', \"for thee against myself i'll vow debate,\", \"for i must ne'er love him whom thou dost hate.\", 'then hate me when thou wilt; if ever, now;', 'now, while the world is bent my deeds to cross,', 'join with the spite of fortune, make me bow,', 'and do not drop in for an after-loss:', \"ah, do not, when my heart hath 'scoped this sorrow,\", \"come in the rearward of a conquer'd woe;\", 'give not a windy night a rainy morrow,', 'to linger out a purposed overthrow.', 'if thou wilt leave me, do not leave me last,', 'when other petty griefs have done their spite', 'but in the onset come; so shall i taste', \"at first the very worst of fortune's might,\", 'and other strains of woe, which now seem woe,', 'compared with loss of thee will not seem so.', 'some glory in their birth, some in their skill,', \"some in their wealth, some in their bodies' force,\", 'some in their garments, though new-fangled ill,', 'some in their hawks and hounds, some in their horse;', 'and every humour hath his adjunct pleasure,', 'wherein it finds a joy above the rest:', 'but these particulars are not my measure;', 'all these i better in one general best.', 'thy love is better than high birth to me,', \"richer than wealth, prouder than garments' cost,\", 'of more delight than hawks or horses be;', \"and having thee, of all men's pride i boast:\", 'wretched in this alone, that thou mayst take', 'all this away and me most wretched make.', 'but do thy worst to steal thyself away,', 'for term of life thou art assured mine,', 'and life no longer than thy love will stay,', 'for it depends upon that love of thine.', 'then need i not to fear the worst of wrongs,', 'when in the least of them my life hath end.', 'i see a better state to me belongs', 'than that which on thy humour doth depend;', 'thou canst not vex me with inconstant mind,', 'since that my life on thy revolt doth lie.', 'o, what a happy title do i find,', 'happy to have thy love, happy to die!', \"but what's so blessed-fair that fears no blot?\", 'thou mayst be false, and yet i know it not.', 'so shall i live, supposing thou art true,', \"like a deceived husband; so love's face\", \"may still seem love to me, though alter'd new;\", 'thy looks with me, thy heart in other place:', 'for there can live no hatred in thine eye,', 'therefore in that i cannot know thy change.', \"in many's looks the false heart's history\", 'is writ in moods and frowns and wrinkles strange,', 'but heaven in thy creation did decree', 'that in thy face sweet love should ever dwell;', \"whate'er thy thoughts or thy heart's workings be,\", 'thy looks should nothing thence but sweetness tell.', \"how like eve's apple doth thy beauty grow,\", 'if thy sweet virtue answer not thy show!', 'they that have power to hurt and will do none,', 'that do not do the thing they most do show,', 'who, moving others, are themselves as stone,', 'unmoved, cold, and to temptation slow,', \"they rightly do inherit heaven's graces\", \"and husband nature's riches from expense;\", 'they are the lords and owners of their faces,', 'others but stewards of their excellence.', \"the summer's flower is to the summer sweet,\", 'though to itself it only live and die,', 'but if that flower with base infection meet,', 'the basest weed outbraves his dignity:', 'for sweetest things turn sourest by their deeds;', 'lilies that fester smell far worse than weeds.', 'how sweet and lovely dost thou make the shame', 'which, like a canker in the fragrant rose,', 'doth spot the beauty of thy budding name!', 'o, in what sweets dost thou thy sins enclose!', 'that tongue that tells the story of thy days,', 'making lascivious comments on thy sport,', 'cannot dispraise but in a kind of praise;', 'naming thy name blesses an ill report.', 'o, what a mansion have those vices got', 'which for their habitation chose out thee,', \"where beauty's veil doth cover every blot,\", 'and all things turn to fair that eyes can see!', 'take heed, dear heart, of this large privilege;', 'the hardest knife ill-used doth lose his edge.', 'some say thy fault is youth, some wantonness;', 'some say thy grace is youth and gentle sport;', 'both grace and faults are loved of more and less;', 'thou makest faults graces that to thee resort.', 'as on the finger of a throned queen', \"the basest jewel will be well esteem'd,\", 'so are those errors that in thee are seen', \"to truths translated and for true things deem'd.\", 'how many lambs might the stern wolf betray,', 'if like a lamb he could his looks translate!', 'how many gazers mightst thou lead away,', 'if thou wouldst use the strength of all thy state!', 'but do not so; i love thee in such sort', 'as, thou being mine, mine is thy good report.', 'how like a winter hath my absence been', 'from thee, the pleasure of the fleeting year!', 'what freezings have i felt, what dark days seen!', \"what old december's bareness every where!\", \"and yet this time removed was summer's time,\", 'the teeming autumn, big with rich increase,', 'bearing the wanton burden of the prime,', \"like widow'd wombs after their lords' decease:\", \"yet this abundant issue seem'd to me\", \"but hope of orphans and unfather'd fruit;\", 'for summer and his pleasures wait on thee,', 'and, thou away, the very birds are mute;', \"or, if they sing, 'tis with so dull a cheer\", \"that leaves look pale, dreading the winter's near.\", 'from you have i been absent in the spring,', \"when proud-pied april dress'd in all his trim\", 'hath put a spirit of youth in every thing,', \"that heavy saturn laugh'd and leap'd with him.\", 'yet nor the lays of birds nor the sweet smell', 'of different flowers in odour and in hue', \"could make me any summer's story tell,\", 'or from their proud lap pluck them where they grew;', \"nor did i wonder at the lily's white,\", 'nor praise the deep vermilion in the rose;', 'they were but sweet, but figures of delight,', 'drawn after you, you pattern of all those.', \"yet seem'd it winter still, and, you away,\", 'as with your shadow i with these did play:', 'the forward violet thus did i chide:', 'sweet thief, whence didst thou steal thy sweet that smells,', \"if not from my love's breath? the purple pride\", 'which on thy soft cheek for complexion dwells', \"in my love's veins thou hast too grossly dyed.\", 'the lily i condemned for thy hand,', \"and buds of marjoram had stol'n thy hair:\", 'the roses fearfully on thorns did stand,', 'one blushing shame, another white despair;', \"a third, nor red nor white, had stol'n of both\", \"and to his robbery had annex'd thy breath;\", 'but, for his theft, in pride of all his growth', 'a vengeful canker eat him up to death.', 'more flowers i noted, yet i none could see', \"but sweet or colour it had stol'n from thee.\", \"where art thou, muse, that thou forget'st so long\", 'to speak of that which gives thee all thy might?', \"spend'st thou thy fury on some worthless song,\", 'darkening thy power to lend base subjects light?', 'return, forgetful muse, and straight redeem', 'in gentle numbers time so idly spent;', 'sing to the ear that doth thy lays esteem', 'and gives thy pen both skill and argument.', \"rise, resty muse, my love's sweet face survey,\", 'if time have any wrinkle graven there;', 'if any, be a satire to decay,', \"and make time's spoils despised every where.\", 'give my love fame faster than time wastes life;', \"so thou prevent'st his scythe and crooked knife.\", 'o truant muse, what shall be thy amends', 'for thy neglect of truth in beauty dyed?', 'both truth and beauty on my love depends;', 'so dost thou too, and therein dignified.', 'make answer, muse: wilt thou not haply say', \"'truth needs no colour, with his colour fix'd;\", \"beauty no pencil, beauty's truth to lay;\", \"but best is best, if never intermix'd?'\", 'because he needs no praise, wilt thou be dumb?', \"excuse not silence so; for't lies in thee\", 'to make him much outlive a gilded tomb,', 'and to be praised of ages yet to be.', 'then do thy office, muse; i teach thee how', 'to make him seem long hence as he shows now.', \"my love is strengthen'd, though more weak in seeming;\", 'i love not less, though less the show appear:', 'that love is merchandized whose rich esteeming', \"the owner's tongue doth publish every where.\", 'our love was new and then but in the spring', 'when i was wont to greet it with my lays,', \"as philomel in summer's front doth sing\", 'and stops her pipe in growth of riper days:', 'not that the summer is less pleasant now', 'than when her mournful hymns did hush the night,', 'but that wild music burthens every bough', 'and sweets grown common lose their dear delight.', 'therefore like her i sometime hold my tongue,', 'because i would not dull you with my song.', 'alack, what poverty my muse brings forth,', 'that having such a scope to show her pride,', 'the argument all bare is of more worth', 'than when it hath my added praise beside!', 'o, blame me not, if i no more can write!', 'look in your glass, and there appears a face', 'that over-goes my blunt invention quite,', 'dulling my lines and doing me disgrace.', 'were it not sinful then, striving to mend,', 'to mar the subject that before was well?', 'for to no other pass my verses tend', 'than of your graces and your gifts to tell;', 'and more, much more, than in my verse can sit', 'your own glass shows you when you look in it.', 'to me, fair friend, you never can be old,', 'for as you were when first your eye i eyed,', 'such seems your beauty still. three winters cold', \"have from the forests shook three summers' pride,\", \"three beauteous springs to yellow autumn turn'd\", 'in process of the seasons have i seen,', \"three april perfumes in three hot junes burn'd,\", 'since first i saw you fresh, which yet are green.', 'ah! yet doth beauty, like a dial-hand,', 'steal from his figure and no pace perceived;', 'so your sweet hue, which methinks still doth stand,', 'hath motion and mine eye may be deceived:', 'for fear of which, hear this, thou age unbred;', \"ere you were born was beauty's summer dead.\", \"let not my love be call'd idolatry,\", 'nor my beloved as an idol show,', 'since all alike my songs and praises be', 'to one, of one, still such, and ever so.', 'kind is my love to-day, to-morrow kind,', 'still constant in a wondrous excellence;', 'therefore my verse to constancy confined,', 'one thing expressing, leaves out difference.', \"'fair, kind and true' is all my argument,\", \"'fair, kind, and true' varying to other words;\", 'and in this change is my invention spent,', 'three themes in one, which wondrous scope affords.', \"'fair, kind, and true,' have often lived alone,\", 'which three till now never kept seat in one.', 'when in the chronicle of wasted time', 'i see descriptions of the fairest wights,', 'and beauty making beautiful old rhyme', 'in praise of ladies dead and lovely knights,', \"then, in the blazon of sweet beauty's best,\", 'of hand, of foot, of lip, of eye, of brow,', \"i see their antique pen would have express'd\", 'even such a beauty as you master now.', 'so all their praises are but prophecies', 'of this our time, all you prefiguring;', \"and, for they look'd but with divining eyes,\", 'they had not skill enough your worth to sing:', 'for we, which now behold these present days,', 'had eyes to wonder, but lack tongues to praise.', 'not mine own fears, nor the prophetic soul', 'of the wide world dreaming on things to come,', 'can yet the lease of my true love control,', 'supposed as forfeit to a confined doom.', 'the mortal moon hath her eclipse endured', 'and the sad augurs mock their own presage;', 'incertainties now crown themselves assured', 'and peace proclaims olives of endless age.', 'now with the drops of this most balmy time', 'my love looks fresh, and death to me subscribes,', \"since, spite of him, i'll live in this poor rhyme,\", \"while he insults o'er dull and speechless tribes:\", 'and thou in this shalt find thy monument,', \"when tyrants' crests and tombs of brass are spent.\", \"what's in the brain that ink may character\", 'which hath not figured to thee my true spirit?', \"what's new to speak, what new to register,\", 'that may express my love or thy dear merit?', 'nothing, sweet boy; but yet, like prayers divine,', \"i must, each day say o'er the very same,\", 'counting no old thing old, thou mine, i thine,', \"even as when first i hallow'd thy fair name.\", \"so that eternal love in love's fresh case\", 'weighs not the dust and injury of age,', 'nor gives to necessary wrinkles place,', 'but makes antiquity for aye his page,', 'finding the first conceit of love there bred', 'where time and outward form would show it dead.', 'o, never say that i was false of heart,', \"though absence seem'd my flame to qualify.\", 'as easy might i from myself depart', 'as from my soul, which in thy breast doth lie:', 'that is my home of love: if i have ranged,', 'like him that travels i return again,', 'just to the time, not with the time exchanged,', 'so that myself bring water for my stain.', \"never believe, though in my nature reign'd\", 'all frailties that besiege all kinds of blood,', \"that it could so preposterously be stain'd,\", 'to leave for nothing all thy sum of good;', 'for nothing this wide universe i call,', 'save thou, my rose; in it thou art my all.', \"alas, 'tis true i have gone here and there\", 'and made myself a motley to the view,', 'gored mine own thoughts, sold cheap what is most dear,', 'made old offences of affections new;', \"most true it is that i have look'd on truth\", 'askance and strangely: but, by all above,', 'these blenches gave my heart another youth,', 'and worse essays proved thee my best of love.', 'now all is done, have what shall have no end:', 'mine appetite i never more will grind', 'on newer proof, to try an older friend,', 'a god in love, to whom i am confined.', 'then give me welcome, next my heaven the best,', 'even to thy pure and most most loving breast.', 'o, for my sake do you with fortune chide,', 'the guilty goddess of my harmful deeds,', 'that did not better for my life provide', 'than public means which public manners breeds.', 'thence comes it that my name receives a brand,', 'and almost thence my nature is subdued', \"to what it works in, like the dyer's hand:\", \"pity me then and wish i were renew'd;\", 'whilst, like a willing patient, i will drink', \"potions of eisel 'gainst my strong infection\", 'no bitterness that i will bitter think,', 'nor double penance, to correct correction.', 'pity me then, dear friend, and i assure ye', 'even that your pity is enough to cure me.', 'your love and pity doth the impression fill', \"which vulgar scandal stamp'd upon my brow;\", 'for what care i who calls me well or ill,', \"so you o'er-green my bad, my good allow?\", 'you are my all the world, and i must strive', 'to know my shames and praises from your tongue:', 'none else to me, nor i to none alive,', \"that my steel'd sense or changes right or wrong.\", 'in so profound abysm i throw all care', \"of others' voices, that my adder's sense\", 'to critic and to flatterer stopped are.', 'mark how with my neglect i do dispense:', 'you are so strongly in my purpose bred', 'that all the world besides methinks are dead.', 'since i left you, mine eye is in my mind;', 'and that which governs me to go about', 'doth part his function and is partly blind,', 'seems seeing, but effectually is out;', 'for it no form delivers to the heart', 'of bird of flower, or shape, which it doth latch:', 'of his quick objects hath the mind no part,', 'nor his own vision holds what it doth catch:', 'for if it see the rudest or gentlest sight,', \"the most sweet favour or deformed'st creature,\", 'the mountain or the sea, the day or night,', 'the crow or dove, it shapes them to your feature:', 'incapable of more, replete with you,', 'my most true mind thus makes mine eye untrue.', \"or whether doth my mind, being crown'd with you,\", \"drink up the monarch's plague, this flattery?\", 'or whether shall i say, mine eye saith true,', 'and that your love taught it this alchemy,', 'to make of monsters and things indigest', 'such cherubins as your sweet self resemble,', 'creating every bad a perfect best,', 'as fast as objects to his beams assemble?', \"o,'tis the first; 'tis flattery in my seeing,\", 'and my great mind most kingly drinks it up:', \"mine eye well knows what with his gust is 'greeing,\", 'and to his palate doth prepare the cup:', \"if it be poison'd, 'tis the lesser sin\", 'that mine eye loves it and doth first begin.', 'those lines that i before have writ do lie,', 'even those that said i could not love you dearer:', 'yet then my judgment knew no reason why', 'my most full flame should afterwards burn clearer.', \"but reckoning time, whose million'd accidents\", \"creep in 'twixt vows and change decrees of kings,\", \"tan sacred beauty, blunt the sharp'st intents,\", 'divert strong minds to the course of altering things;', \"alas, why, fearing of time's tyranny,\", \"might i not then say 'now i love you best,'\", \"when i was certain o'er incertainty,\", 'crowning the present, doubting of the rest?', 'love is a babe; then might i not say so,', 'to give full growth to that which still doth grow?', 'let me not to the marriage of true minds', 'admit impediments. love is not love', 'which alters when it alteration finds,', 'or bends with the remover to remove:', 'o no! it is an ever-fixed mark', 'that looks on tempests and is never shaken;', 'it is the star to every wandering bark,', \"whose worth's unknown, although his height be taken.\", \"love's not time's fool, though rosy lips and cheeks\", \"within his bending sickle's compass come:\", 'love alters not with his brief hours and weeks,', 'but bears it out even to the edge of doom.', 'if this be error and upon me proved,', 'i never writ, nor no man ever loved.', 'accuse me thus: that i have scanted all', 'wherein i should your great deserts repay,', 'forgot upon your dearest love to call,', 'whereto all bonds do tie me day by day;', 'that i have frequent been with unknown minds', 'and given to time your own dear-purchased right', 'that i have hoisted sail to all the winds', 'which should transport me farthest from your sight.', 'book both my wilfulness and errors down', 'and on just proof surmise accumulate;', 'bring me within the level of your frown,', \"but shoot not at me in your waken'd hate;\", 'since my appeal says i did strive to prove', 'the constancy and virtue of your love.', 'like as, to make our appetites more keen,', 'with eager compounds we our palate urge,', 'as, to prevent our maladies unseen,', 'we sicken to shun sickness when we purge,', \"even so, being full of your ne'er-cloying sweetness,\", 'to bitter sauces did i frame my feeding', 'and, sick of welfare, found a kind of meetness', 'to be diseased ere that there was true needing.', 'thus policy in love, to anticipate', 'the ills that were not, grew to faults assured', 'and brought to medicine a healthful state', 'which, rank of goodness, would by ill be cured:', 'but thence i learn, and find the lesson true,', 'drugs poison him that so fell sick of you.', 'what potions have i drunk of siren tears,', \"distill'd from limbecks foul as hell within,\", 'applying fears to hopes and hopes to fears,', 'still losing when i saw myself to win!', 'what wretched errors hath my heart committed,', 'whilst it hath thought itself so blessed never!', 'how have mine eyes out of their spheres been fitted', 'in the distraction of this madding fever!', 'o benefit of ill! now i find true', 'that better is by evil still made better;', \"and ruin'd love, when it is built anew,\", 'grows fairer than at first, more strong, far greater.', 'so i return rebuked to my content', 'and gain by ill thrice more than i have spent.', 'that you were once unkind befriends me now,', 'and for that sorrow which i then did feel', 'needs must i under my transgression bow,', \"unless my nerves were brass or hammer'd steel.\", 'for if you were by my unkindness shaken', \"as i by yours, you've pass'd a hell of time,\", 'and i, a tyrant, have no leisure taken', 'to weigh how once i suffered in your crime.', \"o, that our night of woe might have remember'd\", 'my deepest sense, how hard true sorrow hits,', \"and soon to you, as you to me, then tender'd\", 'the humble salve which wounded bosoms fits!', 'but that your trespass now becomes a fee;', 'mine ransoms yours, and yours must ransom me.', \"'tis better to be vile than vile esteem'd,\", 'when not to be receives reproach of being,', \"and the just pleasure lost which is so deem'd\", \"not by our feeling but by others' seeing:\", 'for why should others false adulterate eyes', 'give salutation to my sportive blood?', 'or on my frailties why are frailer spies,', 'which in their wills count bad what i think good?', 'no, i am that i am, and they that level', 'at my abuses reckon up their own:', 'i may be straight, though they themselves be bevel;', 'by their rank thoughts my deeds must not be shown;', 'unless this general evil they maintain,', 'all men are bad, and in their badness reign.', 'thy gift, thy tables, are within my brain', \"full character'd with lasting memory,\", 'which shall above that idle rank remain', 'beyond all date, even to eternity;', 'or at the least, so long as brain and heart', 'have faculty by nature to subsist;', 'till each to razed oblivion yield his part', \"of thee, thy record never can be miss'd.\", 'that poor retention could not so much hold,', 'nor need i tallies thy dear love to score;', 'therefore to give them from me was i bold,', 'to trust those tables that receive thee more:', 'to keep an adjunct to remember thee', 'were to import forgetfulness in me.', 'no, time, thou shalt not boast that i do change:', 'thy pyramids built up with newer might', 'to me are nothing novel, nothing strange;', 'they are but dressings of a former sight.', 'our dates are brief, and therefore we admire', 'what thou dost foist upon us that is old,', 'and rather make them born to our desire', 'than think that we before have heard them told.', 'thy registers and thee i both defy,', 'not wondering at the present nor the past,', 'for thy records and what we see doth lie,', 'made more or less by thy continual haste.', 'this i do vow and this shall ever be;', 'i will be true, despite thy scythe and thee.', 'if my dear love were but the child of state,', \"it might for fortune's bastard be unfather'd'\", \"as subject to time's love or to time's hate,\", \"weeds among weeds, or flowers with flowers gather'd.\", 'no, it was builded far from accident;', 'it suffers not in smiling pomp, nor falls', 'under the blow of thralled discontent,', 'whereto the inviting time our fashion calls:', 'it fears not policy, that heretic,', \"which works on leases of short-number'd hours,\", 'but all alone stands hugely politic,', 'that it nor grows with heat nor drowns with showers.', 'to this i witness call the fools of time,', 'which die for goodness, who have lived for crime.', \"were 't aught to me i bore the canopy,\", 'with my extern the outward honouring,', 'or laid great bases for eternity,', 'which prove more short than waste or ruining?', 'have i not seen dwellers on form and favour', 'lose all, and more, by paying too much rent,', 'for compound sweet forgoing simple savour,', 'pitiful thrivers, in their gazing spent?', 'no, let me be obsequious in thy heart,', 'and take thou my oblation, poor but free,', \"which is not mix'd with seconds, knows no art,\", 'but mutual render, only me for thee.', \"hence, thou suborn'd informer! a true soul\", \"when most impeach'd stands least in thy control.\", 'o thou, my lovely boy, who in thy power', \"dost hold time's fickle glass, his sickle, hour;\", \"who hast by waning grown, and therein show'st\", \"thy lovers withering as thy sweet self grow'st;\", 'if nature, sovereign mistress over wrack,', 'as thou goest onwards, still will pluck thee back,', 'she keeps thee to this purpose, that her skill', 'may time disgrace and wretched minutes kill.', 'yet fear her, o thou minion of her pleasure!', 'she may detain, but not still keep, her treasure:', \"her audit, though delay'd, answer'd must be,\", 'and her quietus is to render thee.', 'in the old age black was not counted fair,', \"or if it were, it bore not beauty's name;\", \"but now is black beauty's successive heir,\", \"and beauty slander'd with a bastard shame:\", \"for since each hand hath put on nature's power,\", \"fairing the foul with art's false borrow'd face,\", 'sweet beauty hath no name, no holy bower,', 'but is profaned, if not lives in disgrace.', \"therefore my mistress' brows are raven black,\", 'her eyes so suited, and they mourners seem', 'at such who, not born fair, no beauty lack,', 'slandering creation with a false esteem:', 'yet so they mourn, becoming of their woe,', 'that every tongue says beauty should look so.', \"how oft, when thou, my music, music play'st,\", 'upon that blessed wood whose motion sounds', \"with thy sweet fingers, when thou gently sway'st\", 'the wiry concord that mine ear confounds,', 'do i envy those jacks that nimble leap', 'to kiss the tender inward of thy hand,', 'whilst my poor lips, which should that harvest reap,', \"at the wood's boldness by thee blushing stand!\", 'to be so tickled, they would change their state', 'and situation with those dancing chips,', \"o'er whom thy fingers walk with gentle gait,\", 'making dead wood more blest than living lips.', 'since saucy jacks so happy are in this,', 'give them thy fingers, me thy lips to kiss.', 'the expense of spirit in a waste of shame', 'is lust in action; and till action, lust', 'is perjured, murderous, bloody, full of blame,', 'savage, extreme, rude, cruel, not to trust,', \"enjoy'd no sooner but despised straight,\", 'past reason hunted, and no sooner had', \"past reason hated, as a swallow'd bait\", 'on purpose laid to make the taker mad;', 'mad in pursuit and in possession so;', 'had, having, and in quest to have, extreme;', 'a bliss in proof, and proved, a very woe;', 'before, a joy proposed; behind, a dream.', 'all this the world well knows; yet none knows well', 'to shun the heaven that leads men to this hell.', \"my mistress' eyes are nothing like the sun;\", \"coral is far more red than her lips' red;\", 'if snow be white, why then her breasts are dun;', 'if hairs be wires, black wires grow on her head.', \"i have seen roses damask'd, red and white,\", 'but no such roses see i in her cheeks;', 'and in some perfumes is there more delight', 'than in the breath that from my mistress reeks.', 'i love to hear her speak, yet well i know', 'that music hath a far more pleasing sound;', 'i grant i never saw a goddess go;', 'my mistress, when she walks, treads on the ground:', 'and yet, by heaven, i think my love as rare', 'as any she belied with false compare.', 'thou art as tyrannous, so as thou art,', 'as those whose beauties proudly make them cruel;', \"for well thou know'st to my dear doting heart\", 'thou art the fairest and most precious jewel.', 'yet, in good faith, some say that thee behold', 'thy face hath not the power to make love groan:', 'to say they err i dare not be so bold,', 'although i swear it to myself alone.', 'and, to be sure that is not false i swear,', 'a thousand groans, but thinking on thy face,', \"one on another's neck, do witness bear\", \"thy black is fairest in my judgment's place.\", 'in nothing art thou black save in thy deeds,', 'and thence this slander, as i think, proceeds.', 'thine eyes i love, and they, as pitying me,', 'knowing thy heart torments me with disdain,', 'have put on black and loving mourners be,', 'looking with pretty ruth upon my pain.', 'and truly not the morning sun of heaven', 'better becomes the grey cheeks of the east,', 'nor that full star that ushers in the even', 'doth half that glory to the sober west,', 'as those two mourning eyes become thy face:', 'o, let it then as well beseem thy heart', 'to mourn for me, since mourning doth thee grace,', 'and suit thy pity like in every part.', 'then will i swear beauty herself is black', 'and all they foul that thy complexion lack.', 'beshrew that heart that makes my heart to groan', 'for that deep wound it gives my friend and me!', \"is't not enough to torture me alone,\", \"but slave to slavery my sweet'st friend must be?\", 'me from myself thy cruel eye hath taken,', \"and my next self thou harder hast engross'd:\", 'of him, myself, and thee, i am forsaken;', \"a torment thrice threefold thus to be cross'd.\", \"prison my heart in thy steel bosom's ward,\", \"but then my friend's heart let my poor heart bail;\", \"whoe'er keeps me, let my heart be his guard;\", 'thou canst not then use rigor in my gaol:', 'and yet thou wilt; for i, being pent in thee,', 'perforce am thine, and all that is in me.', \"so, now i have confess'd that he is thine,\", 'and i myself am mortgaged to thy will,', \"myself i'll forfeit, so that other mine\", 'thou wilt restore, to be my comfort still:', 'but thou wilt not, nor he will not be free,', 'for thou art covetous and he is kind;', \"he learn'd but surety-like to write for me\", 'under that bond that him as fast doth bind.', 'the statute of thy beauty thou wilt take,', \"thou usurer, that put'st forth all to use,\", 'and sue a friend came debtor for my sake;', 'so him i lose through my unkind abuse.', 'him have i lost; thou hast both him and me:', 'he pays the whole, and yet am i not free.', \"whoever hath her wish, thou hast thy 'will,'\", \"and 'will' to boot, and 'will' in overplus;\", 'more than enough am i that vex thee still,', 'to thy sweet will making addition thus.', 'wilt thou, whose will is large and spacious,', 'not once vouchsafe to hide my will in thine?', 'shall will in others seem right gracious,', 'and in my will no fair acceptance shine?', 'the sea all water, yet receives rain still', 'and in abundance addeth to his store;', \"so thou, being rich in 'will,' add to thy 'will'\", \"one will of mine, to make thy large 'will' more.\", 'let no unkind, no fair beseechers kill;', \"think all but one, and me in that one 'will.'\", 'if thy soul check thee that i come so near,', \"swear to thy blind soul that i was thy 'will,'\", 'and will, thy soul knows, is admitted there;', 'thus far for love my love-suit, sweet, fulfil.', \"'will' will fulfil the treasure of thy love,\", 'ay, fill it full with wills, and my will one.', 'in things of great receipt with ease we prove', \"among a number one is reckon'd none:\", 'then in the number let me pass untold,', \"though in thy stores' account i one must be;\", 'for nothing hold me, so it please thee hold', 'that nothing me, a something sweet to thee:', 'make but my name thy love, and love that still,', \"and then thou lovest me, for my name is 'will.'\", 'thou blind fool, love, what dost thou to mine eyes,', 'that they behold, and see not what they see?', 'they know what beauty is, see where it lies,', 'yet what the best is take the worst to be.', 'if eyes corrupt by over-partial looks', \"be anchor'd in the bay where all men ride,\", \"why of eyes' falsehood hast thou forged hooks,\", 'whereto the judgment of my heart is tied?', 'why should my heart think that a several plot', \"which my heart knows the wide world's common place?\", 'or mine eyes seeing this, say this is not,', 'to put fair truth upon so foul a face?', 'in things right true my heart and eyes have erred,', \"and to this false plague are they now transferr'd.\", 'when my love swears that she is made of truth', 'i do believe her, though i know she lies,', \"that she might think me some untutor'd youth,\", \"unlearned in the world's false subtleties.\", 'thus vainly thinking that she thinks me young,', 'although she knows my days are past the best,', 'simply i credit her false speaking tongue:', \"on both sides thus is simple truth suppress'd.\", 'but wherefore says she not she is unjust?', 'and wherefore say not i that i am old?', \"o, love's best habit is in seeming trust,\", 'and age in love loves not to have years told:', 'therefore i lie with her and she with me,', \"and in our faults by lies we flatter'd be.\", 'o, call not me to justify the wrong', 'that thy unkindness lays upon my heart;', 'wound me not with thine eye but with thy tongue;', 'use power with power and slay me not by art.', 'tell me thou lovest elsewhere, but in my sight,', 'dear heart, forbear to glance thine eye aside:', \"what need'st thou wound with cunning when thy might\", \"is more than my o'er-press'd defense can bide?\", 'let me excuse thee: ah! my love well knows', 'her pretty looks have been mine enemies,', 'and therefore from my face she turns my foes,', 'that they elsewhere might dart their injuries:', 'yet do not so; but since i am near slain,', 'kill me outright with looks and rid my pain.', 'be wise as thou art cruel; do not press', 'my tongue-tied patience with too much disdain;', 'lest sorrow lend me words and words express', 'the manner of my pity-wanting pain.', 'if i might teach thee wit, better it were,', 'though not to love, yet, love, to tell me so;', 'as testy sick men, when their deaths be near,', 'no news but health from their physicians know;', 'for if i should despair, i should grow mad,', 'and in my madness might speak ill of thee:', 'now this ill-wresting world is grown so bad,', 'mad slanderers by mad ears believed be,', 'that i may not be so, nor thou belied,', 'bear thine eyes straight, though thy proud heart go wide.', 'in faith, i do not love thee with mine eyes,', 'for they in thee a thousand errors note;', \"but 'tis my heart that loves what they despise,\", 'who in despite of view is pleased to dote;', \"nor are mine ears with thy tongue's tune delighted,\", 'nor tender feeling, to base touches prone,', 'nor taste, nor smell, desire to be invited', 'to any sensual feast with thee alone:', 'but my five wits nor my five senses can', 'dissuade one foolish heart from serving thee,', \"who leaves unsway'd the likeness of a man,\", 'thy proud hearts slave and vassal wretch to be:', 'only my plague thus far i count my gain,', 'that she that makes me sin awards me pain.', 'love is my sin and thy dear virtue hate,', 'hate of my sin, grounded on sinful loving:', 'o, but with mine compare thou thine own state,', 'and thou shalt find it merits not reproving;', 'or, if it do, not from those lips of thine,', 'that have profaned their scarlet ornaments', \"and seal'd false bonds of love as oft as mine,\", \"robb'd others' beds' revenues of their rents.\", 'be it lawful i love thee, as thou lovest those', 'whom thine eyes woo as mine importune thee:', 'root pity in thy heart, that when it grows', 'thy pity may deserve to pitied be.', 'if thou dost seek to have what thou dost hide,', 'by self-example mayst thou be denied!', 'lo! as a careful housewife runs to catch', \"one of her feather'd creatures broke away,\", 'sets down her babe and makes an swift dispatch', 'in pursuit of the thing she would have stay,', 'whilst her neglected child holds her in chase,', 'cries to catch her whose busy care is bent', 'to follow that which flies before her face,', \"not prizing her poor infant's discontent;\", \"so runn'st thou after that which flies from thee,\", 'whilst i thy babe chase thee afar behind;', 'but if thou catch thy hope, turn back to me,', \"and play the mother's part, kiss me, be kind:\", \"so will i pray that thou mayst have thy 'will,'\", 'if thou turn back, and my loud crying still.', 'two loves i have of comfort and despair,', 'which like two spirits do suggest me still:', 'the better angel is a man right fair,', \"the worser spirit a woman colour'd ill.\", 'to win me soon to hell, my female evil', 'tempteth my better angel from my side,', 'and would corrupt my saint to be a devil,', 'wooing his purity with her foul pride.', \"and whether that my angel be turn'd fiend\", 'suspect i may, but not directly tell;', 'but being both from me, both to each friend,', \"i guess one angel in another's hell:\", \"yet this shall i ne'er know, but live in doubt,\", 'till my bad angel fire my good one out.', \"those lips that love's own hand did make\", \"breathed forth the sound that said 'i hate'\", \"to me that languish'd for her sake;\", 'but when she saw my woeful state,', 'straight in her heart did mercy come,', 'chiding that tongue that ever sweet', 'was used in giving gentle doom,', 'and taught it thus anew to greet:', \"'i hate' she alter'd with an end,\", \"that follow'd it as gentle day\", 'doth follow night, who like a fiend', 'from heaven to hell is flown away;', \"'i hate' from hate away she threw,\", \"and saved my life, saying 'not you.'\", 'poor soul, the centre of my sinful earth,', 'these rebel powers that thee array;', 'why dost thou pine within and suffer dearth,', 'painting thy outward walls so costly gay?', 'why so large cost, having so short a lease,', 'dost thou upon thy fading mansion spend?', 'shall worms, inheritors of this excess,', \"eat up thy charge? is this thy body's end?\", \"then soul, live thou upon thy servant's loss,\", 'and let that pine to aggravate thy store;', 'buy terms divine in selling hours of dross;', 'within be fed, without be rich no more:', 'so shalt thou feed on death, that feeds on men,', \"and death once dead, there's no more dying then.\", 'my love is as a fever, longing still', 'for that which longer nurseth the disease,', 'feeding on that which doth preserve the ill,', 'the uncertain sickly appetite to please.', 'my reason, the physician to my love,', 'angry that his prescriptions are not kept,', 'hath left me, and i desperate now approve', 'desire is death, which physic did except.', 'past cure i am, now reason is past care,', 'and frantic-mad with evermore unrest;', \"my thoughts and my discourse as madmen's are,\", \"at random from the truth vainly express'd;\", 'for i have sworn thee fair and thought thee bright,', 'who art as black as hell, as dark as night.', 'o me, what eyes hath love put in my head,', 'which have no correspondence with true sight!', 'or, if they have, where is my judgment fled,', 'that censures falsely what they see aright?', 'if that be fair whereon my false eyes dote,', 'what means the world to say it is not so?', 'if it be not, then love doth well denote', \"love's eye is not so true as all men's 'no.'\", \"how can it? o, how can love's eye be true,\", \"that is so vex'd with watching and with tears?\", 'no marvel then, though i mistake my view;', 'the sun itself sees not till heaven clears.', \"o cunning love! with tears thou keep'st me blind,\", 'lest eyes well-seeing thy foul faults should find.', 'canst thou, o cruel! say i love thee not,', 'when i against myself with thee partake?', 'do i not think on thee, when i forgot', 'am of myself, all tyrant, for thy sake?', 'who hateth thee that i do call my friend?', \"on whom frown'st thou that i do fawn upon?\", \"nay, if thou lour'st on me, do i not spend\", 'revenge upon myself with present moan?', 'what merit do i in myself respect,', 'that is so proud thy service to despise,', 'when all my best doth worship thy defect,', 'commanded by the motion of thine eyes?', 'but, love, hate on, for now i know thy mind;', 'those that can see thou lovest, and i am blind.', 'o, from what power hast thou this powerful might', 'with insufficiency my heart to sway?', 'to make me give the lie to my true sight,', 'and swear that brightness doth not grace the day?', 'whence hast thou this becoming of things ill,', 'that in the very refuse of thy deeds', 'there is such strength and warrantize of skill', 'that, in my mind, thy worst all best exceeds?', 'who taught thee how to make me love thee more', 'the more i hear and see just cause of hate?', 'o, though i love what others do abhor,', 'with others thou shouldst not abhor my state:', 'if thy unworthiness raised love in me,', 'more worthy i to be beloved of thee.', 'love is too young to know what conscience is;', 'yet who knows not conscience is born of love?', 'then, gentle cheater, urge not my amiss,', 'lest guilty of my faults thy sweet self prove:', 'for, thou betraying me, i do betray', \"my nobler part to my gross body's treason;\", 'my soul doth tell my body that he may', 'triumph in love; flesh stays no father reason;', 'but, rising at thy name, doth point out thee', 'as his triumphant prize. proud of this pride,', 'he is contented thy poor drudge to be,', 'to stand in thy affairs, fall by thy side.', 'no want of conscience hold it that i call', 'her love for whose dear love i rise and fall.', \"in loving thee thou know'st i am forsworn,\", 'but thou art twice forsworn, to me love swearing,', 'in act thy bed-vow broke and new faith torn,', 'in vowing new hate after new love bearing.', \"but why of two oaths' breach do i accuse thee,\", 'when i break twenty? i am perjured most;', 'for all my vows are oaths but to misuse thee', 'and all my honest faith in thee is lost,', 'for i have sworn deep oaths of thy deep kindness,', 'oaths of thy love, thy truth, thy constancy,', 'and, to enlighten thee, gave eyes to blindness,', 'or made them swear against the thing they see;', 'for i have sworn thee fair; more perjured eye,', 'to swear against the truth so foul a lie!', 'cupid laid by his brand, and fell asleep:', \"a maid of dian's this advantage found,\", 'and his love-kindling fire did quickly steep', 'in a cold valley-fountain of that ground;', \"which borrow'd from this holy fire of love\", 'a dateless lively heat, still to endure,', 'and grew a seething bath, which yet men prove', 'against strange maladies a sovereign cure.', \"but at my mistress' eye love's brand new-fired,\", 'the boy for trial needs would touch my breast;', 'i, sick withal, the help of bath desired,', \"and thither hied, a sad distemper'd guest,\", 'but found no cure: the bath for my help lies', \"where cupid got new fire--my mistress' eyes.\", 'the little love-god lying once asleep', 'laid by his side his heart-inflaming brand,', \"whilst many nymphs that vow'd chaste life to keep\", 'came tripping by; but in her maiden hand', 'the fairest votary took up that fire', \"which many legions of true hearts had warm'd;\", 'and so the general of hot desire', \"was sleeping by a virgin hand disarm'd.\", 'this brand she quenched in a cool well by,', \"which from love's fire took heat perpetual,\", 'growing a bath and healthful remedy', \"for men diseased; but i, my mistress' thrall,\", 'came there for cure, and this by that i prove,', \"love's fire heats water, water cools not love.\", '']\n",
            "n_grams of input_sequences have length: 15462\n",
            "maximum length of sequences is: 11\n"
          ]
        }
      ],
      "source": [
        "# Apply the n_gram_seqs transformation to the whole corpus\n",
        "input_sequences = n_gram_seqs(corpus, tokenizer)\n",
        "\n",
        "# Save max length \n",
        "max_sequence_len = max([len(x) for x in input_sequences])\n",
        "\n",
        "print(f\"n_grams of input_sequences have length: {len(input_sequences)}\")\n",
        "print(f\"maximum length of sequences is: {max_sequence_len}\")"
      ]
    },
    {
      "cell_type": "markdown",
      "metadata": {
        "id": "2OciMdmEdE9L"
      },
      "source": [
        "**Expected Output:**\n",
        "\n",
        "```\n",
        "n_grams of input_sequences have length: 15462\n",
        "maximum length of sequences is: 11\n",
        "```"
      ]
    },
    {
      "cell_type": "markdown",
      "metadata": {
        "id": "zHY7HroqWq12"
      },
      "source": [
        "## Add padding to the sequences\n",
        "\n",
        "Now code the `pad_seqs` function which will pad any given sequences to the desired maximum length. Notice that this function receives a list of sequences and should return a numpy array with the padded sequences: "
      ]
    },
    {
      "cell_type": "code",
      "execution_count": null,
      "metadata": {
        "cellView": "code",
        "id": "WW1-qAZaWOhC",
        "tags": [
          "graded"
        ]
      },
      "outputs": [],
      "source": [
        "# GRADED FUNCTION: pad_seqs\n",
        "def pad_seqs(input_sequences, maxlen):\n",
        "    \"\"\"\n",
        "    Pads tokenized sequences to the same length\n",
        "    \n",
        "    Args:\n",
        "        input_sequences (list of int): tokenized sequences to pad\n",
        "        maxlen (int): maximum length of the token sequences\n",
        "    \n",
        "    Returns:\n",
        "        padded_sequences (array of int): tokenized sequences padded to the same length\n",
        "    \"\"\"\n",
        "    ### START CODE HERE\n",
        "    padded_sequences = pad_sequences(input_sequences, maxlen=maxlen)\n",
        "    \n",
        "    return padded_sequences\n",
        "    ### END CODE HERE"
      ]
    },
    {
      "cell_type": "code",
      "execution_count": null,
      "metadata": {
        "id": "IqVQ0pb3YHLr",
        "tags": [
          "graded"
        ],
        "colab": {
          "base_uri": "https://localhost:8080/"
        },
        "outputId": "1e75bd79-98bf-4fd6-f7a1-b728a3461ba0"
      },
      "outputs": [
        {
          "output_type": "execute_result",
          "data": {
            "text/plain": [
              "array([[  0,   0,   0,  34, 417],\n",
              "       [  0,   0,  34, 417, 877],\n",
              "       [  0,  34, 417, 877, 166],\n",
              "       [ 34, 417, 877, 166, 213],\n",
              "       [417, 877, 166, 213, 517]], dtype=int32)"
            ]
          },
          "metadata": {},
          "execution_count": 15
        }
      ],
      "source": [
        "# Test your function with the n_grams_seq of the first example\n",
        "first_padded_seq = pad_seqs(first_example_sequence, len(first_example_sequence))\n",
        "first_padded_seq"
      ]
    },
    {
      "cell_type": "markdown",
      "metadata": {
        "id": "Re_avDznXRnU"
      },
      "source": [
        "**Expected Output:**\n",
        "\n",
        "```\n",
        "array([[  0,   0,   0,  34, 417],\n",
        "       [  0,   0,  34, 417, 877],\n",
        "       [  0,  34, 417, 877, 166],\n",
        "       [ 34, 417, 877, 166, 213],\n",
        "       [417, 877, 166, 213, 517]], dtype=int32)\n",
        "```"
      ]
    },
    {
      "cell_type": "code",
      "execution_count": null,
      "metadata": {
        "id": "j56_UCOBYzZt",
        "tags": [
          "graded"
        ],
        "colab": {
          "base_uri": "https://localhost:8080/"
        },
        "outputId": "ab429457-ade2-4f1f-cf6a-860bdf54abdb"
      },
      "outputs": [
        {
          "output_type": "execute_result",
          "data": {
            "text/plain": [
              "array([[  0,   0,   0,   0,   0,   0,   8, 878],\n",
              "       [  0,   0,   0,   0,   0,   8, 878, 134],\n",
              "       [  0,   0,   0,   0,   8, 878, 134, 351],\n",
              "       [  0,   0,   0,   8, 878, 134, 351, 102],\n",
              "       [  0,   0,   8, 878, 134, 351, 102, 156],\n",
              "       [  0,   8, 878, 134, 351, 102, 156, 199],\n",
              "       [  0,   0,   0,   0,   0,   0,  16,  22],\n",
              "       [  0,   0,   0,   0,   0,  16,  22,   2],\n",
              "       [  0,   0,   0,   0,  16,  22,   2, 879],\n",
              "       [  0,   0,   0,  16,  22,   2, 879,  61],\n",
              "       [  0,   0,  16,  22,   2, 879,  61,  30],\n",
              "       [  0,  16,  22,   2, 879,  61,  30,  48],\n",
              "       [ 16,  22,   2, 879,  61,  30,  48, 634],\n",
              "       [  0,   0,   0,   0,   0,   0,  25, 311],\n",
              "       [  0,   0,   0,   0,   0,  25, 311, 635],\n",
              "       [  0,   0,   0,   0,  25, 311, 635, 102],\n",
              "       [  0,   0,   0,  25, 311, 635, 102, 200],\n",
              "       [  0,   0,  25, 311, 635, 102, 200,  25],\n",
              "       [  0,  25, 311, 635, 102, 200,  25, 278]], dtype=int32)"
            ]
          },
          "metadata": {},
          "execution_count": 16
        }
      ],
      "source": [
        "# Test your function with the n_grams_seq of the next 3 examples\n",
        "next_3_padded_seq = pad_seqs(next_3_examples_sequence, max([len(s) for s in next_3_examples_sequence]))\n",
        "next_3_padded_seq"
      ]
    },
    {
      "cell_type": "markdown",
      "metadata": {
        "id": "3rmcDluOXcIU"
      },
      "source": [
        "**Expected Output:**\n",
        "\n",
        "```\n",
        "array([[  0,   0,   0,   0,   0,   0,   8, 878],\n",
        "       [  0,   0,   0,   0,   0,   8, 878, 134],\n",
        "       [  0,   0,   0,   0,   8, 878, 134, 351],\n",
        "       [  0,   0,   0,   8, 878, 134, 351, 102],\n",
        "       [  0,   0,   8, 878, 134, 351, 102, 156],\n",
        "       [  0,   8, 878, 134, 351, 102, 156, 199],\n",
        "       [  0,   0,   0,   0,   0,   0,  16,  22],\n",
        "       [  0,   0,   0,   0,   0,  16,  22,   2],\n",
        "       [  0,   0,   0,   0,  16,  22,   2, 879],\n",
        "       [  0,   0,   0,  16,  22,   2, 879,  61],\n",
        "       [  0,   0,  16,  22,   2, 879,  61,  30],\n",
        "       [  0,  16,  22,   2, 879,  61,  30,  48],\n",
        "       [ 16,  22,   2, 879,  61,  30,  48, 634],\n",
        "       [  0,   0,   0,   0,   0,   0,  25, 311],\n",
        "       [  0,   0,   0,   0,   0,  25, 311, 635],\n",
        "       [  0,   0,   0,   0,  25, 311, 635, 102],\n",
        "       [  0,   0,   0,  25, 311, 635, 102, 200],\n",
        "       [  0,   0,  25, 311, 635, 102, 200,  25],\n",
        "       [  0,  25, 311, 635, 102, 200,  25, 278]], dtype=int32)\n",
        "```"
      ]
    },
    {
      "cell_type": "code",
      "execution_count": null,
      "metadata": {
        "id": "rgK-Q_micEYA",
        "tags": [
          "graded"
        ],
        "colab": {
          "base_uri": "https://localhost:8080/"
        },
        "outputId": "eb6326bf-7023-474b-a3df-13364bd0efcd"
      },
      "outputs": [
        {
          "output_type": "stream",
          "name": "stdout",
          "text": [
            "padded corpus has shape: (15462, 11)\n"
          ]
        }
      ],
      "source": [
        "# Pad the whole corpus\n",
        "input_sequences = pad_seqs(input_sequences, max_sequence_len)\n",
        "\n",
        "print(f\"padded corpus has shape: {input_sequences.shape}\")"
      ]
    },
    {
      "cell_type": "markdown",
      "metadata": {
        "id": "59RD1YYNc7CW"
      },
      "source": [
        "**Expected Output:**\n",
        "\n",
        "```\n",
        "padded corpus has shape: (15462, 11)\n",
        "```"
      ]
    },
    {
      "cell_type": "markdown",
      "metadata": {
        "id": "ZbOidyPrXxf7"
      },
      "source": [
        "## Split the data into features and labels\n",
        "\n",
        "Before feeding the data into the neural network you should split it into features and labels. In this case the features will be the padded n_gram sequences with the last word removed from them and the labels will be the removed word.\n",
        "\n",
        "Complete the `features_and_labels` function below. This function expects the padded n_gram sequences as input and should return a tuple containing the features and the one hot encoded labels.\n",
        "\n",
        "Notice that the function also receives the total of words in the corpus, this parameter will be very important when one hot enconding the labels since every word in the corpus will be a label at least once. If you need a refresh of how the `to_categorical` function works take a look at the [docs](https://www.tensorflow.org/api_docs/python/tf/keras/utils/to_categorical)"
      ]
    },
    {
      "cell_type": "code",
      "execution_count": null,
      "metadata": {
        "cellView": "code",
        "id": "9WGGbYdnZdmJ",
        "tags": [
          "graded"
        ]
      },
      "outputs": [],
      "source": [
        "# GRADED FUNCTION: features_and_labels\n",
        "def features_and_labels(input_sequences, total_words):\n",
        "    \"\"\"\n",
        "    Generates features and labels from n-grams\n",
        "    \n",
        "    Args:\n",
        "        input_sequences (list of int): sequences to split features and labels from\n",
        "        total_words (int): vocabulary size\n",
        "    \n",
        "    Returns:\n",
        "        features, one_hot_labels (array of int, array of int): arrays of features and one-hot encoded labels\n",
        "    \"\"\"\n",
        "    ### START CODE HERE\n",
        "    list_features = []\n",
        "    labels = []\n",
        "\n",
        "    for seq in input_sequences:\n",
        "        list_features.append(seq[:-1])\n",
        "        labels.append(seq[:-1][0])\n",
        "\n",
        "    features = np.array(list_features)\n",
        "    one_hot_labels = to_categorical(labels, num_classes=total_words)\n",
        "\n",
        "    ### END CODE HERE\n",
        "\n",
        "    return features, one_hot_labels"
      ]
    },
    {
      "cell_type": "code",
      "execution_count": null,
      "metadata": {
        "id": "23DolaBRaIAZ",
        "tags": [
          "graded"
        ],
        "colab": {
          "base_uri": "https://localhost:8080/"
        },
        "outputId": "844b2559-2956-4dfa-d868-76cf96060280"
      },
      "outputs": [
        {
          "output_type": "stream",
          "name": "stdout",
          "text": [
            "labels have shape: (5, 3211)\n",
            "\n",
            "features look like this:\n",
            "\n"
          ]
        },
        {
          "output_type": "execute_result",
          "data": {
            "text/plain": [
              "array([[  0,   0,   0,  34],\n",
              "       [  0,   0,  34, 417],\n",
              "       [  0,  34, 417, 877],\n",
              "       [ 34, 417, 877, 166],\n",
              "       [417, 877, 166, 213]], dtype=int32)"
            ]
          },
          "metadata": {},
          "execution_count": 40
        }
      ],
      "source": [
        "# Test your function with the padded n_grams_seq of the first example\n",
        "first_features, first_labels = features_and_labels(first_padded_seq, total_words)\n",
        "\n",
        "print(f\"labels have shape: {first_labels.shape}\")\n",
        "print(\"\\nfeatures look like this:\\n\")\n",
        "first_features"
      ]
    },
    {
      "cell_type": "markdown",
      "metadata": {
        "id": "7t4yAx2UaQ43"
      },
      "source": [
        "**Expected Output:**\n",
        "\n",
        "```\n",
        "labels have shape: (5, 3211)\n",
        "\n",
        "features look like this:\n",
        "\n",
        "array([[  0,   0,   0,  34],\n",
        "       [  0,   0,  34, 417],\n",
        "       [  0,  34, 417, 877],\n",
        "       [ 34, 417, 877, 166],\n",
        "       [417, 877, 166, 213]], dtype=int32)\n",
        "```"
      ]
    },
    {
      "cell_type": "code",
      "execution_count": null,
      "metadata": {
        "id": "GRTuLEt3bRKa",
        "tags": [
          "graded"
        ],
        "colab": {
          "base_uri": "https://localhost:8080/"
        },
        "outputId": "c0b63637-99ad-459d-b489-2f7ce65c91d3"
      },
      "outputs": [
        {
          "output_type": "stream",
          "name": "stdout",
          "text": [
            "features have shape: (15462, 10)\n",
            "labels have shape: (15462, 3211)\n"
          ]
        }
      ],
      "source": [
        "# Split the whole corpus\n",
        "features, labels = features_and_labels(input_sequences, total_words)\n",
        "\n",
        "print(f\"features have shape: {features.shape}\")\n",
        "print(f\"labels have shape: {labels.shape}\")"
      ]
    },
    {
      "cell_type": "markdown",
      "metadata": {
        "id": "xXSMK_HpdLns"
      },
      "source": [
        "**Expected Output:**\n",
        "\n",
        "```\n",
        "features have shape: (15462, 10)\n",
        "labels have shape: (15462, 3211)\n",
        "```"
      ]
    },
    {
      "cell_type": "markdown",
      "metadata": {
        "id": "ltxaOCE_aU6J"
      },
      "source": [
        "## Create the model\n",
        "\n",
        "Now you should define a model architecture capable of achieving an accuracy of at least 80%.\n",
        "\n",
        "Some hints to help you in this task:\n",
        "\n",
        "- An appropriate `output_dim` for the first layer (Embedding) is 100, this is already provided for you.\n",
        "- A Bidirectional LSTM is helpful for this particular problem.\n",
        "- The last layer should have the same number of units as the total number of words in the corpus and a softmax activation function.\n",
        "- This problem can be solved with only two layers (excluding the Embedding) so try out small architectures first."
      ]
    },
    {
      "cell_type": "code",
      "execution_count": null,
      "metadata": {
        "cellView": "code",
        "id": "XrE6kpJFfvRY",
        "tags": [
          "graded"
        ]
      },
      "outputs": [],
      "source": [
        "# GRADED FUNCTION: create_model\n",
        "def create_model(total_words, max_sequence_len):\n",
        "    \"\"\"\n",
        "    Creates a text generator model\n",
        "    \n",
        "    Args:\n",
        "        total_words (int): size of the vocabulary for the Embedding layer input\n",
        "        max_sequence_len (int): length of the input sequences\n",
        "    \n",
        "    Returns:\n",
        "        model (tf.keras Model): the text generator model\n",
        "    \"\"\"\n",
        "    model = Sequential()\n",
        "    ### START CODE HERE\n",
        "    model.add(Embedding(total_words, 100, input_length=max_sequence_len-1))\n",
        "    model.add(Bidirectional(LSTM(20)))\n",
        "    model.add(Dense(total_words, activation='softmax'))\n",
        "\n",
        "    # Compile the model\n",
        "    model.compile(loss='categorical_crossentropy',\n",
        "                  optimizer='adam',\n",
        "                  metrics=['accuracy'])\n",
        "    \n",
        "    ### END CODE HERE\n",
        "\n",
        "    return model"
      ]
    },
    {
      "cell_type": "code",
      "execution_count": null,
      "metadata": {
        "id": "0IpX_Gu_gISk",
        "tags": [],
        "colab": {
          "base_uri": "https://localhost:8080/"
        },
        "outputId": "a4e36032-2d22-4aab-963f-e9a602aba082"
      },
      "outputs": [
        {
          "output_type": "stream",
          "name": "stdout",
          "text": [
            "Epoch 1/50\n",
            "484/484 [==============================] - 9s 7ms/step - loss: 0.9227 - accuracy: 0.9949\n",
            "Epoch 2/50\n",
            "484/484 [==============================] - 3s 7ms/step - loss: 0.0128 - accuracy: 0.9993\n",
            "Epoch 3/50\n",
            "484/484 [==============================] - 3s 7ms/step - loss: 0.0097 - accuracy: 0.9993\n",
            "Epoch 4/50\n",
            "484/484 [==============================] - 3s 7ms/step - loss: 0.0084 - accuracy: 0.9993\n",
            "Epoch 5/50\n",
            "484/484 [==============================] - 3s 7ms/step - loss: 0.0073 - accuracy: 0.9993\n",
            "Epoch 6/50\n",
            "484/484 [==============================] - 3s 7ms/step - loss: 0.0065 - accuracy: 0.9993\n",
            "Epoch 7/50\n",
            "484/484 [==============================] - 3s 7ms/step - loss: 0.0058 - accuracy: 0.9993\n",
            "Epoch 8/50\n",
            "484/484 [==============================] - 3s 7ms/step - loss: 0.0054 - accuracy: 0.9993\n",
            "Epoch 9/50\n",
            "484/484 [==============================] - 3s 7ms/step - loss: 0.0049 - accuracy: 0.9993\n",
            "Epoch 10/50\n",
            "484/484 [==============================] - 3s 7ms/step - loss: 0.0044 - accuracy: 0.9993\n",
            "Epoch 11/50\n",
            "484/484 [==============================] - 3s 7ms/step - loss: 0.0042 - accuracy: 0.9993\n",
            "Epoch 12/50\n",
            "484/484 [==============================] - 3s 7ms/step - loss: 0.0038 - accuracy: 0.9993\n",
            "Epoch 13/50\n",
            "484/484 [==============================] - 3s 7ms/step - loss: 0.0036 - accuracy: 0.9993\n",
            "Epoch 14/50\n",
            "484/484 [==============================] - 3s 7ms/step - loss: 0.0033 - accuracy: 0.9993\n",
            "Epoch 15/50\n",
            "484/484 [==============================] - 3s 7ms/step - loss: 0.0029 - accuracy: 0.9993\n",
            "Epoch 16/50\n",
            "484/484 [==============================] - 3s 7ms/step - loss: 0.0025 - accuracy: 0.9993\n",
            "Epoch 17/50\n",
            "484/484 [==============================] - 3s 7ms/step - loss: 0.0020 - accuracy: 0.9993\n",
            "Epoch 18/50\n",
            "484/484 [==============================] - 3s 7ms/step - loss: 0.0017 - accuracy: 0.9994\n",
            "Epoch 19/50\n",
            "484/484 [==============================] - 3s 7ms/step - loss: 0.0016 - accuracy: 0.9995\n",
            "Epoch 20/50\n",
            "484/484 [==============================] - 3s 7ms/step - loss: 0.0014 - accuracy: 0.9995\n",
            "Epoch 21/50\n",
            "484/484 [==============================] - 3s 7ms/step - loss: 0.0014 - accuracy: 0.9995\n",
            "Epoch 22/50\n",
            "484/484 [==============================] - 3s 7ms/step - loss: 0.0012 - accuracy: 0.9995\n",
            "Epoch 23/50\n",
            "484/484 [==============================] - 3s 7ms/step - loss: 0.0012 - accuracy: 0.9995\n",
            "Epoch 24/50\n",
            "484/484 [==============================] - 3s 7ms/step - loss: 0.0011 - accuracy: 0.9997\n",
            "Epoch 25/50\n",
            "484/484 [==============================] - 3s 7ms/step - loss: 0.0010 - accuracy: 0.9996\n",
            "Epoch 26/50\n",
            "484/484 [==============================] - 3s 7ms/step - loss: 9.0719e-04 - accuracy: 0.9997\n",
            "Epoch 27/50\n",
            "484/484 [==============================] - 3s 7ms/step - loss: 8.4100e-04 - accuracy: 0.9998\n",
            "Epoch 28/50\n",
            "484/484 [==============================] - 3s 7ms/step - loss: 7.7533e-04 - accuracy: 0.9997\n",
            "Epoch 29/50\n",
            "484/484 [==============================] - 3s 7ms/step - loss: 6.9781e-04 - accuracy: 0.9999\n",
            "Epoch 30/50\n",
            "484/484 [==============================] - 3s 7ms/step - loss: 6.3965e-04 - accuracy: 0.9999\n",
            "Epoch 31/50\n",
            "484/484 [==============================] - 3s 7ms/step - loss: 5.7730e-04 - accuracy: 0.9999\n",
            "Epoch 32/50\n",
            "484/484 [==============================] - 3s 7ms/step - loss: 5.2149e-04 - accuracy: 0.9999\n",
            "Epoch 33/50\n",
            "484/484 [==============================] - 3s 7ms/step - loss: 4.6274e-04 - accuracy: 0.9998\n",
            "Epoch 34/50\n",
            "484/484 [==============================] - 3s 7ms/step - loss: 4.0440e-04 - accuracy: 0.9999\n",
            "Epoch 35/50\n",
            "484/484 [==============================] - 3s 7ms/step - loss: 3.5977e-04 - accuracy: 0.9999\n",
            "Epoch 36/50\n",
            "484/484 [==============================] - 3s 7ms/step - loss: 3.0047e-04 - accuracy: 0.9999\n",
            "Epoch 37/50\n",
            "484/484 [==============================] - 3s 7ms/step - loss: 2.5068e-04 - accuracy: 1.0000\n",
            "Epoch 38/50\n",
            "484/484 [==============================] - 3s 7ms/step - loss: 2.2205e-04 - accuracy: 1.0000\n",
            "Epoch 39/50\n",
            "484/484 [==============================] - 3s 7ms/step - loss: 1.9328e-04 - accuracy: 1.0000\n",
            "Epoch 40/50\n",
            "484/484 [==============================] - 3s 7ms/step - loss: 1.6420e-04 - accuracy: 1.0000\n",
            "Epoch 41/50\n",
            "484/484 [==============================] - 3s 7ms/step - loss: 1.4396e-04 - accuracy: 1.0000\n",
            "Epoch 42/50\n",
            "484/484 [==============================] - 3s 7ms/step - loss: 1.2041e-04 - accuracy: 1.0000\n",
            "Epoch 43/50\n",
            "484/484 [==============================] - 3s 7ms/step - loss: 1.0309e-04 - accuracy: 1.0000\n",
            "Epoch 44/50\n",
            "484/484 [==============================] - 3s 7ms/step - loss: 9.0800e-05 - accuracy: 1.0000\n",
            "Epoch 45/50\n",
            "484/484 [==============================] - 3s 7ms/step - loss: 7.5520e-05 - accuracy: 1.0000\n",
            "Epoch 46/50\n",
            "484/484 [==============================] - 3s 7ms/step - loss: 6.4775e-05 - accuracy: 1.0000\n",
            "Epoch 47/50\n",
            "484/484 [==============================] - 3s 7ms/step - loss: 5.4987e-05 - accuracy: 1.0000\n",
            "Epoch 48/50\n",
            "484/484 [==============================] - 3s 7ms/step - loss: 4.5518e-05 - accuracy: 1.0000\n",
            "Epoch 49/50\n",
            "484/484 [==============================] - 3s 7ms/step - loss: 4.0823e-05 - accuracy: 1.0000\n",
            "Epoch 50/50\n",
            "484/484 [==============================] - 3s 7ms/step - loss: 4.2082e-05 - accuracy: 1.0000\n"
          ]
        }
      ],
      "source": [
        "# Get the untrained model\n",
        "model = create_model(total_words, max_sequence_len)\n",
        "\n",
        "# Train the model\n",
        "history = model.fit(features, labels, epochs=50, verbose=1)"
      ]
    },
    {
      "cell_type": "markdown",
      "metadata": {
        "id": "gy72RPgly55q"
      },
      "source": [
        "**To pass this assignment, your model should achieve a training accuracy of at least 80%**. If your model didn't achieve this threshold, try training again with a different model architecture, consider increasing the number of unit in your `LSTM` layer."
      ]
    },
    {
      "cell_type": "code",
      "execution_count": null,
      "metadata": {
        "id": "1fXTEO3GJ282",
        "tags": [],
        "colab": {
          "base_uri": "https://localhost:8080/",
          "height": 545
        },
        "outputId": "ea93383c-687f-4278-b772-c322b0891afa"
      },
      "outputs": [
        {
          "output_type": "display_data",
          "data": {
            "text/plain": [
              "<Figure size 432x288 with 1 Axes>"
            ],
            "image/png": "[encoded data removed]"
          },
          "metadata": {
            "needs_background": "light"
          }
        },
        {
          "output_type": "display_data",
          "data": {
            "text/plain": [
              "<Figure size 432x288 with 1 Axes>"
            ],
            "image/png": "[encoded data removed]"
          },
          "metadata": {
            "needs_background": "light"
          }
        }
      ],
      "source": [
        "# Take a look at the training curves of your model\n",
        "\n",
        "acc = history.history['accuracy']\n",
        "loss = history.history['loss']\n",
        "\n",
        "epochs = range(len(acc))\n",
        "\n",
        "plt.plot(epochs, acc, 'b', label='Training accuracy')\n",
        "plt.title('Training accuracy')\n",
        "\n",
        "plt.figure()\n",
        "\n",
        "plt.plot(epochs, loss, 'b', label='Training Loss')\n",
        "plt.title('Training loss')\n",
        "plt.legend()\n",
        "\n",
        "plt.show()"
      ]
    },
    {
      "cell_type": "markdown",
      "metadata": {
        "id": "OjvED5A3qrn2"
      },
      "source": [
        "Before closing the assignment, be sure to also download the `history.pkl` file which contains the information of the training history of your model and will be used to compute your grade. You can download this file by running the cell below:"
      ]
    },
    {
      "cell_type": "code",
      "execution_count": null,
      "metadata": {
        "id": "9QRG73l6qE-c",
        "tags": [],
        "colab": {
          "base_uri": "https://localhost:8080/",
          "height": 17
        },
        "outputId": "3809baa4-f86b-4853-bdea-a8498b5edc70"
      },
      "outputs": [
        {
          "output_type": "display_data",
          "data": {
            "text/plain": [
              "<IPython.core.display.Javascript object>"
            ],
            "application/javascript": [
              "\n",
              "    async function download(id, filename, size) {\n",
              "      if (!google.colab.kernel.accessAllowed) {\n",
              "        return;\n",
              "      }\n",
              "      const div = document.createElement('div');\n",
              "      const label = document.createElement('label');\n",
              "      label.textContent = `Downloading \"${filename}\": `;\n",
              "      div.appendChild(label);\n",
              "      const progress = document.createElement('progress');\n",
              "      progress.max = size;\n",
              "      div.appendChild(progress);\n",
              "      document.body.appendChild(div);\n",
              "\n",
              "      const buffers = [];\n",
              "      let downloaded = 0;\n",
              "\n",
              "      const channel = await google.colab.kernel.comms.open(id);\n",
              "      // Send a message to notify the kernel that we're ready.\n",
              "      channel.send({})\n",
              "\n",
              "      for await (const message of channel.messages) {\n",
              "        // Send a message to notify the kernel that we're ready.\n",
              "        channel.send({})\n",
              "        if (message.buffers) {\n",
              "          for (const buffer of message.buffers) {\n",
              "            buffers.push(buffer);\n",
              "            downloaded += buffer.byteLength;\n",
              "            progress.value = downloaded;\n",
              "          }\n",
              "        }\n",
              "      }\n",
              "      const blob = new Blob(buffers, {type: 'application/binary'});\n",
              "      const a = document.createElement('a');\n",
              "      a.href = window.URL.createObjectURL(blob);\n",
              "      a.download = filename;\n",
              "      div.appendChild(a);\n",
              "      a.click();\n",
              "      div.remove();\n",
              "    }\n",
              "  "
            ]
          },
          "metadata": {}
        },
        {
          "output_type": "display_data",
          "data": {
            "text/plain": [
              "<IPython.core.display.Javascript object>"
            ],
            "application/javascript": [
              "download(\"download_0429d52e-4633-4291-806d-99ec5be72b8b\", \"history.pkl\", 944)"
            ]
          },
          "metadata": {}
        }
      ],
      "source": [
        "def download_history():\n",
        "  import pickle\n",
        "  from google.colab import files\n",
        "\n",
        "  with open('history.pkl', 'wb') as f:\n",
        "    pickle.dump(history.history, f)\n",
        "\n",
        "  files.download('history.pkl')\n",
        "\n",
        "download_history()"
      ]
    },
    {
      "cell_type": "markdown",
      "metadata": {
        "id": "wdsMszk9zBs_"
      },
      "source": [
        "## See your model in action\n",
        "\n",
        "After all your work it is finally time to see your model generating text. \n",
        "\n",
        "Run the cell below to generate the next 100 words of a seed text.\n",
        "\n",
        "After submitting your assignment you are encouraged to try out training for different amounts of epochs and seeing how this affects the coherency of the generated text. Also try changing the seed text to see what you get!"
      ]
    },
    {
      "cell_type": "code",
      "execution_count": null,
      "metadata": {
        "id": "6Vc6PHgxa6Hm",
        "tags": [],
        "colab": {
          "base_uri": "https://localhost:8080/",
          "height": 235
        },
        "outputId": "bee68528-c2f8-43a9-c95b-eb61988d2aee"
      },
      "outputs": [
        {
          "output_type": "error",
          "ename": "KeyError",
          "evalue": "ignored",
          "traceback": [
            "\u001b[0;31m---------------------------------------------------------------------------\u001b[0m",
            "\u001b[0;31mKeyError\u001b[0m                                  Traceback (most recent call last)",
            "\u001b[0;32m<ipython-input-47-59948ffd8861>\u001b[0m in \u001b[0;36m<module>\u001b[0;34m\u001b[0m\n\u001b[1;32m     12\u001b[0m         \u001b[0mpredicted\u001b[0m \u001b[0;34m=\u001b[0m \u001b[0mnp\u001b[0m\u001b[0;34m.\u001b[0m\u001b[0margmax\u001b[0m\u001b[0;34m(\u001b[0m\u001b[0mpredicted\u001b[0m\u001b[0;34m,\u001b[0m \u001b[0maxis\u001b[0m\u001b[0;34m=\u001b[0m\u001b[0;34m-\u001b[0m\u001b[0;36m1\u001b[0m\u001b[0;34m)\u001b[0m\u001b[0;34m.\u001b[0m\u001b[0mitem\u001b[0m\u001b[0;34m(\u001b[0m\u001b[0;34m)\u001b[0m\u001b[0;34m\u001b[0m\u001b[0;34m\u001b[0m\u001b[0m\n\u001b[1;32m     13\u001b[0m         \u001b[0;31m# Get the actual word from the word index\u001b[0m\u001b[0;34m\u001b[0m\u001b[0;34m\u001b[0m\u001b[0;34m\u001b[0m\u001b[0m\n\u001b[0;32m---> 14\u001b[0;31m         \u001b[0moutput_word\u001b[0m \u001b[0;34m=\u001b[0m \u001b[0mtokenizer\u001b[0m\u001b[0;34m.\u001b[0m\u001b[0mindex_word\u001b[0m\u001b[0;34m[\u001b[0m\u001b[0mpredicted\u001b[0m\u001b[0;34m]\u001b[0m\u001b[0;34m\u001b[0m\u001b[0;34m\u001b[0m\u001b[0m\n\u001b[0m\u001b[1;32m     15\u001b[0m         \u001b[0;31m# Append to the current text\u001b[0m\u001b[0;34m\u001b[0m\u001b[0;34m\u001b[0m\u001b[0;34m\u001b[0m\u001b[0m\n\u001b[1;32m     16\u001b[0m         \u001b[0mseed_text\u001b[0m \u001b[0;34m+=\u001b[0m \u001b[0;34m\" \"\u001b[0m \u001b[0;34m+\u001b[0m \u001b[0moutput_word\u001b[0m\u001b[0;34m\u001b[0m\u001b[0;34m\u001b[0m\u001b[0m\n",
            "\u001b[0;31mKeyError\u001b[0m: 0"
          ]
        }
      ],
      "source": [
        "seed_text = \"Help me Obi Wan Kenobi, you're my only hope\"\n",
        "next_words = 100\n",
        "  \n",
        "for _ in range(next_words):\n",
        "\t# Convert the text into sequences\n",
        "\ttoken_list = tokenizer.texts_to_sequences([seed_text])[0]\n",
        "\t# Pad the sequences\n",
        "\ttoken_list = pad_sequences([token_list], maxlen=max_sequence_len-1, padding='pre')\n",
        "\t# Get the probabilities of predicting a word\n",
        "\tpredicted = model.predict(token_list, verbose=0)\n",
        "\t# Choose the next word based on the maximum probability\n",
        "\tpredicted = np.argmax(predicted, axis=-1).item()\n",
        "\t# Get the actual word from the word index\n",
        "\toutput_word = tokenizer.index_word[predicted]\n",
        "\t# Append to the current text\n",
        "\tseed_text += \" \" + output_word\n",
        "\n",
        "print(seed_text)"
      ]
    },
    {
      "cell_type": "markdown",
      "metadata": {
        "id": "oQVDbdcYqSux"
      },
      "source": [
        "You will also need to submit this notebook for grading. To download it, click on the File tab in the upper left corner of the screen then click on Download -> Download .ipynb. You can name it anything you want as long as it is a valid .ipynb (jupyter notebook) file.\n",
        "\n",
        "**Congratulations on finishing this week's assignment!**\n",
        "\n",
        "You have successfully implemented a neural network capable of predicting the next word in a sequence of text!\n",
        "\n",
        "**We hope to see you in the next course of the specialization! Keep it up!**"
      ]
    }
  ],
  "metadata": {
    "accelerator": "GPU",
    "dlai_version": "1.2.0",
    "jupytext": {
      "main_language": "python"
    },
    "kernelspec": {
      "display_name": "Python 3",
      "language": "python",
      "name": "python3"
    },
    "language_info": {
      "codemirror_mode": {
        "name": "ipython",
        "version": 3
      },
      "file_extension": ".py",
      "mimetype": "text/x-python",
      "name": "python",
      "nbconvert_exporter": "python",
      "pygments_lexer": "ipython3",
      "version": "3.7.4"
    },
    "colab": {
      "provenance": []
    }
  },
  "nbformat": 4,
  "nbformat_minor": 0
}