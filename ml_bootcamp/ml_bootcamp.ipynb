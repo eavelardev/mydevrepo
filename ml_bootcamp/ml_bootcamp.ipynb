{
 "cells": [
  {
   "cell_type": "markdown",
   "metadata": {},
   "source": [
    "### Machine Learning Bootcamp\n",
    "Google Developers\n",
    "\n",
    "[https://rsvp.withgoogle.com/events/ml-bootcamp-sp-22](https://rsvp.withgoogle.com/events/ml-bootcamp-sp-22)\n",
    "\n",
    "[https://rsvp.withgoogle.com/events/google-machine-learning-bootcamp_europe](https://rsvp.withgoogle.com/events/google-machine-learning-bootcamp_europe)"
   ]
  },
  {
   "cell_type": "markdown",
   "metadata": {},
   "source": [
    "#### Schedule\n",
    "\n",
    "- Announcement: June 22th, 2022 \n",
    "- Program Start: July 1th, 2022\n",
    "- Program Ends: October 30, 2022"
   ]
  },
  {
   "cell_type": "markdown",
   "metadata": {},
   "source": [
    "#### Bootcamp Content"
   ]
  },
  {
   "cell_type": "markdown",
   "metadata": {},
   "source": [
    "##### 1. Deep Learning Specialization - [link](https://www.coursera.org/specializations/deep-learning)\n",
    "\n",
    "**Courses**\n",
    "1. Neural Networks and Deep Learning - [link](https://www.coursera.org/learn/neural-networks-deep-learning)\n",
    "2. Improving Deep Neural Networks: Hyperparameter Tuning, Regularization and Optimization - [link](https://www.coursera.org/learn/deep-neural-network)\n",
    "3. Structuring Machine Learning Projects - [link](https://www.coursera.org/learn/machine-learning-projects)\n",
    "4. Convolutional Neural Networks - [link](https://www.coursera.org/learn/convolutional-neural-networks)\n",
    "5. Sequence Models - [link](https://www.coursera.org/learn/nlp-sequence-models)"
   ]
  },
  {
   "cell_type": "markdown",
   "metadata": {},
   "source": [
    "##### 2. TensorFlow Developer Certificate - [link](https://www.tensorflow.org/certificate)\n",
    "\n",
    "**Resources**\n",
    "\n",
    "- TensorFlow Developer Certificate_ Candidate Handbook - [link](https://www.tensorflow.org/extras/cert/TF_Certificate_Candidate_Handbook.pdf)\n",
    "- Coursera - DeepLearning.AI TensorFlow Developer Professional Certificate - [link](https://www.coursera.org/professional-certificates/tensorflow-in-practice)\n",
    "- Udacity - Intro to TensorFlow for Deep Learning - [link](https://www.udacity.com/course/intro-to-tensorflow-for-deep-learning--ud187)\n",
    "- Tensorflow - Learn ML_ Master your path - [link](https://www.tensorflow.org/resources/learn-ml)\n",
    "- Udemy - TensorFlow Developer Certificate in 2022: Zero to Mastery - [link](https://www.udemy.com/course/tensorflow-developer-certificate-machine-learning-zero-to-mastery/)\n"
   ]
  },
  {
   "cell_type": "markdown",
   "metadata": {},
   "source": [
    "##### Professional Data Engineer - [link](https://cloud.google.com/certification/data-engineer)\n",
    "\n",
    "**Resources**\n",
    "\n",
    "- Data Engineer learning path - [link](https://cloud.google.com/training/data-engineering-and-analytics)\n",
    "- Coursera - Preparing for Google Cloud Certification: Cloud Data Engineer Professional Certificate - [link](https://www.coursera.org/professional-certificates/gcp-data-engineering)\n",
    "    1. Google Cloud Big Data and Machine Learning Fundamentals [link](https://www.coursera.org/learn/gcp-big-data-ml-fundamentals)\n",
    "    2. Modernizing Data Lakes and Data Warehouses with Google Cloud [link](https://www.coursera.org/learn/data-lakes-data-warehouses-gcp)\n",
    "    3. Building Batch Data Pipelines on GCP [link](https://www.coursera.org/learn/batch-data-pipelines-gcp)\n",
    "    4. Building Resilient Streaming Analytics Systems on Google Cloud [link](https://www.coursera.org/learn/streaming-analytics-systems-gcp)\n",
    "    5. Smart Analytics, Machine Learning, and AI on GCP [link](https://www.coursera.org/learn/smart-analytics-machine-learning-ai-gcp)\n",
    "    6. Preparing for the Google Cloud Professional Data Engineer Exam [link](https://www.coursera.org/learn/preparing-cloud-professional-data-engineer-exam)\n"
   ]
  },
  {
   "cell_type": "markdown",
   "metadata": {},
   "source": [
    "##### Professional Machine Learning Engineer - [link](https://cloud.google.com/certification/machine-learning-engineer)\n",
    "\n",
    "**Resources**\n",
    "\n",
    "- Data Scientist / Machine Learning Engineer learning path - [link](https://cloud.google.com/training/machinelearning-ai)\n",
    "- Machine Learning Engineer Learning Path - [link](https://www.cloudskillsboost.google/paths/17)\n",
    "- Coursera - Preparing for Google Cloud Certification: Machine Learning Engineer Professional Certificate - [link](https://www.coursera.org/professional-certificates/preparing-for-google-cloud-machine-learning-engineer-professional-certificate)\n",
    "    1. Google Cloud Big Data and Machine Learning Fundamentals [link](https://www.coursera.org/learn/gcp-big-data-ml-fundamentals)\n",
    "    2. How Google does Machine Learning [link](https://www.coursera.org/learn/google-machine-learning)\n",
    "    3. Launching into Machine Learning [link](https://www.coursera.org/learn/launching-machine-learning)\n",
    "    4. TensorFlow on Google Cloud [link](https://www.coursera.org/learn/intro-tensorflow)\n",
    "    5. Feature Engineering [link](https://www.coursera.org/learn/feature-engineering)\n",
    "    6. Machine Learning in the Enterprise [link](https://www.coursera.org/learn/art-science-ml)\n",
    "    7. Production Machine Learning Systems [link](https://www.coursera.org/learn/gcp-production-ml-systems)\n",
    "    8. MLOps (Machine Learning Operations) Fundamentals [link](https://www.coursera.org/learn/mlops-fundamentals)\n",
    "    9. ML Pipelines on Google Cloud [link](https://www.coursera.org/learn/ml-pipelines-google-cloud)\n"
   ]
  },
  {
   "cell_type": "markdown",
   "metadata": {},
   "source": [
    "##### 3. Kaggle\n",
    "\n",
    "**Resources**\n",
    "- The Kaggle Book"
   ]
  },
  {
   "cell_type": "markdown",
   "metadata": {},
   "source": [
    "##### 4. ML Network\n",
    "- Tech Talk\n",
    "- Career Talk/Resume Clinic\n",
    "- Meetup"
   ]
  }
 ],
 "metadata": {
  "language_info": {
   "name": "python"
  },
  "orig_nbformat": 4
 },
 "nbformat": 4,
 "nbformat_minor": 2
}
